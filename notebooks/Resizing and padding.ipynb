{
 "cells": [
  {
   "cell_type": "markdown",
   "metadata": {},
   "source": [
    "# Resizing and padding"
   ]
  },
  {
   "cell_type": "code",
   "execution_count": 1,
   "metadata": {},
   "outputs": [],
   "source": [
    "%load_ext autoreload\n",
    "%autoreload 2\n",
    "%load_ext tensorboard"
   ]
  },
  {
   "cell_type": "code",
   "execution_count": 2,
   "metadata": {},
   "outputs": [],
   "source": [
    "import os\n",
    "from os.path import join,exists\n",
    "from tensorboard import program\n",
    "import datetime\n",
    "import numpy as np\n",
    "import pandas as pd\n",
    "import cv2\n",
    "import pickle\n",
    "from tqdm import tqdm\n",
    "from PIL import Image\n",
    "from random import randint\n",
    "import matplotlib.pyplot as plt\n",
    "\n",
    "import tensorflow as tf\n",
    "\n",
    "\n",
    "\n",
    "from tensorflow import convert_to_tensor\n",
    "import tensorflow.keras.backend as K\n",
    "from tensorflow.keras.models import  load_model,Model\n",
    "from tensorflow.keras import applications\n",
    "from tensorflow.keras.layers import Lambda,Input,Dropout, Activation, Dense, GlobalMaxPooling2D,Conv2D,Flatten,MaxPooling2D,InputLayer\n",
    "from tensorflow.keras.utils import to_categorical\n",
    "\n",
    "from efficientnet.tfkeras import EfficientNetB7\n",
    "from tensorflow.keras import datasets\n",
    "from foolbox.attacks import LinfFastGradientAttack,LinfDeepFoolAttack\n",
    "from foolbox.distances import LpDistance\n",
    "from foolbox.models import TensorFlowModel\n",
    "from foolbox import criteria\n",
    "from sklearn.metrics import classification_report,plot_roc_curve\n",
    "\n",
    "from art.attacks.evasion import SaliencyMapMethod\n",
    "from art.estimators.classification import TensorFlowV2Classifier\n",
    "from art.attacks.evasion import BoundaryAttack\n",
    "from art.utils import load_dataset #to play with cifar images\n",
    "from tensorflow.keras.layers.experimental import preprocessing\n",
    "gpus = tf.config.experimental.list_physical_devices('GPU')\n",
    "tf.config.experimental.set_virtual_device_configuration(\n",
    "    gpus[0],\n",
    "    [tf.config.experimental.VirtualDeviceConfiguration(memory_limit=4*1024)]\n",
    ")"
   ]
  },
  {
   "cell_type": "code",
   "execution_count": 3,
   "metadata": {},
   "outputs": [],
   "source": [
    "tf.config.run_functions_eagerly(True)"
   ]
  },
  {
   "cell_type": "markdown",
   "metadata": {},
   "source": [
    "## 1. Load Data"
   ]
  },
  {
   "cell_type": "code",
   "execution_count": 4,
   "metadata": {},
   "outputs": [],
   "source": [
    "data_mnist=datasets.mnist.load_data(path='mnist.npz')\n",
    "X_train_mnist,y_train_mnist=data_mnist[0][0],data_mnist[0][1]\n",
    "X_test_mnist,y_test_mnist=data_mnist[1][0],data_mnist[1][1]\n",
    "y_train_mnist = to_categorical(y_train_mnist, 10)\n",
    "y_test_mnist = to_categorical(y_test_mnist, 10)\n",
    "\n",
    "\"\"\" Train \"\"\"\n",
    "X_train_img_mnist = np.full((60000, 32, 32, 3), 0)\n",
    "for i, s in enumerate(X_train_mnist):\n",
    "    X_train_img_mnist[i] = cv2.cvtColor(np.pad(s,2), cv2.COLOR_GRAY2RGB) \n",
    "    \n",
    "\"\"\" Test \"\"\"\n",
    "X_test_img_mnist = np.full((10000, 32, 32, 3), 0)\n",
    "for i, s in enumerate(X_test_mnist):\n",
    "    X_test_img_mnist[i] = cv2.cvtColor(np.pad(s,2), cv2.COLOR_GRAY2RGB) \n",
    "    \n",
    "X_train_mnist=X_train_img_mnist\n",
    "X_test_mnist= X_test_img_mnist"
   ]
  },
  {
   "cell_type": "code",
   "execution_count": 5,
   "metadata": {},
   "outputs": [],
   "source": [
    "(X_train_cifar, y_train_cifar), (X_test_cifar, y_test_cifar), _,_=load_dataset('cifar10')\n",
    "for i, im in enumerate(X_train_cifar):\n",
    "    X_train_cifar[i]=255*im\n",
    "for i, im in enumerate(X_test_cifar):\n",
    "    X_test_cifar[i]=255*im    \n",
    "\n",
    "\n",
    "dict_classes={}\n",
    "dict_classes[0]='airplane'\n",
    "dict_classes[1]='automobile'\n",
    "dict_classes[2]='bird'\n",
    "dict_classes[3]='cat'\n",
    "dict_classes[4]='deer'\n",
    "dict_classes[5]='dog'\n",
    "dict_classes[6]='frog'\n",
    "dict_classes[7]='horse'\n",
    "dict_classes[8]='ship'\n",
    "dict_classes[9]='truck'"
   ]
  },
  {
   "cell_type": "code",
   "execution_count": 6,
   "metadata": {},
   "outputs": [],
   "source": [
    "def pick_data_set(name):\n",
    "    \n",
    "    if name=='Mnist':\n",
    "        X_train=X_train_mnist\n",
    "        X_test= X_test_mnist\n",
    "        y_train = y_train_mnist\n",
    "        y_test= y_test_mnist\n",
    "\n",
    "    elif name=='Cifar':\n",
    "        X_train=X_train_cifar\n",
    "        X_test= X_test_cifar\n",
    "        y_train = y_train_cifar\n",
    "        y_test= y_test_cifar    \n",
    "        \n",
    "    return(X_train,X_test,y_train,y_test)\n",
    "    "
   ]
  },
  {
   "cell_type": "markdown",
   "metadata": {},
   "source": [
    "## 2. Load models"
   ]
  },
  {
   "cell_type": "markdown",
   "metadata": {},
   "source": [
    "Nous allons comparer les attaques sur efficientNet,VGG   \n",
    "\n",
    "\n",
    "Afin de tester certaines attaques plus longues (comme JSMA) nous créons également un petit modèle "
   ]
  },
  {
   "cell_type": "markdown",
   "metadata": {},
   "source": [
    "### Model with defense"
   ]
  },
  {
   "cell_type": "code",
   "execution_count": 7,
   "metadata": {},
   "outputs": [],
   "source": [
    "class ResizePad(tf.keras.layers.Layer):\n",
    "    def __init__(self):\n",
    "        super(ResizePad,self).__init__()\n",
    "       \n",
    "        \n",
    "    def resize_and_pad(self,image):\n",
    "        new_size=randint(13,27)\n",
    "        left_offset=randint(0,32-new_size)\n",
    "        top_offset=randint(0,32-new_size)\n",
    "        image=tf.cast(image,dtype='float32')\n",
    "        paddings = tf.constant([[0,0],[top_offset,32-top_offset-new_size],[left_offset,32-left_offset-new_size],[0,0]])\n",
    "        image=tf.image.resize(image, [new_size,new_size], method='nearest', preserve_aspect_ratio=True)\n",
    "        image=tf.pad(image, paddings, mode='CONSTANT', constant_values=0, name=None)\n",
    "        return(image)\n",
    "    \n",
    "    def call(self, x):\n",
    "        return self.resize_and_pad(x)\n"
   ]
  },
  {
   "cell_type": "code",
   "execution_count": 8,
   "metadata": {},
   "outputs": [],
   "source": [
    "def train_and_save_effnet(data_set_name):\n",
    "    (X_train,X_test,y_train,y_test)=pick_data_set(data_set_name)\n",
    "    tf.keras.backend.clear_session()\n",
    "    effnet_base = EfficientNetB7(weights='imagenet', include_top=False, input_shape=(32, 32, 3))\n",
    "    effnet_base.trainable=True\n",
    "    x = GlobalMaxPooling2D(name='pool_1')(effnet_base.layers[-2].output)\n",
    "    x = Dropout(0.2, name=\"dropout_2\")(x)\n",
    "    x = Dense(32)(x)\n",
    "    x = Dense(10,name='fc_2')(x)\n",
    "    o = Activation('softmax', name='act_2')(x)\n",
    "    model_effnet = Model(inputs=effnet_base.input, outputs=[o])\n",
    "\n",
    "\n",
    "    \n",
    "    if exists('models/effnet_model_'+str(data_set_name)+'.h5')==False:\n",
    "        model_effnet.compile(\n",
    "            loss='categorical_crossentropy',\n",
    "            optimizer='nadam',\n",
    "            metrics=['accuracy']\n",
    "            )\n",
    "        history = model_effnet.fit(X_train, y_train,\n",
    "                      epochs=5,\n",
    "                      batch_size = 128,\n",
    "                      validation_split=0.1,\n",
    "                      shuffle=True,\n",
    "                      verbose=1)\n",
    "        model_effnet.save('models/effnet_model_'+str(data_set_name)+'.h5')\n",
    "\n",
    "    else:\n",
    "        model_effnet=load_model('models/effnet_model_'+str(data_set_name)+'.h5')\n",
    "        \n",
    "    return(model_effnet)\n",
    "    "
   ]
  },
  {
   "cell_type": "code",
   "execution_count": 9,
   "metadata": {},
   "outputs": [],
   "source": [
    "def create_model_with_defense(data_set_name):\n",
    "\n",
    "    (X_train,X_test,y_train,y_test)=pick_data_set(data_set_name)\n",
    "    model_without_def=train_and_save_effnet(data_set_name)\n",
    "    \n",
    "    \n",
    "    model_with_def = tf.keras.models.Sequential()\n",
    "    model_with_def.add(Input(shape=(32,32,3)))\n",
    "    model_with_def.add(ResizePad())\n",
    "    model_with_def.add(model_without_def)\n",
    "\n",
    "\n",
    "    model_with_def.compile(\n",
    "        loss='categorical_crossentropy',\n",
    "        optimizer='nadam',\n",
    "        metrics=['accuracy']\n",
    "        )\n",
    "    if exists('models/random_padding/'+str(data_set_name)+'.h5')==False:\n",
    "        history = model_with_def.fit(X_train, y_train,\n",
    "                      epochs=5,\n",
    "                      batch_size = 32,\n",
    "                      validation_split=0.1,\n",
    "                      shuffle=True,\n",
    "                      verbose=1)\n",
    "        model_with_def.save_weights('models/random_padding/'+str(data_set_name)+'.h5')\n",
    "    else:\n",
    "        model_with_def.load_weights('models/random_padding/'+str(data_set_name)+'.h5')\n",
    "          \n",
    "    \n",
    "    return(model_with_def)\n"
   ]
  },
  {
   "cell_type": "code",
   "execution_count": 10,
   "metadata": {},
   "outputs": [],
   "source": [
    "# model_with_def=create_model_with_defense('Mnist')\n",
    "# (X_train,X_test,y_train,y_test)=pick_data_set('Mnist')\n",
    "# desiredOutputs = model_with_def.layers[0].output\n",
    "# newModel = Model(model_with_def.inputs, desiredOutputs)\n",
    "\n",
    "# plt.figure(figsize=(25,25))\n",
    "# for i,image in enumerate(X_test[:9]): \n",
    "#     ax = plt.subplot(3, 3, i + 1)\n",
    "#     plt.imshow(np.squeeze(newModel.predict(np.expand_dims(X_test[i],axis=0))))\n",
    "#     plt.axis(\"off\")\n"
   ]
  },
  {
   "cell_type": "markdown",
   "metadata": {},
   "source": [
    "## 3. Useful functions"
   ]
  },
  {
   "cell_type": "markdown",
   "metadata": {},
   "source": [
    "Let's define the peformances metrics"
   ]
  },
  {
   "cell_type": "code",
   "execution_count": 11,
   "metadata": {},
   "outputs": [],
   "source": [
    "def DOC (x_adv_list,x_list): #degree of change\n",
    "    N=len(x_adv_list)\n",
    "    sum=0\n",
    "    for i in range (N):        \n",
    "        sum+=100*np.linalg.norm(np.reshape(x_adv_list[i] - x_list[i], -1),ord=1)/np.linalg.norm(np.reshape(x_list[i], -1),ord=1)\n",
    "    return(sum/N)\n",
    "\n",
    "def succes_rate (success_list):\n",
    "    success=len([i for i in success_list if i==True])\n",
    "    total=len(success_list)\n",
    "    return(success/total)"
   ]
  },
  {
   "cell_type": "markdown",
   "metadata": {},
   "source": [
    "##  4. Defense against white box attacks"
   ]
  },
  {
   "cell_type": "code",
   "execution_count": 12,
   "metadata": {},
   "outputs": [],
   "source": [
    "def attack_performances_computer(model_to_attack,predicting_model,attack, image_list, labels,epsilon):\n",
    "    model_to_attack=TensorFlowModel(model_to_attack , bounds=(0, 255))\n",
    "    success_on_attacked_model=[]\n",
    "    success_on_predicting_model=[]\n",
    "    adv_list=[]\n",
    "    labels=list(map(np.argmax,labels))\n",
    "    for i,image in enumerate(tqdm(image_list,position=0)):\n",
    "        image = np.asarray(image)[:,:,:3].astype('float32')\n",
    "        image = convert_to_tensor(np.expand_dims(image,axis=0))\n",
    "        label=labels[i]\n",
    "        label = tf.convert_to_tensor(np.array([label]))\n",
    "        _, clipped, is_adv = attack(model_to_attack,image,label,epsilons=epsilon)\n",
    "        success_on_attacked_model.append(bool(is_adv[0]))\n",
    "        adv_list.append(np.array(clipped[0]))\n",
    "        prediction=predicting_model.predict(clipped[0])\n",
    "        if np.argmax(prediction)!=labels[i]:\n",
    "            success_on_predicting_model.append(True)\n",
    "        else:\n",
    "            success_on_predicting_model.append(False)\n",
    "    DOC_attack=DOC(adv_list,image_list)\n",
    "    SR_on_attacked_model=succes_rate(success_on_attacked_model)\n",
    "    SR_on_predicting_model=succes_rate(success_on_predicting_model)\n",
    "    return(DOC_attack,SR_on_attacked_model,SR_on_predicting_model)\n"
   ]
  },
  {
   "cell_type": "code",
   "execution_count": 13,
   "metadata": {},
   "outputs": [],
   "source": [
    "def attack_runner(model_to_fool,image_list, labels_list, epislons_list):   \n",
    "    \n",
    "    \n",
    "    attack_FGSM=LinfFastGradientAttack()\n",
    "    \n",
    "    if len(labels_list[0])<=5:\n",
    "        labels_list=list(map(np.argmax,labels_list))\n",
    "\n",
    "    SR_FGSM_dic={}  \n",
    "\n",
    "\n",
    "    for epsilon in epislons_list:\n",
    "        print('======'+'epislon: '+str(epsilon)+'======')\n",
    "        DOC_FGSM,SR_FGSM,_=attack_performances_computer(model_to_fool,model_to_fool,attack_FGSM, image_list, labels_list,[epsilon])\n",
    "              \n",
    "        SR_FGSM_dic[DOC_FGSM]=SR_FGSM\n",
    "        \n",
    "    return(SR_FGSM_dic)"
   ]
  },
  {
   "cell_type": "code",
   "execution_count": 14,
   "metadata": {},
   "outputs": [],
   "source": [
    "def run_white_boxes(data_set_name):\n",
    "    (X_train,X_test,y_train,y_test)=pick_data_set(data_set_name)\n",
    "    print('====training model without padding====')\n",
    "    model_effnet=train_and_save_effnet(data_set_name)\n",
    "    print('====training model with padding====')\n",
    "    model_with_def=create_model_with_defense(data_set_name)\n",
    "    \n",
    "    model_without_def=model_effnet \n",
    "    \n",
    "    \n",
    "    if exists('data/efficiency_random_padding/random_padding_efficiency_'+str(data_set_name))==False:\n",
    "        print('====attacks on model with padding====')\n",
    "        SR_FGSM_dic_with_defense=attack_runner(model_with_def,X_test[:100], y_test[:100], [0.1,1,5,10,25,50,75,100])\n",
    "        \n",
    "        print('====attacks on model without padding====')\n",
    "        SR_FGSM_dic_without_defense=attack_runner(model_without_def,X_test[:100], y_test[:100], [0.1,1,5,10,25,50,75,100])\n",
    "        with open('data/efficiency_random_padding/random_padding_efficiency_'+str(data_set_name), 'wb') as f:\n",
    "            pickle.Pickler(f).dump(SR_FGSM_dic_with_defense)\n",
    "            pickle.Pickler(f).dump(SR_FGSM_dic_without_defense)\n",
    "    else:\n",
    "         with open('data/efficiency_random_padding/denosier_efficiency_white_box_'+str(data_set_name), 'rb') as f:\n",
    "            SR_FGSM_dic_with_defense=pickle.Unpickler(f).load()\n",
    "            SR_FGSM_dic_without_defense=pickle.Unpickler(f).load()\n",
    "            \n",
    "    return(SR_FGSM_dic_without_defense,SR_FGSM_dic_with_defense)\n",
    "            "
   ]
  },
  {
   "cell_type": "code",
   "execution_count": 15,
   "metadata": {},
   "outputs": [
    {
     "name": "stdout",
     "output_type": "stream",
     "text": [
      "====training model without padding====\n",
      "====training model with padding====\n",
      "====attacks on model with padding====\n",
      "======epislon: 0.1======\n",
      "WARNING:tensorflow:From /home/timotheerio/benchmark-adversarial-attacks/venv/lib/python3.6/site-packages/foolbox/models/tensorflow.py:13: is_gpu_available (from tensorflow.python.framework.test_util) is deprecated and will be removed in a future version.\n",
      "Instructions for updating:\n",
      "Use `tf.config.list_physical_devices('GPU')` instead.\n"
     ]
    },
    {
     "name": "stderr",
     "output_type": "stream",
     "text": [
      "  0%|          | 0/100 [00:00<?, ?it/s]/home/timotheerio/benchmark-adversarial-attacks/venv/lib/python3.6/site-packages/tensorflow/python/data/ops/dataset_ops.py:3350: UserWarning: Even though the tf.config.experimental_run_functions_eagerly option is set, this option does not apply to tf.data functions. tf.data functions are still traced and executed as graphs.\n",
      "  \"Even though the tf.config.experimental_run_functions_eagerly \"\n",
      "100%|██████████| 100/100 [01:07<00:00,  1.49it/s]\n",
      "  0%|          | 0/100 [00:00<?, ?it/s]"
     ]
    },
    {
     "name": "stdout",
     "output_type": "stream",
     "text": [
      "======epislon: 1======\n"
     ]
    },
    {
     "name": "stderr",
     "output_type": "stream",
     "text": [
      "100%|██████████| 100/100 [01:06<00:00,  1.50it/s]\n",
      "  0%|          | 0/100 [00:00<?, ?it/s]"
     ]
    },
    {
     "name": "stdout",
     "output_type": "stream",
     "text": [
      "======epislon: 5======\n"
     ]
    },
    {
     "name": "stderr",
     "output_type": "stream",
     "text": [
      "100%|██████████| 100/100 [01:06<00:00,  1.50it/s]\n",
      "  0%|          | 0/100 [00:00<?, ?it/s]"
     ]
    },
    {
     "name": "stdout",
     "output_type": "stream",
     "text": [
      "======epislon: 10======\n"
     ]
    },
    {
     "name": "stderr",
     "output_type": "stream",
     "text": [
      "100%|██████████| 100/100 [01:06<00:00,  1.50it/s]\n",
      "  0%|          | 0/100 [00:00<?, ?it/s]"
     ]
    },
    {
     "name": "stdout",
     "output_type": "stream",
     "text": [
      "======epislon: 25======\n"
     ]
    },
    {
     "name": "stderr",
     "output_type": "stream",
     "text": [
      "100%|██████████| 100/100 [01:06<00:00,  1.50it/s]\n",
      "  0%|          | 0/100 [00:00<?, ?it/s]"
     ]
    },
    {
     "name": "stdout",
     "output_type": "stream",
     "text": [
      "======epislon: 50======\n"
     ]
    },
    {
     "name": "stderr",
     "output_type": "stream",
     "text": [
      "100%|██████████| 100/100 [01:06<00:00,  1.50it/s]\n",
      "  0%|          | 0/100 [00:00<?, ?it/s]"
     ]
    },
    {
     "name": "stdout",
     "output_type": "stream",
     "text": [
      "======epislon: 75======\n"
     ]
    },
    {
     "name": "stderr",
     "output_type": "stream",
     "text": [
      "100%|██████████| 100/100 [01:06<00:00,  1.50it/s]\n",
      "  0%|          | 0/100 [00:00<?, ?it/s]"
     ]
    },
    {
     "name": "stdout",
     "output_type": "stream",
     "text": [
      "======epislon: 100======\n"
     ]
    },
    {
     "name": "stderr",
     "output_type": "stream",
     "text": [
      "100%|██████████| 100/100 [01:06<00:00,  1.50it/s]\n",
      "  0%|          | 0/100 [00:00<?, ?it/s]"
     ]
    },
    {
     "name": "stdout",
     "output_type": "stream",
     "text": [
      "====attacks on model without padding====\n",
      "======epislon: 0.1======\n"
     ]
    },
    {
     "name": "stderr",
     "output_type": "stream",
     "text": [
      "100%|██████████| 100/100 [01:06<00:00,  1.51it/s]\n",
      "  0%|          | 0/100 [00:00<?, ?it/s]"
     ]
    },
    {
     "name": "stdout",
     "output_type": "stream",
     "text": [
      "======epislon: 1======\n"
     ]
    },
    {
     "name": "stderr",
     "output_type": "stream",
     "text": [
      "100%|██████████| 100/100 [01:05<00:00,  1.52it/s]\n",
      "  0%|          | 0/100 [00:00<?, ?it/s]"
     ]
    },
    {
     "name": "stdout",
     "output_type": "stream",
     "text": [
      "======epislon: 5======\n"
     ]
    },
    {
     "name": "stderr",
     "output_type": "stream",
     "text": [
      "100%|██████████| 100/100 [01:05<00:00,  1.52it/s]\n",
      "  0%|          | 0/100 [00:00<?, ?it/s]"
     ]
    },
    {
     "name": "stdout",
     "output_type": "stream",
     "text": [
      "======epislon: 10======\n"
     ]
    },
    {
     "name": "stderr",
     "output_type": "stream",
     "text": [
      "100%|██████████| 100/100 [01:05<00:00,  1.52it/s]\n",
      "  0%|          | 0/100 [00:00<?, ?it/s]"
     ]
    },
    {
     "name": "stdout",
     "output_type": "stream",
     "text": [
      "======epislon: 25======\n"
     ]
    },
    {
     "name": "stderr",
     "output_type": "stream",
     "text": [
      "100%|██████████| 100/100 [01:06<00:00,  1.50it/s]\n",
      "  0%|          | 0/100 [00:00<?, ?it/s]"
     ]
    },
    {
     "name": "stdout",
     "output_type": "stream",
     "text": [
      "======epislon: 50======\n"
     ]
    },
    {
     "name": "stderr",
     "output_type": "stream",
     "text": [
      "100%|██████████| 100/100 [01:06<00:00,  1.51it/s]\n",
      "  0%|          | 0/100 [00:00<?, ?it/s]"
     ]
    },
    {
     "name": "stdout",
     "output_type": "stream",
     "text": [
      "======epislon: 75======\n"
     ]
    },
    {
     "name": "stderr",
     "output_type": "stream",
     "text": [
      "100%|██████████| 100/100 [01:06<00:00,  1.51it/s]\n",
      "  0%|          | 0/100 [00:00<?, ?it/s]"
     ]
    },
    {
     "name": "stdout",
     "output_type": "stream",
     "text": [
      "======epislon: 100======\n"
     ]
    },
    {
     "name": "stderr",
     "output_type": "stream",
     "text": [
      "100%|██████████| 100/100 [01:05<00:00,  1.52it/s]\n"
     ]
    }
   ],
   "source": [
    "SR_FGSM_dic_without_defense,SR_FGSM_dic_with_defense=run_white_boxes('Mnist')"
   ]
  },
  {
   "cell_type": "code",
   "execution_count": 17,
   "metadata": {},
   "outputs": [
    {
     "data": {
      "text/plain": [
       "<matplotlib.legend.Legend at 0x7f83f2842ef0>"
      ]
     },
     "execution_count": 17,
     "metadata": {},
     "output_type": "execute_result"
    },
    {
     "data": {
      "image/png": "[encoded data removed]",
      "text/plain": [
       "<Figure size 432x288 with 1 Axes>"
      ]
     },
     "metadata": {
      "needs_background": "light"
     },
     "output_type": "display_data"
    }
   ],
   "source": [
    "plt.plot(list(SR_FGSM_dic_with_defense.keys()),list(SR_FGSM_dic_with_defense.values()),label='with random padding')\n",
    "plt.plot(list(SR_FGSM_dic_without_defense.keys()),list(SR_FGSM_dic_without_defense.values()),label='without random padding')\n",
    "plt.grid(True,which=\"both\", linestyle='--')\n",
    "plt.title('Successs rate for different degrees of change \\n on Mnist images for the effnet model',fontsize=11)\n",
    "plt.xlabel('DOC (%)')\n",
    "plt.ylabel('SR')\n",
    "plt.legend(loc='lower right')"
   ]
  },
  {
   "cell_type": "code",
   "execution_count": null,
   "metadata": {},
   "outputs": [],
   "source": [
    "SR_FGSM_dic_without_defense,SR_FGSM_dic_with_defense=run_white_boxes('Cifar')"
   ]
  },
  {
   "cell_type": "code",
   "execution_count": null,
   "metadata": {},
   "outputs": [],
   "source": [
    "plt.plot(list(SR_FGSM_dic_with_defense.keys()),list(SR_FGSM_dic_with_defense.values()),label='with random padding')\n",
    "plt.plot(list(SR_FGSM_dic_without_defense.keys()),list(SR_FGSM_dic_without_defense.values()),label='without random padding')\n",
    "plt.grid(True,which=\"both\", linestyle='--')\n",
    "plt.title('Successs rate for different degrees of change \\n on Cifar images for the effnet model',fontsize=11)\n",
    "plt.xlabel('DOC (%)')\n",
    "plt.ylabel('SR')\n",
    "plt.legend(loc='upper left')"
   ]
  },
  {
   "cell_type": "markdown",
   "metadata": {},
   "source": [
    "##  5. Defense against black box attacks"
   ]
  },
  {
   "cell_type": "markdown",
   "metadata": {},
   "source": [
    "#### Model with defense"
   ]
  },
  {
   "cell_type": "code",
   "execution_count": null,
   "metadata": {},
   "outputs": [],
   "source": [
    "(X_train,X_test,y_train,y_test)=pick_data_set('Mnist')\n",
    "print('====training model without padding====')\n",
    "model_without_def=train_and_save_effnet('Mnist')\n",
    "print('====training model with padding====')\n",
    "model_with_def=create_model_with_defense('Mnist')"
   ]
  },
  {
   "cell_type": "code",
   "execution_count": null,
   "metadata": {},
   "outputs": [],
   "source": [
    "classifier = TensorFlowV2Classifier(model=model_with_def, input_shape=(32,32,3),clip_values=(0, 255),nb_classes=10)\n",
    "degree_of_change_def={}\n",
    "attack = BoundaryAttack(estimator=classifier, targeted=False, max_iter=0, delta=0.001, epsilon=0.001)\n",
    "iter_step =1\n",
    "image_list_def=[]\n",
    "target=X_test[0]\n",
    "x_adv = None\n",
    "for i in range(100):\n",
    "    x_adv = attack.generate(x=np.array([target]), x_adv_init=x_adv)\n",
    "\n",
    "    #clear_output()\n",
    "    print(\"Adversarial image at step %d.\" % (i * iter_step), \"L2 error\", \n",
    "          np.linalg.norm(np.reshape(x_adv[0] - target, [-1])),\n",
    "          \"and class label %d.\" % np.argmax(classifier.predict(x_adv)[0]))\n",
    "    plt.imshow(x_adv[0][..., ::-1].astype('int64'))\n",
    "    image_list_def.append(x_adv[0][..., ::-1].astype(np.uint))\n",
    "    plt.show(block=False)\n",
    "    degree_of_change_def[i * iter_step]=DOC([x_adv[0]],[target])\n",
    "    \n",
    "    if hasattr(attack, 'curr_delta') and hasattr(attack, 'curr_epsilon'):\n",
    "        attack.max_iter = iter_step \n",
    "        attack.delta = attack.curr_delta\n",
    "        attack.epsilon = attack.curr_epsilon\n",
    "    else:\n",
    "        break\n"
   ]
  },
  {
   "cell_type": "markdown",
   "metadata": {},
   "source": [
    "#### Model without  defense"
   ]
  },
  {
   "cell_type": "code",
   "execution_count": null,
   "metadata": {},
   "outputs": [],
   "source": [
    "classifier = TensorFlowV2Classifier(model=model_without_def, input_shape=(32,32,3),clip_values=(0, 255),nb_classes=10)\n",
    "degree_of_change={}\n",
    "attack = BoundaryAttack(estimator=classifier, targeted=False, max_iter=0, delta=0.001, epsilon=0.01)\n",
    "iter_step =1\n",
    "image_list=[]\n",
    "target=X_test[0]\n",
    "x_adv = None\n",
    "for i in range(100):\n",
    "    x_adv = attack.generate(x=np.array([target]), x_adv_init=x_adv)\n",
    "\n",
    "    #clear_output()\n",
    "    print(\"Adversarial image at step %d.\" % (i * iter_step), \"L2 error\", \n",
    "          np.linalg.norm(np.reshape(x_adv[0] - target, [-1])),\n",
    "          \"and class label %d.\" % np.argmax(classifier.predict(x_adv)[0]))\n",
    "    plt.imshow(x_adv[0][..., ::-1].astype(np.uint))\n",
    "    image_list.append(x_adv[0][..., ::-1].astype(np.uint))\n",
    "    plt.show(block=False)\n",
    "    degree_of_change[i * iter_step]=DOC([x_adv[0]],[target])\n",
    "    \n",
    "    if hasattr(attack, 'curr_delta') and hasattr(attack, 'curr_epsilon'):\n",
    "        attack.max_iter = iter_step \n",
    "        attack.delta = attack.curr_delta\n",
    "        attack.epsilon = attack.curr_epsilon\n",
    "    else:\n",
    "        break\n"
   ]
  },
  {
   "cell_type": "code",
   "execution_count": null,
   "metadata": {},
   "outputs": [],
   "source": [
    "plt.plot(list(degree_of_change.keys()),list(degree_of_change.values()),label='DOC without defense')\n",
    "plt.plot(list(degree_of_change_def.keys()),list(degree_of_change_def.values()),label='DOC with defense')\n",
    "plt.grid(True,which=\"both\", linestyle='--')\n",
    "plt.title('DOC of the adversarial image with respect to the number of iterations on EfficientNet on Mnist', fontsize=8)\n",
    "plt.xlabel('Iterarion')\n",
    "plt.ylabel('DOC (%)')\n",
    "\n",
    "plt.legend(loc='upper right')\n",
    "plt.show()"
   ]
  },
  {
   "cell_type": "markdown",
   "metadata": {},
   "source": [
    "##### Save images as .gif"
   ]
  },
  {
   "cell_type": "code",
   "execution_count": null,
   "metadata": {},
   "outputs": [],
   "source": [
    "# for i,image in enumerate(image_list_def):\n",
    "      \n",
    "#     im=np.array(tf.image.resize(image.astype('uint8'), [200,200], method='nearest', preserve_aspect_ratio=True))\n",
    "#     im = Image.fromarray(im.astype('uint8'), 'RGB')\n",
    "#     image_list_def[i]=im\n",
    "\n",
    "# from PIL import Image\n",
    "# image_list_def[0].save('attack_with_defense.gif',\n",
    "#                save_all=True, append_images=image_list_def[1:], optimize=False, duration=40, loop=0)"
   ]
  },
  {
   "cell_type": "code",
   "execution_count": null,
   "metadata": {},
   "outputs": [],
   "source": [
    "# for i,image in enumerate(image_list):\n",
    "      \n",
    "#     im=np.array(tf.image.resize(image.astype('uint8'), [200,200], method='nearest', preserve_aspect_ratio=True))\n",
    "#     im = Image.fromarray(im.astype('uint8'), 'RGB')\n",
    "#     image_list[i]=im\n",
    "\n",
    "# from PIL import Image\n",
    "# image_list[0].save('attack_without_defense.gif',\n",
    "#                save_all=True, append_images=image_list[1:], optimize=False, duration=40, loop=0)"
   ]
  }
 ],
 "metadata": {
  "kernelspec": {
   "display_name": "Benchmark2",
   "language": "python",
   "name": "benchmark"
  },
  "language_info": {
   "codemirror_mode": {
    "name": "ipython",
    "version": 3
   },
   "file_extension": ".py",
   "mimetype": "text/x-python",
   "name": "python",
   "nbconvert_exporter": "python",
   "pygments_lexer": "ipython3",
   "version": "3.6.9"
  }
 },
 "nbformat": 4,
 "nbformat_minor": 2
}
