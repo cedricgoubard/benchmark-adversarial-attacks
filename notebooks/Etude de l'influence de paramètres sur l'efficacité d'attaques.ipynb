{
 "cells": [
  {
   "cell_type": "markdown",
   "metadata": {},
   "source": [
    "# Etude de l'influence de paramètres sur l'efficacité d'attaques"
   ]
  },
  {
   "cell_type": "code",
   "execution_count": 1,
   "metadata": {},
   "outputs": [],
   "source": [
    "%load_ext autoreload\n",
    "%autoreload 2"
   ]
  },
  {
   "cell_type": "code",
   "execution_count": 2,
   "metadata": {},
   "outputs": [],
   "source": [
    "import os\n",
    "from os.path import join\n",
    "\n",
    "\n",
    "import numpy as np\n",
    "import pandas as pd\n",
    "import cv2\n",
    "import pickle\n",
    "from tqdm import tqdm\n",
    "from PIL import Image\n",
    "import matplotlib.pyplot as plt\n",
    "\n",
    "import tensorflow as tf\n",
    "\n",
    "\n",
    "\n",
    "from tensorflow import convert_to_tensor\n",
    "import tensorflow.keras.backend as K\n",
    "from tensorflow.keras.models import  load_model,Model\n",
    "from tensorflow.keras import applications\n",
    "from tensorflow.keras.layers import Dropout, Activation, Dense, GlobalMaxPooling2D,Conv2D,Flatten,MaxPooling2D,InputLayer\n",
    "from tensorflow.keras.utils import to_categorical\n",
    "\n",
    "from efficientnet.tfkeras import EfficientNetB7\n",
    "from tensorflow.keras import datasets\n",
    "from foolbox.attacks import LinfFastGradientAttack,LinfDeepFoolAttack\n",
    "from foolbox.distances import LpDistance\n",
    "from foolbox.models import TensorFlowModel\n",
    "from foolbox import criteria\n",
    "from sklearn.metrics import classification_report,plot_roc_curve\n",
    "\n",
    "from art.attacks.evasion import SaliencyMapMethod\n",
    "from art.estimators.classification import TensorFlowV2Classifier\n",
    "from art.attacks.evasion import BoundaryAttack\n",
    "from art.utils import load_dataset #to play with cifar images\n",
    "\n",
    "gpus = tf.config.experimental.list_physical_devices('GPU')\n",
    "tf.config.experimental.set_virtual_device_configuration(\n",
    "    gpus[0],\n",
    "    [tf.config.experimental.VirtualDeviceConfiguration(memory_limit=6*1024)]\n",
    ")\n"
   ]
  },
  {
   "cell_type": "markdown",
   "metadata": {},
   "source": [
    "3 facteurs pouvant influencer la perfomance d'attaques adverses ont été identifié:\n",
    "- **La complexité du modèle (small custom model vs efficientnet)**\n",
    "- **La complexité de l'attaque**\n",
    "- **La complexité et la variance interne du jeu de données**"
   ]
  },
  {
   "cell_type": "markdown",
   "metadata": {},
   "source": [
    "Nous avons choisi d'étudier différent scénario pour lequel nous allons tracer à chaque fois le success rate de l'attaque en fonction du degree of change. Nous étudierons:\n",
    "- **3 attaques (deepfool 1 step, deepfool mutliple steps et FGSM)**\n",
    "- **2 modèles (efficientNet et small custom model)**\n",
    "- **2 jeux de données (Mnist et Cifar)**"
   ]
  },
  {
   "cell_type": "markdown",
   "metadata": {},
   "source": [
    "### 1. Load Data"
   ]
  },
  {
   "cell_type": "markdown",
   "metadata": {},
   "source": [
    "#### Mnist"
   ]
  },
  {
   "cell_type": "code",
   "execution_count": 3,
   "metadata": {},
   "outputs": [],
   "source": [
    "data_mnist=datasets.mnist.load_data(path='mnist.npz')\n",
    "X_train_mnist,y_train_mnist=data_mnist[0][0],data_mnist[0][1]\n",
    "X_test_mnist,y_test_mnist=data_mnist[1][0],data_mnist[1][1]\n",
    "y_train_mnist = to_categorical(y_train_mnist, 10)\n",
    "y_test_mnist = to_categorical(y_test_mnist, 10)\n",
    "\n",
    "\"\"\" Train \"\"\"\n",
    "X_train_img_mnist = np.full((60000, 32, 32, 3), 0)\n",
    "for i, s in enumerate(X_train_mnist):\n",
    "    X_train_img_mnist[i] = cv2.cvtColor(np.pad(s,2), cv2.COLOR_GRAY2RGB) \n",
    "    \n",
    "\"\"\" Test \"\"\"\n",
    "X_test_img_mnist = np.full((10000, 32, 32, 3), 0)\n",
    "for i, s in enumerate(X_test_mnist):\n",
    "    X_test_img_mnist[i] = cv2.cvtColor(np.pad(s,2), cv2.COLOR_GRAY2RGB) \n",
    "    \n",
    "X_train_mnist=X_train_img_mnist\n",
    "X_test_mnist= X_test_img_mnist"
   ]
  },
  {
   "cell_type": "markdown",
   "metadata": {},
   "source": [
    "#### Cifar-10"
   ]
  },
  {
   "cell_type": "code",
   "execution_count": 4,
   "metadata": {},
   "outputs": [],
   "source": [
    "(X_train_cifar, y_train_cifar), (X_test_cifar, y_test_cifar), _,_=load_dataset('cifar10')\n",
    "for i, im in enumerate(X_train_cifar):\n",
    "    X_train_cifar[i]=255*im\n",
    "for i, im in enumerate(X_test_cifar):\n",
    "    X_test_cifar[i]=255*im    \n",
    "\n",
    "\n",
    "dict_classes={}\n",
    "dict_classes[0]='airplane'\n",
    "dict_classes[1]='automobile'\n",
    "dict_classes[2]='bird'\n",
    "dict_classes[3]='cat'\n",
    "dict_classes[4]='deer'\n",
    "dict_classes[5]='dog'\n",
    "dict_classes[6]='frog'\n",
    "dict_classes[7]='horse'\n",
    "dict_classes[8]='ship'\n",
    "dict_classes[9]='truck'"
   ]
  },
  {
   "cell_type": "markdown",
   "metadata": {},
   "source": [
    "#### 2. Load models"
   ]
  },
  {
   "cell_type": "code",
   "execution_count": 5,
   "metadata": {},
   "outputs": [],
   "source": [
    "def pick_data_set(name):\n",
    "    \n",
    "    if name=='Mnist':\n",
    "        X_train=X_train_mnist\n",
    "        X_test= X_test_mnist\n",
    "        y_train = y_train_mnist\n",
    "        y_test= y_test_mnist\n",
    "\n",
    "    elif name=='Cifar':\n",
    "        X_train=X_train_cifar\n",
    "        X_test= X_test_cifar\n",
    "        y_train = y_train_cifar\n",
    "        y_test= y_test_cifar    \n",
    "    return(X_train,X_test,y_train,y_test)\n",
    "    \n",
    "    "
   ]
  },
  {
   "cell_type": "markdown",
   "metadata": {},
   "source": [
    "Nous allons comparer les attaques sur efficientNet,sur un petit modèle 'fait maison'  "
   ]
  },
  {
   "cell_type": "code",
   "execution_count": 6,
   "metadata": {},
   "outputs": [],
   "source": [
    "def train_and_save_effnet(data_set_name,training_effnet=True):\n",
    "    (X_train,X_test,y_train,y_test)=pick_data_set(data_set_name)\n",
    "    tf.keras.backend.clear_session()\n",
    "    effnet_base = EfficientNetB7(weights='imagenet', include_top=False, input_shape=(32, 32, 3))\n",
    "    effnet_base.trainable=True\n",
    "    x = GlobalMaxPooling2D(name='pool_1')(effnet_base.layers[-2].output)\n",
    "    x = Dropout(0.2, name=\"dropout_2\")(x)\n",
    "    x = Dense(32)(x)\n",
    "    x = Dense(10,name='fc_2')(x)\n",
    "    o = Activation('softmax', name='act_2')(x)\n",
    "    model_effnet = Model(inputs=effnet_base.input, outputs=[o])\n",
    "\n",
    "\n",
    "    training_effnet=training_effnet\n",
    "\n",
    "    if training_effnet==True:\n",
    "        model_effnet.compile(\n",
    "            loss='categorical_crossentropy',\n",
    "            optimizer='nadam',\n",
    "            metrics=['accuracy']\n",
    "            )\n",
    "        history = model_effnet.fit(X_train, y_train,\n",
    "                      epochs=5,\n",
    "                      batch_size = 128,\n",
    "                      validation_split=0.1,\n",
    "                      shuffle=True,\n",
    "                      verbose=1)\n",
    "        model_effnet.save('/media/hdd1/benchmark_adversarial_attacks/effnet_model_'+str(name)+'.h5')\n",
    "\n",
    "    else:\n",
    "        model_effnet=load_model('/media/hdd1/benchmark_adversarial_attacks/effnet_model_'+str(name)+'.h5')\n",
    "        \n",
    "    return(model_effnet)\n",
    "\n",
    "    "
   ]
  },
  {
   "cell_type": "code",
   "execution_count": 7,
   "metadata": {},
   "outputs": [],
   "source": [
    "def train_and_save_small_model(data_set_name):\n",
    "    \n",
    "    (X_train,X_test,y_train,y_test)=pick_data_set(data_set_name)\n",
    "    tf.keras.backend.clear_session()   \n",
    "    small_model = tf.keras.models.Sequential()\n",
    "    small_model.add(Conv2D(64, (3, 3), activation='relu', input_shape=(32,32,3)))\n",
    "    small_model.add(MaxPooling2D(2, 2))\n",
    "    small_model.add(Conv2D(64, (3, 3), activation='relu'))\n",
    "    small_model.add(MaxPooling2D(2, 2))\n",
    "    small_model.add(Flatten())\n",
    "    small_model.add(Dense(128, activation='relu'))\n",
    "    small_model.add(Dense(10, activation='softmax'))\n",
    "\n",
    "\n",
    "    small_model.compile(\n",
    "        loss='categorical_crossentropy',\n",
    "        optimizer='nadam',\n",
    "        metrics=['accuracy']\n",
    "        )\n",
    "\n",
    "\n",
    "    history = small_model.fit(X_train, y_train,\n",
    "                  epochs=10,\n",
    "                  batch_size =128,\n",
    "                  validation_split=0.1,\n",
    "                  shuffle=True,\n",
    "                  verbose=1)\n",
    "\n",
    "\n",
    "    small_model.save('/media/hdd1/benchmark_adversarial_attacks/small_model_'+str(name)+'.h5')\n",
    "    return(small_model)"
   ]
  },
  {
   "cell_type": "markdown",
   "metadata": {},
   "source": [
    "#### 3. Load attacks "
   ]
  },
  {
   "cell_type": "markdown",
   "metadata": {},
   "source": [
    "contrast_enhancer permet d augmenter le bruit lorsqu il est très faible"
   ]
  },
  {
   "cell_type": "code",
   "execution_count": 8,
   "metadata": {},
   "outputs": [],
   "source": [
    "def contrast_enhancer(image_noise):    \n",
    "    for i in range (3):\n",
    "        color_axis=image_noise[:,:,i]\n",
    "        color_axis =((color_axis -np.min(color_axis))/np.ptp(color_axis))\n",
    "        image_noise[:,:,i]=color_axis\n",
    "    image_noise=image_noise #in order to have the darker colors corresponding to the biggest changes\n",
    "    return(image_noise)"
   ]
  },
  {
   "cell_type": "markdown",
   "metadata": {},
   "source": [
    "Let's define the peformances metrics"
   ]
  },
  {
   "cell_type": "code",
   "execution_count": 9,
   "metadata": {},
   "outputs": [],
   "source": [
    "def DOC (x_adv_list,x_list): #degree of change\n",
    "    N=len(x_adv_list)\n",
    "    sum=0\n",
    "    for i in range (N):        \n",
    "        sum+=100*np.linalg.norm(np.reshape(x_adv_list[i] - x_list[i], -1),ord=1)/np.linalg.norm(np.reshape(x_list[i], -1),ord=1)\n",
    "    return(sum/N)\n",
    "\n",
    "def succes_rate (success_list):\n",
    "    success=len([i for i in success_list if i==True])\n",
    "    total=len(success_list)\n",
    "    return(success/total)"
   ]
  },
  {
   "cell_type": "code",
   "execution_count": 10,
   "metadata": {},
   "outputs": [],
   "source": [
    "attack_deepfool_1_steps=LinfDeepFoolAttack(steps=1)\n",
    "attack_deepfool_mutliple_steps=LinfDeepFoolAttack()\n",
    "attack_FGSM=LinfFastGradientAttack()"
   ]
  },
  {
   "cell_type": "markdown",
   "metadata": {},
   "source": [
    "#### 5. Attacks performances"
   ]
  },
  {
   "cell_type": "code",
   "execution_count": 11,
   "metadata": {},
   "outputs": [],
   "source": [
    "def black_box_attack(model_to_attack,target,iterations=150):\n",
    "    classifier = TensorFlowV2Classifier(model=model_to_attack, input_shape=(32,32,3),clip_values=(0, 255),nb_classes=10)\n",
    "    SR_blackbox_dic={}\n",
    "    attack = BoundaryAttack(estimator=classifier, targeted=False, max_iter=0, delta=0.001, epsilon=0.001,init_size=100)\n",
    "    iter_step =1\n",
    "    x_adv = None\n",
    "    for i in range(iterations):\n",
    "        x_adv = attack.generate(x=np.array([target]), x_adv_init=x_adv)\n",
    "\n",
    "        #clear_output()\n",
    "        print(\"Adversarial image at step %d.\" % (i * iter_step), \"L2 error\", \n",
    "              np.linalg.norm(np.reshape(x_adv[0] - target, [-1])),\n",
    "              \"and class label %d.\" % np.argmax(classifier.predict(x_adv)[0]))\n",
    "        plt.imshow(x_adv[0][..., ::-1].astype('int32'))\n",
    "        plt.show(block=False)\n",
    "        SR_blackbox_dic[DOC([x_adv[0]],[target])]=1\n",
    "\n",
    "        if hasattr(attack, 'curr_delta') and hasattr(attack, 'curr_epsilon'):\n",
    "            attack.max_iter = iter_step \n",
    "            attack.delta = attack.curr_delta\n",
    "            attack.epsilon = attack.curr_epsilon\n",
    "        else:\n",
    "            break\n",
    "    return(SR_blackbox_dic)\n"
   ]
  },
  {
   "cell_type": "markdown",
   "metadata": {},
   "source": [
    "attack_performances_computer renvoit le degree of change d'une attaque et son success rate"
   ]
  },
  {
   "cell_type": "code",
   "execution_count": 12,
   "metadata": {},
   "outputs": [],
   "source": [
    "def attack_performances_computer(model_to_fool,attack, image_list, labels,epsilon):\n",
    "    if len(labels[0])>1:\n",
    "        labels=list(map(np.argmax,labels))\n",
    "    success=[]\n",
    "    adv_list=[]\n",
    "    attack_value=[]\n",
    "    for i,image in enumerate(tqdm(image_list,position=0)):\n",
    "        image = np.asarray(image)[:,:,:3].astype('float32')\n",
    "        image = convert_to_tensor(np.expand_dims(image,axis=0))\n",
    "        label=labels[i]\n",
    "        label = tf.convert_to_tensor(np.array([label]))\n",
    "        _, clipped, is_adv = attack(model_to_fool,image,label,epsilons=epsilon)\n",
    "        success.append(bool(is_adv[0][0]))\n",
    "        adv_list.append(np.array(clipped[0][0]))\n",
    "    DOC_attack=DOC(adv_list,image_list)\n",
    "    SR_attack=succes_rate(success)\n",
    "    return(DOC_attack,SR_attack)"
   ]
  },
  {
   "cell_type": "markdown",
   "metadata": {},
   "source": [
    "##### Comparison FGSM vs deepfool 1 step vs deepfool mutliple steps on effnet"
   ]
  },
  {
   "cell_type": "markdown",
   "metadata": {},
   "source": [
    "The success rate with 5 steps is the same than with one step, however the DOC is slightly better (lower) with one step. "
   ]
  },
  {
   "cell_type": "code",
   "execution_count": 13,
   "metadata": {},
   "outputs": [],
   "source": [
    "def attack_runner(model_to_fool,image_list, labels_list, epislons_list):\n",
    "    \n",
    "    \n",
    "    attack_deepfool_1_steps=LinfDeepFoolAttack(steps=1)\n",
    "    attack_deepfool_mutliple_steps=LinfDeepFoolAttack()\n",
    "    attack_FGSM=LinfFastGradientAttack()\n",
    "    \n",
    "    if len(labels_list[0])<=5:\n",
    "        labels_list=list(map(np.argmax,labels_list))\n",
    "\n",
    "    SR_FGSM_dic={}\n",
    "    SR_deepfool_1step_dic={}\n",
    "    SR_deepfool_mutliple_steps_dic={}\n",
    "\n",
    "\n",
    "    for epsilon in epislons_list:\n",
    "        print('======'+'epislon: '+str(epsilon)+'======')\n",
    "        DOC_FGSM,SR_FGSM=attack_performances_computer(model_to_fool,attack_FGSM, image_list, labels_list,[epsilon])\n",
    "        DOC_deepfool_1step,SR_deepfool_1step=attack_performances_computer(model_to_fool,attack_deepfool_1_steps, image_list, labels_list,[epsilon])\n",
    "        DOC_deepfool_mutliple_steps,SR_deepfool_mutliple_steps=attack_performances_computer(model_to_fool,attack_deepfool_mutliple_steps, image_list, labels_list,[epsilon])\n",
    "\n",
    "\n",
    "        SR_deepfool_1step_dic[DOC_deepfool_1step]=SR_deepfool_1step   \n",
    "        SR_deepfool_mutliple_steps_dic[DOC_deepfool_mutliple_steps]=SR_deepfool_mutliple_steps    \n",
    "        SR_FGSM_dic[DOC_FGSM]=SR_FGSM\n",
    "        \n",
    "    return(SR_deepfool_1step_dic,SR_deepfool_mutliple_steps_dic,SR_FGSM_dic)"
   ]
  },
  {
   "cell_type": "code",
   "execution_count": 14,
   "metadata": {},
   "outputs": [
    {
     "name": "stdout",
     "output_type": "stream",
     "text": [
      "Epoch 1/10\n",
      "422/422 [==============================] - 3s 8ms/step - loss: 0.9911 - accuracy: 0.9230 - val_loss: 0.0745 - val_accuracy: 0.9798\n",
      "Epoch 2/10\n",
      "422/422 [==============================] - 3s 7ms/step - loss: 0.0687 - accuracy: 0.9800 - val_loss: 0.0680 - val_accuracy: 0.9828\n",
      "Epoch 3/10\n",
      "422/422 [==============================] - 3s 7ms/step - loss: 0.0434 - accuracy: 0.9864 - val_loss: 0.0782 - val_accuracy: 0.9797\n",
      "Epoch 4/10\n",
      "422/422 [==============================] - 3s 7ms/step - loss: 0.0327 - accuracy: 0.9898 - val_loss: 0.0647 - val_accuracy: 0.9847\n",
      "Epoch 5/10\n",
      "422/422 [==============================] - 3s 7ms/step - loss: 0.0295 - accuracy: 0.9911 - val_loss: 0.0622 - val_accuracy: 0.9862\n",
      "Epoch 6/10\n",
      "422/422 [==============================] - 3s 7ms/step - loss: 0.0258 - accuracy: 0.9917 - val_loss: 0.0707 - val_accuracy: 0.9858\n",
      "Epoch 7/10\n",
      "422/422 [==============================] - 3s 7ms/step - loss: 0.0235 - accuracy: 0.9927 - val_loss: 0.0750 - val_accuracy: 0.9825\n",
      "Epoch 8/10\n",
      "422/422 [==============================] - 3s 7ms/step - loss: 0.0220 - accuracy: 0.9927 - val_loss: 0.0694 - val_accuracy: 0.9872\n",
      "Epoch 9/10\n",
      "422/422 [==============================] - 3s 7ms/step - loss: 0.0243 - accuracy: 0.9926 - val_loss: 0.0853 - val_accuracy: 0.9845\n",
      "Epoch 10/10\n",
      "422/422 [==============================] - 3s 7ms/step - loss: 0.0184 - accuracy: 0.9943 - val_loss: 0.0649 - val_accuracy: 0.9890\n",
      "WARNING:tensorflow:From /home/timotheerio/benchmark-adversarial-attacks/venv/lib/python3.6/site-packages/foolbox/models/tensorflow.py:13: is_gpu_available (from tensorflow.python.framework.test_util) is deprecated and will be removed in a future version.\n",
      "Instructions for updating:\n",
      "Use `tf.config.list_physical_devices('GPU')` instead.\n"
     ]
    },
    {
     "name": "stderr",
     "output_type": "stream",
     "text": [
      " 10%|█         | 10/100 [00:00<00:00, 96.09it/s]"
     ]
    },
    {
     "name": "stdout",
     "output_type": "stream",
     "text": [
      "======epislon: 0.001======\n"
     ]
    },
    {
     "name": "stderr",
     "output_type": "stream",
     "text": [
      "100%|██████████| 100/100 [00:00<00:00, 142.09it/s]\n",
      "100%|██████████| 100/100 [00:05<00:00, 18.85it/s]\n",
      "100%|██████████| 100/100 [00:18<00:00,  5.47it/s]\n",
      " 16%|█▌        | 16/100 [00:00<00:00, 153.86it/s]"
     ]
    },
    {
     "name": "stdout",
     "output_type": "stream",
     "text": [
      "======epislon: 0.01======\n"
     ]
    },
    {
     "name": "stderr",
     "output_type": "stream",
     "text": [
      "100%|██████████| 100/100 [00:00<00:00, 151.60it/s]\n",
      "100%|██████████| 100/100 [00:05<00:00, 18.95it/s]\n",
      "100%|██████████| 100/100 [00:18<00:00,  5.47it/s]\n",
      " 16%|█▌        | 16/100 [00:00<00:00, 152.65it/s]"
     ]
    },
    {
     "name": "stdout",
     "output_type": "stream",
     "text": [
      "======epislon: 0.1======\n"
     ]
    },
    {
     "name": "stderr",
     "output_type": "stream",
     "text": [
      "100%|██████████| 100/100 [00:00<00:00, 152.71it/s]\n",
      "100%|██████████| 100/100 [00:05<00:00, 19.13it/s]\n",
      "100%|██████████| 100/100 [00:18<00:00,  5.48it/s]\n",
      " 16%|█▌        | 16/100 [00:00<00:00, 153.51it/s]"
     ]
    },
    {
     "name": "stdout",
     "output_type": "stream",
     "text": [
      "======epislon: 1======\n"
     ]
    },
    {
     "name": "stderr",
     "output_type": "stream",
     "text": [
      "100%|██████████| 100/100 [00:00<00:00, 152.88it/s]\n",
      "100%|██████████| 100/100 [00:05<00:00, 18.87it/s]\n",
      "100%|██████████| 100/100 [00:18<00:00,  5.47it/s]\n",
      " 16%|█▌        | 16/100 [00:00<00:00, 153.33it/s]"
     ]
    },
    {
     "name": "stdout",
     "output_type": "stream",
     "text": [
      "======epislon: 10======\n"
     ]
    },
    {
     "name": "stderr",
     "output_type": "stream",
     "text": [
      "100%|██████████| 100/100 [00:00<00:00, 151.96it/s]\n",
      "100%|██████████| 100/100 [00:05<00:00, 18.81it/s]\n",
      "100%|██████████| 100/100 [00:18<00:00,  5.49it/s]\n",
      " 16%|█▌        | 16/100 [00:00<00:00, 153.45it/s]"
     ]
    },
    {
     "name": "stdout",
     "output_type": "stream",
     "text": [
      "======epislon: 25======\n"
     ]
    },
    {
     "name": "stderr",
     "output_type": "stream",
     "text": [
      "100%|██████████| 100/100 [00:00<00:00, 151.99it/s]\n",
      "100%|██████████| 100/100 [00:05<00:00, 18.82it/s]\n",
      "100%|██████████| 100/100 [00:18<00:00,  5.50it/s]\n",
      " 16%|█▌        | 16/100 [00:00<00:00, 155.26it/s]"
     ]
    },
    {
     "name": "stdout",
     "output_type": "stream",
     "text": [
      "======epislon: 50======\n"
     ]
    },
    {
     "name": "stderr",
     "output_type": "stream",
     "text": [
      "100%|██████████| 100/100 [00:00<00:00, 153.95it/s]\n",
      "100%|██████████| 100/100 [00:05<00:00, 18.90it/s]\n",
      "100%|██████████| 100/100 [00:18<00:00,  5.47it/s]\n",
      " 16%|█▌        | 16/100 [00:00<00:00, 154.30it/s]"
     ]
    },
    {
     "name": "stdout",
     "output_type": "stream",
     "text": [
      "======epislon: 100======\n"
     ]
    },
    {
     "name": "stderr",
     "output_type": "stream",
     "text": [
      "100%|██████████| 100/100 [00:00<00:00, 153.51it/s]\n",
      "100%|██████████| 100/100 [00:05<00:00, 19.01it/s]\n",
      " 84%|████████▍ | 84/100 [00:12<00:02,  5.58it/s]"
     ]
    },
    {
     "ename": "KeyboardInterrupt",
     "evalue": "",
     "output_type": "error",
     "traceback": [
      "\u001b[0;31m---------------------------------------------------------------------------\u001b[0m",
      "\u001b[0;31mKeyboardInterrupt\u001b[0m                         Traceback (most recent call last)",
      "\u001b[0;32m<ipython-input-14-5fa3fe379917>\u001b[0m in \u001b[0;36m<module>\u001b[0;34m\u001b[0m\n\u001b[1;32m      8\u001b[0m \u001b[0;34m\u001b[0m\u001b[0m\n\u001b[1;32m      9\u001b[0m \u001b[0mmodel_to_fool\u001b[0m \u001b[0;34m=\u001b[0m \u001b[0mTensorFlowModel\u001b[0m\u001b[0;34m(\u001b[0m\u001b[0msmall_model\u001b[0m\u001b[0;34m,\u001b[0m \u001b[0mbounds\u001b[0m\u001b[0;34m=\u001b[0m\u001b[0;34m(\u001b[0m\u001b[0;36m0\u001b[0m\u001b[0;34m,\u001b[0m \u001b[0;36m255\u001b[0m\u001b[0;34m)\u001b[0m\u001b[0;34m)\u001b[0m\u001b[0;34m\u001b[0m\u001b[0;34m\u001b[0m\u001b[0m\n\u001b[0;32m---> 10\u001b[0;31m \u001b[0;34m(\u001b[0m\u001b[0mSR_deepfool_1step_dic_small_model\u001b[0m\u001b[0;34m,\u001b[0m\u001b[0mSR_deepfool_mutliple_steps_dic_small_model\u001b[0m\u001b[0;34m,\u001b[0m\u001b[0mSR_FGSM_dic_small_model\u001b[0m\u001b[0;34m)\u001b[0m\u001b[0;34m=\u001b[0m\u001b[0mattack_runner\u001b[0m\u001b[0;34m(\u001b[0m\u001b[0mmodel_to_fool\u001b[0m\u001b[0;34m,\u001b[0m\u001b[0mX_test\u001b[0m\u001b[0;34m[\u001b[0m\u001b[0;34m:\u001b[0m\u001b[0;36m100\u001b[0m\u001b[0;34m]\u001b[0m\u001b[0;34m,\u001b[0m \u001b[0my_test\u001b[0m\u001b[0;34m[\u001b[0m\u001b[0;34m:\u001b[0m\u001b[0;36m100\u001b[0m\u001b[0;34m]\u001b[0m\u001b[0;34m,\u001b[0m \u001b[0mepsilon_list\u001b[0m\u001b[0;34m)\u001b[0m\u001b[0;34m\u001b[0m\u001b[0;34m\u001b[0m\u001b[0m\n\u001b[0m\u001b[1;32m     11\u001b[0m \u001b[0mSR_blackbox_dic_small_model\u001b[0m\u001b[0;34m=\u001b[0m\u001b[0mblack_box_attack\u001b[0m\u001b[0;34m(\u001b[0m\u001b[0msmall_model\u001b[0m\u001b[0;34m,\u001b[0m\u001b[0mX_test\u001b[0m\u001b[0;34m[\u001b[0m\u001b[0;36m0\u001b[0m\u001b[0;34m]\u001b[0m\u001b[0;34m.\u001b[0m\u001b[0mastype\u001b[0m\u001b[0;34m(\u001b[0m\u001b[0;34m'int32'\u001b[0m\u001b[0;34m)\u001b[0m\u001b[0;34m)\u001b[0m\u001b[0;34m\u001b[0m\u001b[0;34m\u001b[0m\u001b[0m\n\u001b[1;32m     12\u001b[0m \u001b[0;32mwith\u001b[0m \u001b[0mopen\u001b[0m\u001b[0;34m(\u001b[0m\u001b[0;34m'data/perfs_global_small_model_'\u001b[0m\u001b[0;34m+\u001b[0m\u001b[0mstr\u001b[0m\u001b[0;34m(\u001b[0m\u001b[0mname\u001b[0m\u001b[0;34m)\u001b[0m\u001b[0;34m,\u001b[0m \u001b[0;34m'wb'\u001b[0m\u001b[0;34m)\u001b[0m \u001b[0;32mas\u001b[0m \u001b[0mf\u001b[0m\u001b[0;34m:\u001b[0m\u001b[0;34m\u001b[0m\u001b[0;34m\u001b[0m\u001b[0m\n",
      "\u001b[0;32m<ipython-input-13-72a93ac52c0d>\u001b[0m in \u001b[0;36mattack_runner\u001b[0;34m(model_to_fool, image_list, labels_list, epislons_list)\u001b[0m\n\u001b[1;32m     18\u001b[0m         \u001b[0mDOC_FGSM\u001b[0m\u001b[0;34m,\u001b[0m\u001b[0mSR_FGSM\u001b[0m\u001b[0;34m=\u001b[0m\u001b[0mattack_performances_computer\u001b[0m\u001b[0;34m(\u001b[0m\u001b[0mmodel_to_fool\u001b[0m\u001b[0;34m,\u001b[0m\u001b[0mattack_FGSM\u001b[0m\u001b[0;34m,\u001b[0m \u001b[0mimage_list\u001b[0m\u001b[0;34m,\u001b[0m \u001b[0mlabels_list\u001b[0m\u001b[0;34m,\u001b[0m\u001b[0;34m[\u001b[0m\u001b[0mepsilon\u001b[0m\u001b[0;34m]\u001b[0m\u001b[0;34m)\u001b[0m\u001b[0;34m\u001b[0m\u001b[0;34m\u001b[0m\u001b[0m\n\u001b[1;32m     19\u001b[0m         \u001b[0mDOC_deepfool_1step\u001b[0m\u001b[0;34m,\u001b[0m\u001b[0mSR_deepfool_1step\u001b[0m\u001b[0;34m=\u001b[0m\u001b[0mattack_performances_computer\u001b[0m\u001b[0;34m(\u001b[0m\u001b[0mmodel_to_fool\u001b[0m\u001b[0;34m,\u001b[0m\u001b[0mattack_deepfool_1_steps\u001b[0m\u001b[0;34m,\u001b[0m \u001b[0mimage_list\u001b[0m\u001b[0;34m,\u001b[0m \u001b[0mlabels_list\u001b[0m\u001b[0;34m,\u001b[0m\u001b[0;34m[\u001b[0m\u001b[0mepsilon\u001b[0m\u001b[0;34m]\u001b[0m\u001b[0;34m)\u001b[0m\u001b[0;34m\u001b[0m\u001b[0;34m\u001b[0m\u001b[0m\n\u001b[0;32m---> 20\u001b[0;31m         \u001b[0mDOC_deepfool_mutliple_steps\u001b[0m\u001b[0;34m,\u001b[0m\u001b[0mSR_deepfool_mutliple_steps\u001b[0m\u001b[0;34m=\u001b[0m\u001b[0mattack_performances_computer\u001b[0m\u001b[0;34m(\u001b[0m\u001b[0mmodel_to_fool\u001b[0m\u001b[0;34m,\u001b[0m\u001b[0mattack_deepfool_mutliple_steps\u001b[0m\u001b[0;34m,\u001b[0m \u001b[0mimage_list\u001b[0m\u001b[0;34m,\u001b[0m \u001b[0mlabels_list\u001b[0m\u001b[0;34m,\u001b[0m\u001b[0;34m[\u001b[0m\u001b[0mepsilon\u001b[0m\u001b[0;34m]\u001b[0m\u001b[0;34m)\u001b[0m\u001b[0;34m\u001b[0m\u001b[0;34m\u001b[0m\u001b[0m\n\u001b[0m\u001b[1;32m     21\u001b[0m \u001b[0;34m\u001b[0m\u001b[0m\n\u001b[1;32m     22\u001b[0m \u001b[0;34m\u001b[0m\u001b[0m\n",
      "\u001b[0;32m<ipython-input-12-9a1cc7b5ce9b>\u001b[0m in \u001b[0;36mattack_performances_computer\u001b[0;34m(model_to_fool, attack, image_list, labels, epsilon)\u001b[0m\n\u001b[1;32m     10\u001b[0m         \u001b[0mlabel\u001b[0m\u001b[0;34m=\u001b[0m\u001b[0mlabels\u001b[0m\u001b[0;34m[\u001b[0m\u001b[0mi\u001b[0m\u001b[0;34m]\u001b[0m\u001b[0;34m\u001b[0m\u001b[0;34m\u001b[0m\u001b[0m\n\u001b[1;32m     11\u001b[0m         \u001b[0mlabel\u001b[0m \u001b[0;34m=\u001b[0m \u001b[0mtf\u001b[0m\u001b[0;34m.\u001b[0m\u001b[0mconvert_to_tensor\u001b[0m\u001b[0;34m(\u001b[0m\u001b[0mnp\u001b[0m\u001b[0;34m.\u001b[0m\u001b[0marray\u001b[0m\u001b[0;34m(\u001b[0m\u001b[0;34m[\u001b[0m\u001b[0mlabel\u001b[0m\u001b[0;34m]\u001b[0m\u001b[0;34m)\u001b[0m\u001b[0;34m)\u001b[0m\u001b[0;34m\u001b[0m\u001b[0;34m\u001b[0m\u001b[0m\n\u001b[0;32m---> 12\u001b[0;31m         \u001b[0m_\u001b[0m\u001b[0;34m,\u001b[0m \u001b[0mclipped\u001b[0m\u001b[0;34m,\u001b[0m \u001b[0mis_adv\u001b[0m \u001b[0;34m=\u001b[0m \u001b[0mattack\u001b[0m\u001b[0;34m(\u001b[0m\u001b[0mmodel_to_fool\u001b[0m\u001b[0;34m,\u001b[0m\u001b[0mimage\u001b[0m\u001b[0;34m,\u001b[0m\u001b[0mlabel\u001b[0m\u001b[0;34m,\u001b[0m\u001b[0mepsilons\u001b[0m\u001b[0;34m=\u001b[0m\u001b[0mepsilon\u001b[0m\u001b[0;34m)\u001b[0m\u001b[0;34m\u001b[0m\u001b[0;34m\u001b[0m\u001b[0m\n\u001b[0m\u001b[1;32m     13\u001b[0m         \u001b[0msuccess\u001b[0m\u001b[0;34m.\u001b[0m\u001b[0mappend\u001b[0m\u001b[0;34m(\u001b[0m\u001b[0mbool\u001b[0m\u001b[0;34m(\u001b[0m\u001b[0mis_adv\u001b[0m\u001b[0;34m[\u001b[0m\u001b[0;36m0\u001b[0m\u001b[0;34m]\u001b[0m\u001b[0;34m[\u001b[0m\u001b[0;36m0\u001b[0m\u001b[0;34m]\u001b[0m\u001b[0;34m)\u001b[0m\u001b[0;34m)\u001b[0m\u001b[0;34m\u001b[0m\u001b[0;34m\u001b[0m\u001b[0m\n\u001b[1;32m     14\u001b[0m         \u001b[0madv_list\u001b[0m\u001b[0;34m.\u001b[0m\u001b[0mappend\u001b[0m\u001b[0;34m(\u001b[0m\u001b[0mnp\u001b[0m\u001b[0;34m.\u001b[0m\u001b[0marray\u001b[0m\u001b[0;34m(\u001b[0m\u001b[0mclipped\u001b[0m\u001b[0;34m[\u001b[0m\u001b[0;36m0\u001b[0m\u001b[0;34m]\u001b[0m\u001b[0;34m[\u001b[0m\u001b[0;36m0\u001b[0m\u001b[0;34m]\u001b[0m\u001b[0;34m)\u001b[0m\u001b[0;34m)\u001b[0m\u001b[0;34m\u001b[0m\u001b[0;34m\u001b[0m\u001b[0m\n",
      "\u001b[0;32m~/benchmark-adversarial-attacks/venv/lib/python3.6/site-packages/foolbox/attacks/base.py\u001b[0m in \u001b[0;36m__call__\u001b[0;34m(***failed resolving arguments***)\u001b[0m\n\u001b[1;32m    408\u001b[0m \u001b[0;34m\u001b[0m\u001b[0m\n\u001b[1;32m    409\u001b[0m         \u001b[0;31m# run the actual attack\u001b[0m\u001b[0;34m\u001b[0m\u001b[0;34m\u001b[0m\u001b[0;34m\u001b[0m\u001b[0m\n\u001b[0;32m--> 410\u001b[0;31m         \u001b[0mxp\u001b[0m \u001b[0;34m=\u001b[0m \u001b[0mself\u001b[0m\u001b[0;34m.\u001b[0m\u001b[0mrun\u001b[0m\u001b[0;34m(\u001b[0m\u001b[0mmodel\u001b[0m\u001b[0;34m,\u001b[0m \u001b[0mx\u001b[0m\u001b[0;34m,\u001b[0m \u001b[0mcriterion\u001b[0m\u001b[0;34m,\u001b[0m \u001b[0mearly_stop\u001b[0m\u001b[0;34m=\u001b[0m\u001b[0mearly_stop\u001b[0m\u001b[0;34m,\u001b[0m \u001b[0;34m**\u001b[0m\u001b[0mkwargs\u001b[0m\u001b[0;34m)\u001b[0m\u001b[0;34m\u001b[0m\u001b[0;34m\u001b[0m\u001b[0m\n\u001b[0m\u001b[1;32m    411\u001b[0m \u001b[0;34m\u001b[0m\u001b[0m\n\u001b[1;32m    412\u001b[0m         \u001b[0mxpcs\u001b[0m \u001b[0;34m=\u001b[0m \u001b[0;34m[\u001b[0m\u001b[0;34m]\u001b[0m\u001b[0;34m\u001b[0m\u001b[0;34m\u001b[0m\u001b[0m\n",
      "\u001b[0;32m~/benchmark-adversarial-attacks/venv/lib/python3.6/site-packages/foolbox/attacks/deepfool.py\u001b[0m in \u001b[0;36mrun\u001b[0;34m(***failed resolving arguments***)\u001b[0m\n\u001b[1;32m    143\u001b[0m             \u001b[0;31m# we could avoid repeated forward passes and only repeat\u001b[0m\u001b[0;34m\u001b[0m\u001b[0;34m\u001b[0m\u001b[0;34m\u001b[0m\u001b[0m\n\u001b[1;32m    144\u001b[0m             \u001b[0;31m# the backward pass, but this cannot currently be done in eagerpy\u001b[0m\u001b[0;34m\u001b[0m\u001b[0;34m\u001b[0m\u001b[0;34m\u001b[0m\u001b[0m\n\u001b[0;32m--> 145\u001b[0;31m             \u001b[0mdiffs\u001b[0m \u001b[0;34m+=\u001b[0m \u001b[0;34m[\u001b[0m\u001b[0mloss_aux_and_grad\u001b[0m\u001b[0;34m(\u001b[0m\u001b[0mx\u001b[0m\u001b[0;34m,\u001b[0m \u001b[0mk\u001b[0m\u001b[0;34m)\u001b[0m \u001b[0;32mfor\u001b[0m \u001b[0mk\u001b[0m \u001b[0;32min\u001b[0m \u001b[0mrange\u001b[0m\u001b[0;34m(\u001b[0m\u001b[0;36m2\u001b[0m\u001b[0;34m,\u001b[0m \u001b[0mcandidates\u001b[0m\u001b[0;34m)\u001b[0m\u001b[0;34m]\u001b[0m\u001b[0;34m\u001b[0m\u001b[0;34m\u001b[0m\u001b[0m\n\u001b[0m\u001b[1;32m    146\u001b[0m \u001b[0;34m\u001b[0m\u001b[0m\n\u001b[1;32m    147\u001b[0m             \u001b[0;31m# we don't need the logits\u001b[0m\u001b[0;34m\u001b[0m\u001b[0;34m\u001b[0m\u001b[0;34m\u001b[0m\u001b[0m\n",
      "\u001b[0;32m~/benchmark-adversarial-attacks/venv/lib/python3.6/site-packages/foolbox/attacks/deepfool.py\u001b[0m in \u001b[0;36m<listcomp>\u001b[0;34m(.0)\u001b[0m\n\u001b[1;32m    143\u001b[0m             \u001b[0;31m# we could avoid repeated forward passes and only repeat\u001b[0m\u001b[0;34m\u001b[0m\u001b[0;34m\u001b[0m\u001b[0;34m\u001b[0m\u001b[0m\n\u001b[1;32m    144\u001b[0m             \u001b[0;31m# the backward pass, but this cannot currently be done in eagerpy\u001b[0m\u001b[0;34m\u001b[0m\u001b[0;34m\u001b[0m\u001b[0;34m\u001b[0m\u001b[0m\n\u001b[0;32m--> 145\u001b[0;31m             \u001b[0mdiffs\u001b[0m \u001b[0;34m+=\u001b[0m \u001b[0;34m[\u001b[0m\u001b[0mloss_aux_and_grad\u001b[0m\u001b[0;34m(\u001b[0m\u001b[0mx\u001b[0m\u001b[0;34m,\u001b[0m \u001b[0mk\u001b[0m\u001b[0;34m)\u001b[0m \u001b[0;32mfor\u001b[0m \u001b[0mk\u001b[0m \u001b[0;32min\u001b[0m \u001b[0mrange\u001b[0m\u001b[0;34m(\u001b[0m\u001b[0;36m2\u001b[0m\u001b[0;34m,\u001b[0m \u001b[0mcandidates\u001b[0m\u001b[0;34m)\u001b[0m\u001b[0;34m]\u001b[0m\u001b[0;34m\u001b[0m\u001b[0;34m\u001b[0m\u001b[0m\n\u001b[0m\u001b[1;32m    146\u001b[0m \u001b[0;34m\u001b[0m\u001b[0m\n\u001b[1;32m    147\u001b[0m             \u001b[0;31m# we don't need the logits\u001b[0m\u001b[0;34m\u001b[0m\u001b[0;34m\u001b[0m\u001b[0;34m\u001b[0m\u001b[0m\n",
      "\u001b[0;32m~/benchmark-adversarial-attacks/venv/lib/python3.6/site-packages/eagerpy/tensor/tensorflow.py\u001b[0m in \u001b[0;36mvalue_and_grad\u001b[0;34m(***failed resolving arguments***)\u001b[0m\n\u001b[1;32m    467\u001b[0m                 \u001b[0mtape\u001b[0m\u001b[0;34m.\u001b[0m\u001b[0mwatch\u001b[0m\u001b[0;34m(\u001b[0m\u001b[0mx_\u001b[0m\u001b[0;34m.\u001b[0m\u001b[0mraw\u001b[0m\u001b[0;34m)\u001b[0m\u001b[0;34m\u001b[0m\u001b[0;34m\u001b[0m\u001b[0m\n\u001b[1;32m    468\u001b[0m                 \u001b[0;32mif\u001b[0m \u001b[0mhas_aux\u001b[0m\u001b[0;34m:\u001b[0m\u001b[0;34m\u001b[0m\u001b[0;34m\u001b[0m\u001b[0m\n\u001b[0;32m--> 469\u001b[0;31m                     \u001b[0mloss\u001b[0m\u001b[0;34m,\u001b[0m \u001b[0maux\u001b[0m \u001b[0;34m=\u001b[0m \u001b[0mf\u001b[0m\u001b[0;34m(\u001b[0m\u001b[0mx_\u001b[0m\u001b[0;34m,\u001b[0m \u001b[0;34m*\u001b[0m\u001b[0margs\u001b[0m\u001b[0;34m,\u001b[0m \u001b[0;34m**\u001b[0m\u001b[0mkwargs\u001b[0m\u001b[0;34m)\u001b[0m\u001b[0;34m\u001b[0m\u001b[0;34m\u001b[0m\u001b[0m\n\u001b[0m\u001b[1;32m    470\u001b[0m                 \u001b[0;32melse\u001b[0m\u001b[0;34m:\u001b[0m\u001b[0;34m\u001b[0m\u001b[0;34m\u001b[0m\u001b[0m\n\u001b[1;32m    471\u001b[0m                     \u001b[0mloss\u001b[0m \u001b[0;34m=\u001b[0m \u001b[0mf\u001b[0m\u001b[0;34m(\u001b[0m\u001b[0mx_\u001b[0m\u001b[0;34m,\u001b[0m \u001b[0;34m*\u001b[0m\u001b[0margs\u001b[0m\u001b[0;34m,\u001b[0m \u001b[0;34m**\u001b[0m\u001b[0mkwargs\u001b[0m\u001b[0;34m)\u001b[0m\u001b[0;34m\u001b[0m\u001b[0;34m\u001b[0m\u001b[0m\n",
      "\u001b[0;32m~/benchmark-adversarial-attacks/venv/lib/python3.6/site-packages/foolbox/attacks/deepfool.py\u001b[0m in \u001b[0;36mloss_fun\u001b[0;34m(x, k)\u001b[0m\n\u001b[1;32m     67\u001b[0m                 \u001b[0mx\u001b[0m\u001b[0;34m:\u001b[0m \u001b[0mep\u001b[0m\u001b[0;34m.\u001b[0m\u001b[0mTensor\u001b[0m\u001b[0;34m,\u001b[0m \u001b[0mk\u001b[0m\u001b[0;34m:\u001b[0m \u001b[0mint\u001b[0m\u001b[0;34m\u001b[0m\u001b[0;34m\u001b[0m\u001b[0m\n\u001b[1;32m     68\u001b[0m             ) -> Tuple[ep.Tensor, Tuple[ep.Tensor, ep.Tensor]]:\n\u001b[0;32m---> 69\u001b[0;31m                 \u001b[0mlogits\u001b[0m \u001b[0;34m=\u001b[0m \u001b[0mmodel\u001b[0m\u001b[0;34m(\u001b[0m\u001b[0mx\u001b[0m\u001b[0;34m)\u001b[0m\u001b[0;34m\u001b[0m\u001b[0;34m\u001b[0m\u001b[0m\n\u001b[0m\u001b[1;32m     70\u001b[0m                 \u001b[0mik\u001b[0m \u001b[0;34m=\u001b[0m \u001b[0mclasses\u001b[0m\u001b[0;34m[\u001b[0m\u001b[0;34m:\u001b[0m\u001b[0;34m,\u001b[0m \u001b[0mk\u001b[0m\u001b[0;34m]\u001b[0m\u001b[0;34m\u001b[0m\u001b[0;34m\u001b[0m\u001b[0m\n\u001b[1;32m     71\u001b[0m                 \u001b[0ml0\u001b[0m \u001b[0;34m=\u001b[0m \u001b[0mlogits\u001b[0m\u001b[0;34m[\u001b[0m\u001b[0mrows\u001b[0m\u001b[0;34m,\u001b[0m \u001b[0mi0\u001b[0m\u001b[0;34m]\u001b[0m\u001b[0;34m\u001b[0m\u001b[0;34m\u001b[0m\u001b[0m\n",
      "\u001b[0;32m~/benchmark-adversarial-attacks/venv/lib/python3.6/site-packages/foolbox/models/base.py\u001b[0m in \u001b[0;36m__call__\u001b[0;34m(self, inputs)\u001b[0m\n\u001b[1;32m    100\u001b[0m         \u001b[0mx\u001b[0m\u001b[0;34m,\u001b[0m \u001b[0mrestore_type\u001b[0m \u001b[0;34m=\u001b[0m \u001b[0mep\u001b[0m\u001b[0;34m.\u001b[0m\u001b[0mastensor_\u001b[0m\u001b[0;34m(\u001b[0m\u001b[0minputs\u001b[0m\u001b[0;34m)\u001b[0m\u001b[0;34m\u001b[0m\u001b[0;34m\u001b[0m\u001b[0m\n\u001b[1;32m    101\u001b[0m         \u001b[0my\u001b[0m \u001b[0;34m=\u001b[0m \u001b[0mself\u001b[0m\u001b[0;34m.\u001b[0m\u001b[0m_preprocess\u001b[0m\u001b[0;34m(\u001b[0m\u001b[0mx\u001b[0m\u001b[0;34m)\u001b[0m\u001b[0;34m\u001b[0m\u001b[0;34m\u001b[0m\u001b[0m\n\u001b[0;32m--> 102\u001b[0;31m         \u001b[0mz\u001b[0m \u001b[0;34m=\u001b[0m \u001b[0mep\u001b[0m\u001b[0;34m.\u001b[0m\u001b[0mastensor\u001b[0m\u001b[0;34m(\u001b[0m\u001b[0mself\u001b[0m\u001b[0;34m.\u001b[0m\u001b[0m_model\u001b[0m\u001b[0;34m(\u001b[0m\u001b[0my\u001b[0m\u001b[0;34m.\u001b[0m\u001b[0mraw\u001b[0m\u001b[0;34m)\u001b[0m\u001b[0;34m)\u001b[0m\u001b[0;34m\u001b[0m\u001b[0;34m\u001b[0m\u001b[0m\n\u001b[0m\u001b[1;32m    103\u001b[0m         \u001b[0;32mreturn\u001b[0m \u001b[0mrestore_type\u001b[0m\u001b[0;34m(\u001b[0m\u001b[0mz\u001b[0m\u001b[0;34m)\u001b[0m\u001b[0;34m\u001b[0m\u001b[0;34m\u001b[0m\u001b[0m\n\u001b[1;32m    104\u001b[0m \u001b[0;34m\u001b[0m\u001b[0m\n",
      "\u001b[0;32m~/benchmark-adversarial-attacks/venv/lib/python3.6/site-packages/tensorflow/python/keras/engine/base_layer.py\u001b[0m in \u001b[0;36m__call__\u001b[0;34m(self, *args, **kwargs)\u001b[0m\n\u001b[1;32m    983\u001b[0m \u001b[0;34m\u001b[0m\u001b[0m\n\u001b[1;32m    984\u001b[0m         \u001b[0;32mwith\u001b[0m \u001b[0mops\u001b[0m\u001b[0;34m.\u001b[0m\u001b[0menable_auto_cast_variables\u001b[0m\u001b[0;34m(\u001b[0m\u001b[0mself\u001b[0m\u001b[0;34m.\u001b[0m\u001b[0m_compute_dtype_object\u001b[0m\u001b[0;34m)\u001b[0m\u001b[0;34m:\u001b[0m\u001b[0;34m\u001b[0m\u001b[0;34m\u001b[0m\u001b[0m\n\u001b[0;32m--> 985\u001b[0;31m           \u001b[0moutputs\u001b[0m \u001b[0;34m=\u001b[0m \u001b[0mcall_fn\u001b[0m\u001b[0;34m(\u001b[0m\u001b[0minputs\u001b[0m\u001b[0;34m,\u001b[0m \u001b[0;34m*\u001b[0m\u001b[0margs\u001b[0m\u001b[0;34m,\u001b[0m \u001b[0;34m**\u001b[0m\u001b[0mkwargs\u001b[0m\u001b[0;34m)\u001b[0m\u001b[0;34m\u001b[0m\u001b[0;34m\u001b[0m\u001b[0m\n\u001b[0m\u001b[1;32m    986\u001b[0m \u001b[0;34m\u001b[0m\u001b[0m\n\u001b[1;32m    987\u001b[0m         \u001b[0;32mif\u001b[0m \u001b[0mself\u001b[0m\u001b[0;34m.\u001b[0m\u001b[0m_activity_regularizer\u001b[0m\u001b[0;34m:\u001b[0m\u001b[0;34m\u001b[0m\u001b[0;34m\u001b[0m\u001b[0m\n",
      "\u001b[0;32m~/benchmark-adversarial-attacks/venv/lib/python3.6/site-packages/tensorflow/python/keras/engine/sequential.py\u001b[0m in \u001b[0;36mcall\u001b[0;34m(self, inputs, training, mask)\u001b[0m\n\u001b[1;32m    370\u001b[0m       \u001b[0;32mif\u001b[0m \u001b[0;32mnot\u001b[0m \u001b[0mself\u001b[0m\u001b[0;34m.\u001b[0m\u001b[0mbuilt\u001b[0m\u001b[0;34m:\u001b[0m\u001b[0;34m\u001b[0m\u001b[0;34m\u001b[0m\u001b[0m\n\u001b[1;32m    371\u001b[0m         \u001b[0mself\u001b[0m\u001b[0;34m.\u001b[0m\u001b[0m_init_graph_network\u001b[0m\u001b[0;34m(\u001b[0m\u001b[0mself\u001b[0m\u001b[0;34m.\u001b[0m\u001b[0minputs\u001b[0m\u001b[0;34m,\u001b[0m \u001b[0mself\u001b[0m\u001b[0;34m.\u001b[0m\u001b[0moutputs\u001b[0m\u001b[0;34m)\u001b[0m\u001b[0;34m\u001b[0m\u001b[0;34m\u001b[0m\u001b[0m\n\u001b[0;32m--> 372\u001b[0;31m       \u001b[0;32mreturn\u001b[0m \u001b[0msuper\u001b[0m\u001b[0;34m(\u001b[0m\u001b[0mSequential\u001b[0m\u001b[0;34m,\u001b[0m \u001b[0mself\u001b[0m\u001b[0;34m)\u001b[0m\u001b[0;34m.\u001b[0m\u001b[0mcall\u001b[0m\u001b[0;34m(\u001b[0m\u001b[0minputs\u001b[0m\u001b[0;34m,\u001b[0m \u001b[0mtraining\u001b[0m\u001b[0;34m=\u001b[0m\u001b[0mtraining\u001b[0m\u001b[0;34m,\u001b[0m \u001b[0mmask\u001b[0m\u001b[0;34m=\u001b[0m\u001b[0mmask\u001b[0m\u001b[0;34m)\u001b[0m\u001b[0;34m\u001b[0m\u001b[0;34m\u001b[0m\u001b[0m\n\u001b[0m\u001b[1;32m    373\u001b[0m \u001b[0;34m\u001b[0m\u001b[0m\n\u001b[1;32m    374\u001b[0m     \u001b[0moutputs\u001b[0m \u001b[0;34m=\u001b[0m \u001b[0minputs\u001b[0m  \u001b[0;31m# handle the corner case where self.layers is empty\u001b[0m\u001b[0;34m\u001b[0m\u001b[0;34m\u001b[0m\u001b[0m\n",
      "\u001b[0;32m~/benchmark-adversarial-attacks/venv/lib/python3.6/site-packages/tensorflow/python/keras/engine/functional.py\u001b[0m in \u001b[0;36mcall\u001b[0;34m(self, inputs, training, mask)\u001b[0m\n\u001b[1;32m    384\u001b[0m     \"\"\"\n\u001b[1;32m    385\u001b[0m     return self._run_internal_graph(\n\u001b[0;32m--> 386\u001b[0;31m         inputs, training=training, mask=mask)\n\u001b[0m\u001b[1;32m    387\u001b[0m \u001b[0;34m\u001b[0m\u001b[0m\n\u001b[1;32m    388\u001b[0m   \u001b[0;32mdef\u001b[0m \u001b[0mcompute_output_shape\u001b[0m\u001b[0;34m(\u001b[0m\u001b[0mself\u001b[0m\u001b[0;34m,\u001b[0m \u001b[0minput_shape\u001b[0m\u001b[0;34m)\u001b[0m\u001b[0;34m:\u001b[0m\u001b[0;34m\u001b[0m\u001b[0;34m\u001b[0m\u001b[0m\n",
      "\u001b[0;32m~/benchmark-adversarial-attacks/venv/lib/python3.6/site-packages/tensorflow/python/keras/engine/functional.py\u001b[0m in \u001b[0;36m_run_internal_graph\u001b[0;34m(self, inputs, training, mask)\u001b[0m\n\u001b[1;32m    506\u001b[0m \u001b[0;34m\u001b[0m\u001b[0m\n\u001b[1;32m    507\u001b[0m         \u001b[0margs\u001b[0m\u001b[0;34m,\u001b[0m \u001b[0mkwargs\u001b[0m \u001b[0;34m=\u001b[0m \u001b[0mnode\u001b[0m\u001b[0;34m.\u001b[0m\u001b[0mmap_arguments\u001b[0m\u001b[0;34m(\u001b[0m\u001b[0mtensor_dict\u001b[0m\u001b[0;34m)\u001b[0m\u001b[0;34m\u001b[0m\u001b[0;34m\u001b[0m\u001b[0m\n\u001b[0;32m--> 508\u001b[0;31m         \u001b[0moutputs\u001b[0m \u001b[0;34m=\u001b[0m \u001b[0mnode\u001b[0m\u001b[0;34m.\u001b[0m\u001b[0mlayer\u001b[0m\u001b[0;34m(\u001b[0m\u001b[0;34m*\u001b[0m\u001b[0margs\u001b[0m\u001b[0;34m,\u001b[0m \u001b[0;34m**\u001b[0m\u001b[0mkwargs\u001b[0m\u001b[0;34m)\u001b[0m\u001b[0;34m\u001b[0m\u001b[0;34m\u001b[0m\u001b[0m\n\u001b[0m\u001b[1;32m    509\u001b[0m \u001b[0;34m\u001b[0m\u001b[0m\n\u001b[1;32m    510\u001b[0m         \u001b[0;31m# Update tensor_dict.\u001b[0m\u001b[0;34m\u001b[0m\u001b[0;34m\u001b[0m\u001b[0;34m\u001b[0m\u001b[0m\n",
      "\u001b[0;32m~/benchmark-adversarial-attacks/venv/lib/python3.6/site-packages/tensorflow/python/keras/engine/base_layer.py\u001b[0m in \u001b[0;36m__call__\u001b[0;34m(self, *args, **kwargs)\u001b[0m\n\u001b[1;32m    983\u001b[0m \u001b[0;34m\u001b[0m\u001b[0m\n\u001b[1;32m    984\u001b[0m         \u001b[0;32mwith\u001b[0m \u001b[0mops\u001b[0m\u001b[0;34m.\u001b[0m\u001b[0menable_auto_cast_variables\u001b[0m\u001b[0;34m(\u001b[0m\u001b[0mself\u001b[0m\u001b[0;34m.\u001b[0m\u001b[0m_compute_dtype_object\u001b[0m\u001b[0;34m)\u001b[0m\u001b[0;34m:\u001b[0m\u001b[0;34m\u001b[0m\u001b[0;34m\u001b[0m\u001b[0m\n\u001b[0;32m--> 985\u001b[0;31m           \u001b[0moutputs\u001b[0m \u001b[0;34m=\u001b[0m \u001b[0mcall_fn\u001b[0m\u001b[0;34m(\u001b[0m\u001b[0minputs\u001b[0m\u001b[0;34m,\u001b[0m \u001b[0;34m*\u001b[0m\u001b[0margs\u001b[0m\u001b[0;34m,\u001b[0m \u001b[0;34m**\u001b[0m\u001b[0mkwargs\u001b[0m\u001b[0;34m)\u001b[0m\u001b[0;34m\u001b[0m\u001b[0;34m\u001b[0m\u001b[0m\n\u001b[0m\u001b[1;32m    986\u001b[0m \u001b[0;34m\u001b[0m\u001b[0m\n\u001b[1;32m    987\u001b[0m         \u001b[0;32mif\u001b[0m \u001b[0mself\u001b[0m\u001b[0;34m.\u001b[0m\u001b[0m_activity_regularizer\u001b[0m\u001b[0;34m:\u001b[0m\u001b[0;34m\u001b[0m\u001b[0;34m\u001b[0m\u001b[0m\n",
      "\u001b[0;32m~/benchmark-adversarial-attacks/venv/lib/python3.6/site-packages/tensorflow/python/keras/layers/core.py\u001b[0m in \u001b[0;36mcall\u001b[0;34m(self, inputs)\u001b[0m\n\u001b[1;32m   1196\u001b[0m         \u001b[0mself\u001b[0m\u001b[0;34m.\u001b[0m\u001b[0mbias\u001b[0m\u001b[0;34m,\u001b[0m\u001b[0;34m\u001b[0m\u001b[0;34m\u001b[0m\u001b[0m\n\u001b[1;32m   1197\u001b[0m         \u001b[0mself\u001b[0m\u001b[0;34m.\u001b[0m\u001b[0mactivation\u001b[0m\u001b[0;34m,\u001b[0m\u001b[0;34m\u001b[0m\u001b[0;34m\u001b[0m\u001b[0m\n\u001b[0;32m-> 1198\u001b[0;31m         dtype=self._compute_dtype_object)\n\u001b[0m\u001b[1;32m   1199\u001b[0m \u001b[0;34m\u001b[0m\u001b[0m\n\u001b[1;32m   1200\u001b[0m   \u001b[0;32mdef\u001b[0m \u001b[0mcompute_output_shape\u001b[0m\u001b[0;34m(\u001b[0m\u001b[0mself\u001b[0m\u001b[0;34m,\u001b[0m \u001b[0minput_shape\u001b[0m\u001b[0;34m)\u001b[0m\u001b[0;34m:\u001b[0m\u001b[0;34m\u001b[0m\u001b[0;34m\u001b[0m\u001b[0m\n",
      "\u001b[0;32m~/benchmark-adversarial-attacks/venv/lib/python3.6/site-packages/tensorflow/python/keras/layers/ops/core.py\u001b[0m in \u001b[0;36mdense\u001b[0;34m(inputs, kernel, bias, activation, dtype)\u001b[0m\n\u001b[1;32m     62\u001b[0m \u001b[0;34m\u001b[0m\u001b[0m\n\u001b[1;32m     63\u001b[0m   \u001b[0;32mif\u001b[0m \u001b[0mbias\u001b[0m \u001b[0;32mis\u001b[0m \u001b[0;32mnot\u001b[0m \u001b[0;32mNone\u001b[0m\u001b[0;34m:\u001b[0m\u001b[0;34m\u001b[0m\u001b[0;34m\u001b[0m\u001b[0m\n\u001b[0;32m---> 64\u001b[0;31m     \u001b[0moutputs\u001b[0m \u001b[0;34m=\u001b[0m \u001b[0mnn_ops\u001b[0m\u001b[0;34m.\u001b[0m\u001b[0mbias_add\u001b[0m\u001b[0;34m(\u001b[0m\u001b[0moutputs\u001b[0m\u001b[0;34m,\u001b[0m \u001b[0mbias\u001b[0m\u001b[0;34m)\u001b[0m\u001b[0;34m\u001b[0m\u001b[0;34m\u001b[0m\u001b[0m\n\u001b[0m\u001b[1;32m     65\u001b[0m \u001b[0;34m\u001b[0m\u001b[0m\n\u001b[1;32m     66\u001b[0m   \u001b[0;32mif\u001b[0m \u001b[0mactivation\u001b[0m \u001b[0;32mis\u001b[0m \u001b[0;32mnot\u001b[0m \u001b[0;32mNone\u001b[0m\u001b[0;34m:\u001b[0m\u001b[0;34m\u001b[0m\u001b[0;34m\u001b[0m\u001b[0m\n",
      "\u001b[0;32m~/benchmark-adversarial-attacks/venv/lib/python3.6/site-packages/tensorflow/python/util/dispatch.py\u001b[0m in \u001b[0;36mwrapper\u001b[0;34m(*args, **kwargs)\u001b[0m\n\u001b[1;32m    199\u001b[0m     \u001b[0;34m\"\"\"Call target, and fall back on dispatchers if there is a TypeError.\"\"\"\u001b[0m\u001b[0;34m\u001b[0m\u001b[0;34m\u001b[0m\u001b[0m\n\u001b[1;32m    200\u001b[0m     \u001b[0;32mtry\u001b[0m\u001b[0;34m:\u001b[0m\u001b[0;34m\u001b[0m\u001b[0;34m\u001b[0m\u001b[0m\n\u001b[0;32m--> 201\u001b[0;31m       \u001b[0;32mreturn\u001b[0m \u001b[0mtarget\u001b[0m\u001b[0;34m(\u001b[0m\u001b[0;34m*\u001b[0m\u001b[0margs\u001b[0m\u001b[0;34m,\u001b[0m \u001b[0;34m**\u001b[0m\u001b[0mkwargs\u001b[0m\u001b[0;34m)\u001b[0m\u001b[0;34m\u001b[0m\u001b[0;34m\u001b[0m\u001b[0m\n\u001b[0m\u001b[1;32m    202\u001b[0m     \u001b[0;32mexcept\u001b[0m \u001b[0;34m(\u001b[0m\u001b[0mTypeError\u001b[0m\u001b[0;34m,\u001b[0m \u001b[0mValueError\u001b[0m\u001b[0;34m)\u001b[0m\u001b[0;34m:\u001b[0m\u001b[0;34m\u001b[0m\u001b[0;34m\u001b[0m\u001b[0m\n\u001b[1;32m    203\u001b[0m       \u001b[0;31m# Note: convert_to_eager_tensor currently raises a ValueError, not a\u001b[0m\u001b[0;34m\u001b[0m\u001b[0;34m\u001b[0m\u001b[0;34m\u001b[0m\u001b[0m\n",
      "\u001b[0;32m~/benchmark-adversarial-attacks/venv/lib/python3.6/site-packages/tensorflow/python/ops/nn_ops.py\u001b[0m in \u001b[0;36mbias_add\u001b[0;34m(value, bias, data_format, name)\u001b[0m\n\u001b[1;32m   3365\u001b[0m     \u001b[0;32melse\u001b[0m\u001b[0;34m:\u001b[0m\u001b[0;34m\u001b[0m\u001b[0;34m\u001b[0m\u001b[0m\n\u001b[1;32m   3366\u001b[0m       return gen_nn_ops.bias_add(\n\u001b[0;32m-> 3367\u001b[0;31m           value, bias, data_format=data_format, name=name)\n\u001b[0m\u001b[1;32m   3368\u001b[0m \u001b[0;34m\u001b[0m\u001b[0m\n\u001b[1;32m   3369\u001b[0m \u001b[0;34m\u001b[0m\u001b[0m\n",
      "\u001b[0;32m~/benchmark-adversarial-attacks/venv/lib/python3.6/site-packages/tensorflow/python/ops/gen_nn_ops.py\u001b[0m in \u001b[0;36mbias_add\u001b[0;34m(value, bias, data_format, name)\u001b[0m\n\u001b[1;32m    676\u001b[0m       _result = pywrap_tfe.TFE_Py_FastPathExecute(\n\u001b[1;32m    677\u001b[0m         \u001b[0m_ctx\u001b[0m\u001b[0;34m.\u001b[0m\u001b[0m_context_handle\u001b[0m\u001b[0;34m,\u001b[0m \u001b[0mtld\u001b[0m\u001b[0;34m.\u001b[0m\u001b[0mdevice_name\u001b[0m\u001b[0;34m,\u001b[0m \u001b[0;34m\"BiasAdd\"\u001b[0m\u001b[0;34m,\u001b[0m \u001b[0mname\u001b[0m\u001b[0;34m,\u001b[0m\u001b[0;34m\u001b[0m\u001b[0;34m\u001b[0m\u001b[0m\n\u001b[0;32m--> 678\u001b[0;31m         tld.op_callbacks, value, bias, \"data_format\", data_format)\n\u001b[0m\u001b[1;32m    679\u001b[0m       \u001b[0;32mreturn\u001b[0m \u001b[0m_result\u001b[0m\u001b[0;34m\u001b[0m\u001b[0;34m\u001b[0m\u001b[0m\n\u001b[1;32m    680\u001b[0m     \u001b[0;32mexcept\u001b[0m \u001b[0m_core\u001b[0m\u001b[0;34m.\u001b[0m\u001b[0m_NotOkStatusException\u001b[0m \u001b[0;32mas\u001b[0m \u001b[0me\u001b[0m\u001b[0;34m:\u001b[0m\u001b[0;34m\u001b[0m\u001b[0;34m\u001b[0m\u001b[0m\n",
      "\u001b[0;31mKeyboardInterrupt\u001b[0m: "
     ]
    }
   ],
   "source": [
    "epsilon_list=[0.001,0.01,0.1,1,10,25,50,100]\n",
    "\n",
    "\n",
    "\n",
    "name='Mnist'\n",
    "(X_train,X_test,y_train,y_test)=pick_data_set(name)\n",
    "small_model=train_and_save_small_model(name)\n",
    "\n",
    "model_to_fool = TensorFlowModel(small_model, bounds=(0, 255))\n",
    "(SR_deepfool_1step_dic_small_model,SR_deepfool_mutliple_steps_dic_small_model,SR_FGSM_dic_small_model)=attack_runner(model_to_fool,X_test[:100], y_test[:100], epsilon_list)\n",
    "SR_blackbox_dic_small_model=black_box_attack(small_model,X_test[0].astype('int32'))\n",
    "with open('data/perfs_global_small_model_'+str(name), 'wb') as f:\n",
    "    pickle.Pickler(f).dump(SR_deepfool_1step_dic_small_model)\n",
    "    pickle.Pickler(f).dump(SR_deepfool_mutliple_steps_dic_small_model)\n",
    "    pickle.Pickler(f).dump(SR_FGSM_dic_small_model)\n",
    "    pickle.Pickler(f).dump(SR_blackbox_dic_small_model)"
   ]
  },
  {
   "cell_type": "code",
   "execution_count": null,
   "metadata": {},
   "outputs": [],
   "source": [
    "name='Mnist'\n",
    "(X_train,X_test,y_train,y_test)=pick_data_set(name)\n",
    "y_pred_small_model=[np.argmax(pred) for pred in small_model.predict(X_test)]\n",
    "y_true=[np.argmax(y) for y in y_test]\n",
    "classification_small_model=classification_report(y_true, y_pred_small_model)\n",
    "print('performances of the small model on '+str(name))\n",
    "print('-------------------------')\n",
    "print(classification_small_model)"
   ]
  },
  {
   "cell_type": "code",
   "execution_count": null,
   "metadata": {},
   "outputs": [],
   "source": [
    "epsilon_list=[0.001,0.01,0.1,1,10,25,50,100]\n",
    "\n",
    "\n",
    "name='Mnist'\n",
    "(X_train,X_test,y_train,y_test)=pick_data_set(name)\n",
    "\n",
    "model_effnet=train_and_save_effnet(name)\n",
    "model_to_fool = TensorFlowModel(model_effnet,bounds=(0, 255))\n",
    "\n",
    "(SR_deepfool_1step_dic_model_effnet,SR_deepfool_mutliple_steps_dic_model_effnet,SR_FGSM_dic_model_effnet)=attack_runner(model_to_fool,X_test[:100], y_test[:100], epsilon_list)\n",
    "SR_blackbox_dic_model_effnet=black_box_attack(model_effnet,X_test[0],iterations=150)\n",
    "with open('data/perfs_global_model_effnet_'+str(name), 'wb') as f:\n",
    "    pickle.Pickler(f).dump(SR_deepfool_1step_dic_model_effnet)\n",
    "    pickle.Pickler(f).dump(SR_deepfool_mutliple_steps_dic_model_effnet)\n",
    "    pickle.Pickler(f).dump(SR_FGSM_dic_model_effnet)\n",
    "    pickle.Pickler(f).dump(SR_blackbox_dic_model_effnet)"
   ]
  },
  {
   "cell_type": "code",
   "execution_count": null,
   "metadata": {},
   "outputs": [],
   "source": [
    "y_pred_eff=[np.argmax(pred) for pred in model_effnet.predict(X_test)]\n",
    "y_true=[np.argmax(y) for y in y_test]\n",
    "classification_eff=classification_report(y_true, y_pred_eff)\n",
    "print('performances of effnet on '+str(name))\n",
    "print('-------------------------')\n",
    "print(classification_eff)"
   ]
  },
  {
   "cell_type": "code",
   "execution_count": null,
   "metadata": {},
   "outputs": [],
   "source": [
    "tf.compat.v1.reset_default_graph()"
   ]
  },
  {
   "cell_type": "code",
   "execution_count": null,
   "metadata": {},
   "outputs": [],
   "source": [
    "epsilon_list=[0.001,0.01,0.1,1,10,25,50,100]\n",
    "\n",
    "\n",
    "\n",
    "name='Cifar'\n",
    "(X_train,X_test,y_train,y_test)=pick_data_set(name)\n",
    "small_model=train_and_save_small_model(name)\n",
    "\n",
    "model_to_fool = TensorFlowModel(small_model, bounds=(0, 255))\n",
    "(SR_deepfool_1step_dic_small_model,SR_deepfool_mutliple_steps_dic_small_model,SR_FGSM_dic_small_model)=attack_runner(model_to_fool,X_test[:100], y_test[:100], epsilon_list)\n",
    "SR_blackbox_dic_small_model=black_box_attack(small_model,X_test[0])\n",
    "with open('data/perfs_global_small_model_'+str(name), 'wb') as f:\n",
    "    pickle.Pickler(f).dump(SR_deepfool_1step_dic_small_model)\n",
    "    pickle.Pickler(f).dump(SR_deepfool_mutliple_steps_dic_small_model)\n",
    "    pickle.Pickler(f).dump(SR_FGSM_dic_small_model)\n",
    "    pickle.Pickler(f).dump(SR_blackbox_dic_small_model)"
   ]
  },
  {
   "cell_type": "code",
   "execution_count": null,
   "metadata": {},
   "outputs": [],
   "source": [
    "name='Cifar'\n",
    "(X_train,X_test,y_train,y_test)=pick_data_set(name)\n",
    "y_pred_small_model=[np.argmax(pred) for pred in small_model.predict(X_test)]\n",
    "y_true=[np.argmax(y) for y in y_test]\n",
    "classification_small_model=classification_report(y_true, y_pred_small_model)\n",
    "print('performances of the small model on '+str(name))\n",
    "print('-------------------------')\n",
    "print(classification_small_model)"
   ]
  },
  {
   "cell_type": "code",
   "execution_count": null,
   "metadata": {},
   "outputs": [],
   "source": [
    "epsilon_list=[0.001,0.01,0.1,1,10,25,50,100]\n",
    "\n",
    "name='Cifar'\n",
    "(X_train,X_test,y_train,y_test)=pick_data_set(name)\n",
    "\n",
    "model_effnet=train_and_save_effnet(name)\n",
    "model_to_fool = TensorFlowModel(model_effnet, bounds=(0, 255))\n",
    "\n",
    "(SR_deepfool_1step_dic_model_effnet,SR_deepfool_mutliple_steps_dic_model_effnet,SR_FGSM_dic_model_effnet)=attack_runner(model_to_fool,X_test[:100], y_test[:100], epsilon_list)\n",
    "SR_blackbox_dic_model_effnet=black_box_attack(model_effnet,X_test[0],iterations=150)\n",
    "with open('data/perfs_global_model_effnet_'+str(name), 'wb') as f:\n",
    "    pickle.Pickler(f).dump(SR_deepfool_1step_dic_model_effnet)\n",
    "    pickle.Pickler(f).dump(SR_deepfool_mutliple_steps_dic_model_effnet)\n",
    "    pickle.Pickler(f).dump(SR_FGSM_dic_model_effnet)\n",
    "    pickle.Pickler(f).dump(SR_blackbox_dic_model_effnet)"
   ]
  },
  {
   "cell_type": "code",
   "execution_count": null,
   "metadata": {},
   "outputs": [],
   "source": [
    "y_pred_eff=[np.argmax(pred) for pred in model_effnet.predict(X_test)]\n",
    "y_true=[np.argmax(y) for y in y_test]\n",
    "classification_eff=classification_report(y_true, y_pred_eff)\n",
    "print('performances of effnet on '+str(name))\n",
    "print('-------------------------')\n",
    "print(classification_eff)"
   ]
  },
  {
   "cell_type": "code",
   "execution_count": null,
   "metadata": {},
   "outputs": [],
   "source": [
    "with open('data/perfs_global_small_model_Cifar', 'rb') as f:\n",
    "    SR_deepfool_1step_dic_small_model_Cifar=pickle.Unpickler(f).load()\n",
    "    SR_deepfool_mutliple_steps_dic_small_model_Cifar=pickle.Unpickler(f).load()\n",
    "    SR_FGSM_dic_small_model_Cifar=pickle.Unpickler(f).load()\n",
    "    SR_blackbox_dic_small_model_Cifar=pickle.Unpickler(f).load()\n",
    "    \n",
    "with open('data/perfs_global_model_effnet_Cifar', 'rb') as f:\n",
    "    SR_deepfool_1step_dic_model_effnet_Cifar=pickle.Unpickler(f).load()\n",
    "    SR_deepfool_mutliple_steps_dic_model_effnet_Cifar=pickle.Unpickler(f).load()\n",
    "    SR_FGSM_dic_model_effnet_Cifar=pickle.Unpickler(f).load()\n",
    "    SR_blackbox_dic_model_effnet_Cifar=pickle.Unpickler(f).load()\n",
    "    \n",
    "with open('data/perfs_global_small_model_Mnist', 'rb') as f:\n",
    "    SR_deepfool_1step_dic_small_model_Mnist=pickle.Unpickler(f).load()\n",
    "    SR_deepfool_mutliple_steps_dic_small_model_Mnist=pickle.Unpickler(f).load()\n",
    "    SR_FGSM_dic_small_model_Mnist=pickle.Unpickler(f).load()\n",
    "    SR_blackbox_dic_small_model_Mnist=pickle.Unpickler(f).load()\n",
    "    \n",
    "\n",
    "with open('data/perfs_global_model_effnet_Mnist', 'rb') as f:\n",
    "    SR_deepfool_1step_dic_model_effnet_Mnist=pickle.Unpickler(f).load()\n",
    "    SR_deepfool_mutliple_steps_dic_model_effnet_Mnist=pickle.Unpickler(f).load()\n",
    "    SR_FGSM_dic_model_effnet_Mnist=pickle.Unpickler(f).load()\n",
    "    SR_blackbox_dic_model_effnet_Mnist=pickle.Unpickler(f).load()\n",
    "    \n",
    "   "
   ]
  },
  {
   "cell_type": "code",
   "execution_count": null,
   "metadata": {
    "scrolled": false
   },
   "outputs": [],
   "source": [
    "plt.rcParams[\"figure.figsize\"] = 21,14\n",
    "colors = plt.rcParams[\"axes.prop_cycle\"].by_key()[\"color\"]\n",
    "fig, ax = plt.subplots(ncols=3, nrows=3, gridspec_kw={\"height_ratios\":[0.01,1,1],\"width_ratios\":[0.5,1,1]})\n",
    "fig.suptitle('Parameters influence on attack effectiveness', \n",
    "             fontsize=20, fontweight='bold')\n",
    "\n",
    "\n",
    "ax[0][0].axis(\"off\")\n",
    "ax[0][0].set_title(\"Data Set / Model\", fontweight='bold',fontsize=15)\n",
    "\n",
    "\n",
    "ax[0][1].axis(\"off\")\n",
    "ax[0][1].set_title(\"Small Model\", fontweight='bold',fontsize=15)\n",
    "\n",
    "\n",
    "ax[0][2].axis(\"off\")\n",
    "ax[0][2].set_title(\"EfficentNet\", fontweight='bold',fontsize=15)\n",
    "\n",
    "\n",
    "ax[1][0].axis(\"off\")\n",
    "ax[1][0].set_title(\"Cifar Data set\", fontweight='bold',fontsize=15)\n",
    "\n",
    "\n",
    "\n",
    "ax[2][0].axis(\"off\")\n",
    "ax[2][0].set_title(\"Mnist Data set\", fontweight='bold',fontsize=15)\n",
    "\n",
    "\n",
    "ax[1][1].plot(list(SR_deepfool_1step_dic_small_model_Cifar.keys()),list(SR_deepfool_1step_dic_small_model_Cifar.values()),label='deepfool 1 step')\n",
    "ax[1][1].plot(list(SR_deepfool_mutliple_steps_dic_small_model_Cifar.keys()),list(SR_deepfool_mutliple_steps_dic_small_model_Cifar.values()),label='Deepfool multiple steps')\n",
    "ax[1][1].plot(list(SR_FGSM_dic_small_model_Cifar.keys()),list(SR_FGSM_dic_small_model_Cifar.values()),label='FGSM')\n",
    "ax[1][1].plot(list(SR_blackbox_dic_small_model_Cifar.keys()),list(SR_blackbox_dic_small_model_Cifar.values()),label='boundary_attack')\n",
    "ax[1][1].set_xscale('log')\n",
    "ax[1][1].grid(True,which=\"both\", linestyle='--')\n",
    "ax[1][1].set_title('Successs rate for different degrees of change \\n on Cifar images for the small model',fontsize=11)\n",
    "ax[1][1].set_xlabel('DOC (%)')\n",
    "ax[1][1].set_ylabel('SR')\n",
    "ax[1][1].legend(loc='lower right')\n",
    "\n",
    "\n",
    "ax[1][2].plot(list(SR_deepfool_1step_dic_model_effnet_Cifar.keys()),list(SR_deepfool_1step_dic_model_effnet_Cifar.values()),label='deepfool 1 step')\n",
    "ax[1][2].plot(list(SR_deepfool_mutliple_steps_dic_model_effnet_Cifar.keys()),list(SR_deepfool_mutliple_steps_dic_model_effnet_Cifar.values()),label='Deepfool multiple steps')\n",
    "ax[1][2].plot(list(SR_FGSM_dic_model_effnet_Cifar.keys()),list(SR_FGSM_dic_model_effnet_Cifar.values()),label='FGSM')\n",
    "ax[1][2].plot(list(SR_blackbox_dic_model_effnet_Cifar.keys()),list(SR_blackbox_dic_model_effnet_Cifar.values()),label='boundary_attack')\n",
    "ax[1][2].set_xscale('log')\n",
    "ax[1][2].grid(True,which=\"both\", linestyle='--')\n",
    "ax[1][2].set_title('Successs rate for different degrees of change \\n on Cifar images for the effnet model',fontsize=11)\n",
    "ax[1][2].set_xlabel('DOC (%)')\n",
    "ax[1][2].set_ylabel('SR')\n",
    "ax[1][2].legend(loc='lower right')\n",
    "\n",
    "\n",
    "\n",
    "\n",
    "\n",
    "\n",
    "ax[2][1].plot(list(SR_deepfool_1step_dic_small_model_Mnist.keys()),list(SR_deepfool_1step_dic_small_model_Mnist.values()),label='deepfool 1 step')\n",
    "ax[2][1].plot(list(SR_deepfool_mutliple_steps_dic_small_model_Mnist.keys()),list(SR_deepfool_mutliple_steps_dic_small_model_Mnist.values()),label='Deepfool multiple steps')\n",
    "ax[2][1].plot(list(SR_FGSM_dic_small_model_Mnist.keys()),list(SR_FGSM_dic_small_model_Mnist.values()),label='FGSM')\n",
    "ax[2][1].plot(list(SR_blackbox_dic_small_model_Mnist.keys()),list(SR_blackbox_dic_small_model_Mnist.values()),label='boundary_attack')\n",
    "ax[2][1].set_xscale('log')\n",
    "ax[2][1].grid(True,which=\"both\", linestyle='--')\n",
    "ax[2][1].set_title('Successs rate for different degrees of change \\n on Mnist images for the small model',fontsize=11)\n",
    "ax[2][1].set_xlabel('DOC (%)')\n",
    "ax[2][1].set_ylabel('SR')\n",
    "ax[2][1].legend(loc='upper left')\n",
    "\n",
    "\n",
    "ax[2][2].plot(list(SR_deepfool_1step_dic_model_effnet_Mnist.keys()),list(SR_deepfool_1step_dic_model_effnet_Mnist.values()),label='deepfool 1 step')\n",
    "ax[2][2].plot(list(SR_deepfool_mutliple_steps_dic_model_effnet_Mnist.keys()),list(SR_deepfool_mutliple_steps_dic_model_effnet_Mnist.values()),label='Deepfool multiple steps')\n",
    "ax[2][2].plot(list(SR_FGSM_dic_model_effnet_Mnist.keys()),list(SR_FGSM_dic_model_effnet_Mnist.values()),label='FGSM')\n",
    "ax[2][2].plot(list(SR_blackbox_dic_model_effnet_Mnist.keys()),list(SR_blackbox_dic_model_effnet_Mnist.values()),label='boundary_attack')\n",
    "ax[2][2].set_xscale('log')\n",
    "ax[2][2].grid(True,which=\"both\", linestyle='--')\n",
    "ax[2][2].set_title('Successs rate for different degrees of change \\n on Mnist images for the effnet model',fontsize=11)\n",
    "ax[2][2].set_xlabel('DOC (%)')\n",
    "ax[2][2].set_ylabel('SR')\n",
    "ax[2][2].legend(loc='upper left')\n",
    "\n",
    "\n",
    "\n",
    "\n",
    "\n",
    "fig.subplots_adjust(hspace=0.5,bottom=0.1)\n",
    "plt.show()"
   ]
  }
 ],
 "metadata": {
  "kernelspec": {
   "display_name": "Benchmark2",
   "language": "python",
   "name": "benchmark"
  },
  "language_info": {
   "codemirror_mode": {
    "name": "ipython",
    "version": 3
   },
   "file_extension": ".py",
   "mimetype": "text/x-python",
   "name": "python",
   "nbconvert_exporter": "python",
   "pygments_lexer": "ipython3",
   "version": "3.6.9"
  }
 },
 "nbformat": 4,
 "nbformat_minor": 2
}
