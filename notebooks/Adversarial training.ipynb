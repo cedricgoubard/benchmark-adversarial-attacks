{
 "cells": [
  {
   "cell_type": "markdown",
   "metadata": {},
   "source": [
    "#  Adversarial training\n"
   ]
  },
  {
   "cell_type": "code",
   "execution_count": 1,
   "metadata": {},
   "outputs": [],
   "source": [
    "%load_ext autoreload\n",
    "%autoreload 2"
   ]
  },
  {
   "cell_type": "code",
   "execution_count": 2,
   "metadata": {},
   "outputs": [],
   "source": [
    "import os\n",
    "from os.path import join,exists\n",
    "\n",
    "import time \n",
    "import numpy as np\n",
    "import pandas as pd\n",
    "import cv2\n",
    "import pickle\n",
    "from tqdm import tqdm\n",
    "from PIL import Image\n",
    "import matplotlib.pyplot as plt\n",
    "\n",
    "import tensorflow as tf\n",
    "import gc\n",
    "\n",
    "\n",
    "from tensorflow import convert_to_tensor\n",
    "import tensorflow.keras.backend as K\n",
    "from tensorflow.keras.models import  load_model,Model\n",
    "from tensorflow.keras import applications\n",
    "from tensorflow.keras.callbacks import ModelCheckpoint\n",
    "from tensorflow.keras.layers import Dropout, Activation, Dense, GlobalMaxPooling2D,Conv2D,Flatten,MaxPooling2D,InputLayer\n",
    "from tensorflow.keras.utils import to_categorical\n",
    "from tensorflow.keras.losses import Loss,CategoricalCrossentropy\n",
    "\n",
    "import copy\n",
    "\n",
    "from efficientnet.tfkeras import EfficientNetB7\n",
    "from tensorflow.keras import datasets\n",
    "from foolbox.attacks import LinfFastGradientAttack,LinfDeepFoolAttack\n",
    "from foolbox.distances import LpDistance\n",
    "from foolbox.models import TensorFlowModel\n",
    "from foolbox import criteria\n",
    "from sklearn.metrics import classification_report\n",
    "\n",
    "\n",
    "from art.attacks.evasion import SaliencyMapMethod\n",
    "from art.estimators.classification import TensorFlowV2Classifier\n",
    "from art.attacks.evasion import BoundaryAttack\n",
    "from art.utils import load_dataset #to play with cifar images\n",
    "\n",
    "\n",
    "gpus = tf.config.experimental.list_physical_devices('GPU')\n",
    "tf.config.experimental.set_virtual_device_configuration(\n",
    "    gpus[0],\n",
    "    [tf.config.experimental.VirtualDeviceConfiguration(memory_limit=4*1024)]\n",
    ")"
   ]
  },
  {
   "cell_type": "code",
   "execution_count": 3,
   "metadata": {},
   "outputs": [],
   "source": [
    "tf.config.run_functions_eagerly(False)"
   ]
  },
  {
   "cell_type": "code",
   "execution_count": 4,
   "metadata": {},
   "outputs": [],
   "source": [
    "tf.random.set_seed(0)"
   ]
  },
  {
   "cell_type": "markdown",
   "metadata": {},
   "source": [
    "#### 1. Load Data"
   ]
  },
  {
   "cell_type": "code",
   "execution_count": 5,
   "metadata": {},
   "outputs": [],
   "source": [
    "data_mnist=datasets.mnist.load_data(path='mnist.npz')\n",
    "X_train_mnist,y_train_mnist=data_mnist[0][0],data_mnist[0][1]\n",
    "X_test_mnist,y_test_mnist=data_mnist[1][0],data_mnist[1][1]\n",
    "y_train_mnist = to_categorical(y_train_mnist, 10)\n",
    "y_test_mnist = to_categorical(y_test_mnist, 10)\n",
    "\n",
    "\"\"\" Train \"\"\"\n",
    "X_train_img_mnist = np.full((60000, 32, 32, 3), 0)\n",
    "for i, s in enumerate(X_train_mnist):\n",
    "    X_train_img_mnist[i] = cv2.cvtColor(np.pad(s,2), cv2.COLOR_GRAY2RGB) \n",
    "    \n",
    "\"\"\" Test \"\"\"\n",
    "X_test_img_mnist = np.full((10000, 32, 32, 3), 0)\n",
    "for i, s in enumerate(X_test_mnist):\n",
    "    X_test_img_mnist[i] = cv2.cvtColor(np.pad(s,2), cv2.COLOR_GRAY2RGB) \n",
    "    \n",
    "X_train_mnist=X_train_img_mnist\n",
    "X_test_mnist= X_test_img_mnist"
   ]
  },
  {
   "cell_type": "code",
   "execution_count": 6,
   "metadata": {},
   "outputs": [],
   "source": [
    "(X_train_cifar, y_train_cifar), (X_test_cifar, y_test_cifar), _,_=load_dataset('cifar10')\n",
    "for i, im in enumerate(X_train_cifar):\n",
    "    X_train_cifar[i]=255*im\n",
    "for i, im in enumerate(X_test_cifar):\n",
    "    X_test_cifar[i]=255*im    \n",
    "\n",
    "\n",
    "dict_classes={}\n",
    "dict_classes[0]='airplane'\n",
    "dict_classes[1]='automobile'\n",
    "dict_classes[2]='bird'\n",
    "dict_classes[3]='cat'\n",
    "dict_classes[4]='deer'\n",
    "dict_classes[5]='dog'\n",
    "dict_classes[6]='frog'\n",
    "dict_classes[7]='horse'\n",
    "dict_classes[8]='ship'\n",
    "dict_classes[9]='truck'"
   ]
  },
  {
   "cell_type": "code",
   "execution_count": 7,
   "metadata": {},
   "outputs": [],
   "source": [
    "def pick_data_set(data_set_name):\n",
    "    \n",
    "    if data_set_name=='Mnist':\n",
    "        X_train=X_train_mnist\n",
    "        X_test= X_test_mnist\n",
    "        y_train = y_train_mnist\n",
    "        y_test= y_test_mnist\n",
    "\n",
    "    elif data_set_name=='Cifar':\n",
    "        X_train=X_train_cifar\n",
    "        X_test= X_test_cifar\n",
    "        y_train = y_train_cifar\n",
    "        y_test= y_test_cifar  \n",
    "        \n",
    "    train_data_set=tf.data.Dataset.from_tensor_slices((X_train,y_train)).shuffle(buffer_size=100000).batch(128)\n",
    "    \n",
    "    \n",
    "    return(train_data_set,X_test,y_test)\n",
    "    "
   ]
  },
  {
   "cell_type": "markdown",
   "metadata": {},
   "source": [
    "#### 2. Load models"
   ]
  },
  {
   "cell_type": "markdown",
   "metadata": {},
   "source": [
    "On défini une classe qui créé des modèles dont la fonction objectif est une combinaison de deux fonction objectifs. La première est une cross-entropie classique et la seconde est une cross-entropie adverse. C'est à dire une fonction qui vise à correctement classifier un exemple adverse "
   ]
  },
  {
   "cell_type": "markdown",
   "metadata": {},
   "source": [
    "$$J_{tot}(\\theta,x,y)=(1-c)J(\\theta,x,y)+cJ(\\theta,(x+{\\epsilon}sign(\\nabla_{x}J(\\theta,x,y)),y)$$ "
   ]
  },
  {
   "cell_type": "markdown",
   "metadata": {},
   "source": [
    "Pour cela nous avons du réécrire la fonction d'entrainement du modèle afin d'entrainer la bonne fonction objectif"
   ]
  },
  {
   "cell_type": "code",
   "execution_count": 8,
   "metadata": {},
   "outputs": [],
   "source": [
    "class NewModel(tf.keras.Model):\n",
    "    def __init__(self,learning_rate,epsilon):\n",
    "        super(NewModel,self).__init__()\n",
    "        \n",
    "        self.c=0\n",
    "        self.learning_rate=learning_rate\n",
    "        self.epsilon=epsilon\n",
    "        \n",
    "        \n",
    "        self.effnet_base = EfficientNetB7(weights='imagenet', include_top=False, input_shape=(32, 32, 3))\n",
    "        self.effnet_base.trainable=True\n",
    "        x=self.effnet_base.layers[-2].output        \n",
    "        x=GlobalMaxPooling2D()(x)\n",
    "        x=Dropout(0.2)(x)\n",
    "        x=Dense(32)(x)\n",
    "        x=Dense(10)(x)\n",
    "        o=Activation('softmax')(x)\n",
    "        self.model= Model(inputs=self.effnet_base.inputs, outputs=[o])\n",
    "\n",
    "\n",
    "        \n",
    "        self.loss = CategoricalCrossentropy()\n",
    "        self.optimizer = tf.keras.optimizers.Nadam(self.learning_rate)#self.learning_rate)        \n",
    "        \n",
    "   \n",
    "    @tf.function\n",
    "    def train_step(self,x,y):\n",
    "        \n",
    "        with tf.GradientTape() as tape_w:  \n",
    "            tape_w.watch(self.model.trainable_variables)\n",
    "            \n",
    "            with tf.GradientTape() as tape_x:\n",
    "                tape_x.watch(x)\n",
    "                true_loss = self.loss(y, self.model(x))        \n",
    "            gradient = tape_x.gradient(true_loss, x)\n",
    "            signed_grad = tf.sign(gradient) \n",
    "            adv_image=tf.clip_by_value(x+self.epsilon*signed_grad,0,255)\n",
    "            adv_loss= self.loss(y, self.model(adv_image)) \n",
    "           \n",
    "       \n",
    "      # Combines both losses            \n",
    "            total_loss= (1-self.c)*true_loss + self.c*adv_loss\n",
    "            \n",
    "    # Regular backward pass.\n",
    "            gradients = tape_w.gradient(total_loss, self.model.trainable_variables)   \n",
    "            \n",
    "            self.optimizer.apply_gradients(zip(gradients, self.model.trainable_variables))\n",
    "            \n",
    "       \n",
    "    def train(self,epochs=5,c_list=[0,0.1,0.3,0.5,0.7,0.9],data_set_list=['Cifar','Mnist']):\n",
    "\n",
    "                \n",
    "        for data_set_name in data_set_list:\n",
    "            \n",
    "            for c in c_list:\n",
    "                (train_data_set,X_test,y_test)=pick_data_set(data_set_name)\n",
    "                print(\"======= data_set: \"+str(data_set_name)+'======')\n",
    "                print(\"======= c: \"+str(c)+'======')\n",
    "                self.c=c\n",
    "                if exists('models/adversarial_training/'+str(data_set_name)+'/c='+str(c)+'.h5')==False:\n",
    "                    pred=list(map(np.argmax,self.model(X_test[:1000])))\n",
    "                    true_values=list(map(np.argmax,y_test[:1000]))\n",
    "                    acc=np.sum([1 for i in range(len(pred)) if pred[i]==true_values[i]])/len(pred)         \n",
    "                    print('Accuracy before training is {} '.format(acc))\n",
    "                    print('-----------')\n",
    "                    for epoch in range(epochs):                        \n",
    "                        start = time.time()\n",
    "                        for (x,y) in tqdm(train_data_set,position=0):\n",
    "                            x=tf.cast(x,dtype='float32')\n",
    "                            self.train_step(x,y)           \n",
    "\n",
    "                        pred=list(map(np.argmax,self.model(X_test[:1000])))\n",
    "                        true_values=list(map(np.argmax,y_test[:1000]))\n",
    "                        acc=np.sum([1 for i in range(len(pred)) if pred[i]==true_values[i]])/len(pred)         \n",
    "\n",
    "                        print ('Time for epoch {} is {} sec'.format(epoch + 1, time.time()-start))\n",
    "                        print('-----------')\n",
    "                        print('Accuracy for epoch {} is {} '.format(epoch + 1, acc))   \n",
    "                        \n",
    "                    self.model.save_weights('models/adversarial_training/'+str(data_set_name)+'/c='+str(c)+'.h5')\n",
    "                else:\n",
    "                    self.model.load_weights('models/adversarial_training/'+str(data_set_name)+'/c='+str(c)+'.h5')\n",
    "                    pred=list(map(np.argmax,self.model(X_test[:1000])))\n",
    "                    true_values=list(map(np.argmax,y_test[:1000]))\n",
    "                    acc=np.sum([1 for i in range(len(pred)) if pred[i]==true_values[i]])/len(pred)         \n",
    "\n",
    "                    print('-----------')\n",
    "                    print('Accuracy is {} '.format(acc))   \n",
    "                    \n",
    "        return()\n",
    "    \n",
    "    def call(self, inputs):\n",
    "        x = self.model(inputs)\n",
    "        return x\n"
   ]
  },
  {
   "cell_type": "code",
   "execution_count": 9,
   "metadata": {},
   "outputs": [],
   "source": [
    "def train_models():\n",
    "   \n",
    "    new_model=NewModel(learning_rate=0.0001,epsilon=5)\n",
    "    new_model.train(epochs=5)\n",
    "    \n",
    "    model_to_load_weights_onto=new_model.model\n",
    "    model_to_load_weights_onto.compile(\n",
    "            loss='categorical_crossentropy',\n",
    "            optimizer='nadam',\n",
    "            metrics=['accuracy']\n",
    "            )\n",
    "           \n",
    "    return(model_to_load_weights_onto)        "
   ]
  },
  {
   "cell_type": "code",
   "execution_count": 10,
   "metadata": {},
   "outputs": [],
   "source": [
    "def DOC (x_adv_list,x_list):\n",
    "    N=len(x_adv_list)\n",
    "    sum=0\n",
    "    for i in range (N):        \n",
    "        sum+=100*np.linalg.norm(np.reshape(x_adv_list[i] - x_list[i], -1),ord=1)/np.linalg.norm(np.reshape(x_list[i], -1),ord=1)\n",
    "    return(sum/N)\n",
    "\n",
    "def succes_rate (success_list):\n",
    "    success=len([i for i in success_list if i==True])\n",
    "    total=len(success_list)\n",
    "    return(success/total)"
   ]
  },
  {
   "cell_type": "markdown",
   "metadata": {},
   "source": [
    "Test de la resistance du modèle "
   ]
  },
  {
   "cell_type": "code",
   "execution_count": 11,
   "metadata": {},
   "outputs": [],
   "source": [
    "def attack_performances_computer(model_to_attack,predicting_model,attack, image_list, labels,epsilon):\n",
    "    model_to_attack=TensorFlowModel(model_to_attack , bounds=(0, 255))\n",
    "   \n",
    "    success_on_attacked_model=[]\n",
    "    success_on_predicting_model=[]\n",
    "    adv_list=[]\n",
    "    for i,image in enumerate(tqdm(image_list,position=0)):\n",
    "        image = np.asarray(image)[:,:,:3].astype('float32')\n",
    "        image = convert_to_tensor(np.expand_dims(image,axis=0))\n",
    "        label=labels[i]\n",
    "        label = tf.convert_to_tensor(np.array([label]))\n",
    "        _, clipped, is_adv = attack(model_to_attack,image,label,epsilons=[epsilon])\n",
    "        success_on_attacked_model.append(bool(is_adv[0]))\n",
    "        adv_list.append(np.array(clipped[0]))\n",
    "        prediction=predicting_model.predict(np.expand_dims(clipped[0][0],axis=0))\n",
    "        if np.argmax(prediction)!=labels[i]:\n",
    "            success_on_predicting_model.append(True)\n",
    "        else:\n",
    "            success_on_predicting_model.append(False)\n",
    "            \n",
    "        \n",
    "    DOC_attack=DOC(adv_list,image_list)\n",
    "    SR_on_attacked_model=succes_rate(success_on_attacked_model)\n",
    "    SR_on_predicting_model=succes_rate(success_on_predicting_model)\n",
    "    return(DOC_attack,SR_on_attacked_model,SR_on_predicting_model)\n"
   ]
  },
  {
   "cell_type": "code",
   "execution_count": 12,
   "metadata": {},
   "outputs": [],
   "source": [
    "def attack_runner(model_to_attack,predicting_model,image_list, labels_list, epislons_list):   \n",
    "    labels_list=list(map(np.argmax,labels_list))\n",
    "    \n",
    "    attack_FGSM=LinfFastGradientAttack()\n",
    "    SR_FGSM_dic={}  \n",
    "    SR_FGSM_dic_with_defense={}\n",
    "\n",
    "\n",
    "    for epsilon in epislons_list:\n",
    "        print('======'+'epislon: '+str(epsilon)+'======')\n",
    "        DOC_FGSM,SR_FGSM,SR_FGSM_with_defense=attack_performances_computer(model_to_attack,predicting_model,attack_FGSM, image_list, labels_list,epsilon)\n",
    "              \n",
    "        SR_FGSM_dic[DOC_FGSM]=SR_FGSM\n",
    "        SR_FGSM_dic_with_defense[DOC_FGSM]=SR_FGSM_with_defense\n",
    "        \n",
    "    return(SR_FGSM_dic,SR_FGSM_dic_with_defense)"
   ]
  },
  {
   "cell_type": "code",
   "execution_count": 13,
   "metadata": {},
   "outputs": [],
   "source": [
    "def attacks(data_set_list=['Mnist','Cifar']):\n",
    "    data_set_plots={}\n",
    "    for data_set_name in data_set_list:\n",
    "        (_,X_test,y_test)=pick_data_set(data_set_name)\n",
    "        model=train_models()\n",
    "        plots={}\n",
    "        epsilons=[0.1,1,5,10,25,50,75,100]\n",
    "        X=X_test[7000:7100]\n",
    "        y=y_test[7000:7100]\n",
    "        for c in [0,0.1,0.3,0.5,0.7,0.9]:\n",
    "            print(\"======= data_set: \"+str(data_set_name)+'======')\n",
    "            print(\"======= c: \"+str(c)+'======')\n",
    "            model.load_weights('models/adversarial_training/'+str(data_set_name)+'/c='+str(c)+'.h5')\n",
    "            if exists('data/efficiency_adv_trained/'+str(data_set_name)+'/c='+str(c))==False:\n",
    "                plots[c],_=attack_runner(model,model,X, y, epsilons)\n",
    "                with open('data/efficiency_adv_trained/'+str(data_set_name)+'/c='+str(c), 'wb') as f:\n",
    "                        pickle.Pickler(f).dump(plots[c])\n",
    "\n",
    "            else:\n",
    "                with open('data/efficiency_adv_trained/'+str(data_set_name)+'/c='+str(c), 'rb') as f:\n",
    "                    plots[c]=pickle.Unpickler(f).load()\n",
    "        data_set_plots[data_set_name]=plots\n",
    "    return(data_set_plots)\n",
    "        \n",
    "    "
   ]
  },
  {
   "cell_type": "code",
   "execution_count": 14,
   "metadata": {
    "scrolled": true
   },
   "outputs": [
    {
     "name": "stdout",
     "output_type": "stream",
     "text": [
      "======= data_set: Cifar======\n",
      "======= c: 0======\n",
      "-----------\n",
      "Accuracy is 0.327 \n",
      "======= data_set: Cifar======\n",
      "======= c: 0.1======\n",
      "-----------\n",
      "Accuracy is 0.715 \n",
      "======= data_set: Cifar======\n",
      "======= c: 0.3======\n",
      "-----------\n",
      "Accuracy is 0.75 \n",
      "======= data_set: Cifar======\n",
      "======= c: 0.5======\n",
      "-----------\n",
      "Accuracy is 0.818 \n",
      "======= data_set: Cifar======\n",
      "======= c: 0.7======\n",
      "-----------\n",
      "Accuracy is 0.808 \n",
      "======= data_set: Cifar======\n",
      "======= c: 0.9======\n",
      "-----------\n",
      "Accuracy is 0.805 \n",
      "======= data_set: Mnist======\n",
      "======= c: 0======\n",
      "-----------\n",
      "Accuracy is 0.982 \n",
      "======= data_set: Mnist======\n",
      "======= c: 0.1======\n",
      "-----------\n",
      "Accuracy is 0.986 \n",
      "======= data_set: Mnist======\n",
      "======= c: 0.3======\n",
      "-----------\n",
      "Accuracy is 0.984 \n",
      "======= data_set: Mnist======\n",
      "======= c: 0.5======\n",
      "-----------\n",
      "Accuracy is 0.992 \n",
      "======= data_set: Mnist======\n",
      "======= c: 0.7======\n",
      "-----------\n",
      "Accuracy is 0.985 \n",
      "======= data_set: Mnist======\n",
      "======= c: 0.9======\n",
      "-----------\n",
      "Accuracy is 0.983 \n",
      "======= data_set: Mnist======\n",
      "======= c: 0======\n",
      "======= data_set: Mnist======\n",
      "======= c: 0.1======\n",
      "======epislon: 0.1======\n",
      "WARNING:tensorflow:From /home/timotheerio/benchmark-adversarial-attacks/venv/lib/python3.6/site-packages/foolbox/models/tensorflow.py:13: is_gpu_available (from tensorflow.python.framework.test_util) is deprecated and will be removed in a future version.\n",
      "Instructions for updating:\n",
      "Use `tf.config.list_physical_devices('GPU')` instead.\n"
     ]
    },
    {
     "name": "stderr",
     "output_type": "stream",
     "text": [
      "100%|██████████| 100/100 [00:58<00:00,  1.72it/s]\n",
      "  0%|          | 0/100 [00:00<?, ?it/s]"
     ]
    },
    {
     "name": "stdout",
     "output_type": "stream",
     "text": [
      "======epislon: 1======\n"
     ]
    },
    {
     "name": "stderr",
     "output_type": "stream",
     "text": [
      "100%|██████████| 100/100 [00:54<00:00,  1.82it/s]\n",
      "  0%|          | 0/100 [00:00<?, ?it/s]"
     ]
    },
    {
     "name": "stdout",
     "output_type": "stream",
     "text": [
      "======epislon: 5======\n"
     ]
    },
    {
     "name": "stderr",
     "output_type": "stream",
     "text": [
      "100%|██████████| 100/100 [00:55<00:00,  1.81it/s]\n",
      "  0%|          | 0/100 [00:00<?, ?it/s]"
     ]
    },
    {
     "name": "stdout",
     "output_type": "stream",
     "text": [
      "======epislon: 10======\n"
     ]
    },
    {
     "name": "stderr",
     "output_type": "stream",
     "text": [
      "100%|██████████| 100/100 [00:54<00:00,  1.82it/s]\n",
      "  0%|          | 0/100 [00:00<?, ?it/s]"
     ]
    },
    {
     "name": "stdout",
     "output_type": "stream",
     "text": [
      "======epislon: 25======\n"
     ]
    },
    {
     "name": "stderr",
     "output_type": "stream",
     "text": [
      "100%|██████████| 100/100 [00:55<00:00,  1.81it/s]\n",
      "  0%|          | 0/100 [00:00<?, ?it/s]"
     ]
    },
    {
     "name": "stdout",
     "output_type": "stream",
     "text": [
      "======epislon: 50======\n"
     ]
    },
    {
     "name": "stderr",
     "output_type": "stream",
     "text": [
      "100%|██████████| 100/100 [00:54<00:00,  1.82it/s]\n",
      "  0%|          | 0/100 [00:00<?, ?it/s]"
     ]
    },
    {
     "name": "stdout",
     "output_type": "stream",
     "text": [
      "======epislon: 75======\n"
     ]
    },
    {
     "name": "stderr",
     "output_type": "stream",
     "text": [
      "100%|██████████| 100/100 [00:54<00:00,  1.82it/s]\n",
      "  0%|          | 0/100 [00:00<?, ?it/s]"
     ]
    },
    {
     "name": "stdout",
     "output_type": "stream",
     "text": [
      "======epislon: 100======\n"
     ]
    },
    {
     "name": "stderr",
     "output_type": "stream",
     "text": [
      "100%|██████████| 100/100 [00:54<00:00,  1.82it/s]\n"
     ]
    },
    {
     "name": "stdout",
     "output_type": "stream",
     "text": [
      "======= data_set: Mnist======\n",
      "======= c: 0.3======\n"
     ]
    },
    {
     "name": "stderr",
     "output_type": "stream",
     "text": [
      "\r",
      "  0%|          | 0/100 [00:00<?, ?it/s]"
     ]
    },
    {
     "name": "stdout",
     "output_type": "stream",
     "text": [
      "======epislon: 0.1======\n"
     ]
    },
    {
     "name": "stderr",
     "output_type": "stream",
     "text": [
      "100%|██████████| 100/100 [00:54<00:00,  1.82it/s]\n",
      "  0%|          | 0/100 [00:00<?, ?it/s]"
     ]
    },
    {
     "name": "stdout",
     "output_type": "stream",
     "text": [
      "======epislon: 1======\n"
     ]
    },
    {
     "name": "stderr",
     "output_type": "stream",
     "text": [
      "100%|██████████| 100/100 [00:54<00:00,  1.82it/s]\n",
      "  0%|          | 0/100 [00:00<?, ?it/s]"
     ]
    },
    {
     "name": "stdout",
     "output_type": "stream",
     "text": [
      "======epislon: 5======\n"
     ]
    },
    {
     "name": "stderr",
     "output_type": "stream",
     "text": [
      "100%|██████████| 100/100 [00:55<00:00,  1.81it/s]\n",
      "  0%|          | 0/100 [00:00<?, ?it/s]"
     ]
    },
    {
     "name": "stdout",
     "output_type": "stream",
     "text": [
      "======epislon: 10======\n"
     ]
    },
    {
     "name": "stderr",
     "output_type": "stream",
     "text": [
      "100%|██████████| 100/100 [00:54<00:00,  1.82it/s]\n",
      "  0%|          | 0/100 [00:00<?, ?it/s]"
     ]
    },
    {
     "name": "stdout",
     "output_type": "stream",
     "text": [
      "======epislon: 25======\n"
     ]
    },
    {
     "name": "stderr",
     "output_type": "stream",
     "text": [
      "100%|██████████| 100/100 [00:54<00:00,  1.82it/s]\n",
      "  0%|          | 0/100 [00:00<?, ?it/s]"
     ]
    },
    {
     "name": "stdout",
     "output_type": "stream",
     "text": [
      "======epislon: 50======\n"
     ]
    },
    {
     "name": "stderr",
     "output_type": "stream",
     "text": [
      "100%|██████████| 100/100 [00:54<00:00,  1.82it/s]\n",
      "  0%|          | 0/100 [00:00<?, ?it/s]"
     ]
    },
    {
     "name": "stdout",
     "output_type": "stream",
     "text": [
      "======epislon: 75======\n"
     ]
    },
    {
     "name": "stderr",
     "output_type": "stream",
     "text": [
      "100%|██████████| 100/100 [00:54<00:00,  1.82it/s]\n",
      "  0%|          | 0/100 [00:00<?, ?it/s]"
     ]
    },
    {
     "name": "stdout",
     "output_type": "stream",
     "text": [
      "======epislon: 100======\n"
     ]
    },
    {
     "name": "stderr",
     "output_type": "stream",
     "text": [
      "100%|██████████| 100/100 [00:54<00:00,  1.82it/s]\n"
     ]
    },
    {
     "name": "stdout",
     "output_type": "stream",
     "text": [
      "======= data_set: Mnist======\n",
      "======= c: 0.5======\n"
     ]
    },
    {
     "name": "stderr",
     "output_type": "stream",
     "text": [
      "\r",
      "  0%|          | 0/100 [00:00<?, ?it/s]"
     ]
    },
    {
     "name": "stdout",
     "output_type": "stream",
     "text": [
      "======epislon: 0.1======\n"
     ]
    },
    {
     "name": "stderr",
     "output_type": "stream",
     "text": [
      "100%|██████████| 100/100 [00:54<00:00,  1.82it/s]\n",
      "  0%|          | 0/100 [00:00<?, ?it/s]"
     ]
    },
    {
     "name": "stdout",
     "output_type": "stream",
     "text": [
      "======epislon: 1======\n"
     ]
    },
    {
     "name": "stderr",
     "output_type": "stream",
     "text": [
      "100%|██████████| 100/100 [00:54<00:00,  1.82it/s]\n",
      "  0%|          | 0/100 [00:00<?, ?it/s]"
     ]
    },
    {
     "name": "stdout",
     "output_type": "stream",
     "text": [
      "======epislon: 5======\n"
     ]
    },
    {
     "name": "stderr",
     "output_type": "stream",
     "text": [
      "100%|██████████| 100/100 [00:54<00:00,  1.82it/s]\n",
      "  0%|          | 0/100 [00:00<?, ?it/s]"
     ]
    },
    {
     "name": "stdout",
     "output_type": "stream",
     "text": [
      "======epislon: 10======\n"
     ]
    },
    {
     "name": "stderr",
     "output_type": "stream",
     "text": [
      "100%|██████████| 100/100 [00:54<00:00,  1.83it/s]\n",
      "  0%|          | 0/100 [00:00<?, ?it/s]"
     ]
    },
    {
     "name": "stdout",
     "output_type": "stream",
     "text": [
      "======epislon: 25======\n"
     ]
    },
    {
     "name": "stderr",
     "output_type": "stream",
     "text": [
      "100%|██████████| 100/100 [00:54<00:00,  1.82it/s]\n",
      "  0%|          | 0/100 [00:00<?, ?it/s]"
     ]
    },
    {
     "name": "stdout",
     "output_type": "stream",
     "text": [
      "======epislon: 50======\n"
     ]
    },
    {
     "name": "stderr",
     "output_type": "stream",
     "text": [
      "100%|██████████| 100/100 [00:54<00:00,  1.82it/s]\n",
      "  0%|          | 0/100 [00:00<?, ?it/s]"
     ]
    },
    {
     "name": "stdout",
     "output_type": "stream",
     "text": [
      "======epislon: 75======\n"
     ]
    },
    {
     "name": "stderr",
     "output_type": "stream",
     "text": [
      "100%|██████████| 100/100 [00:54<00:00,  1.82it/s]\n",
      "  0%|          | 0/100 [00:00<?, ?it/s]"
     ]
    },
    {
     "name": "stdout",
     "output_type": "stream",
     "text": [
      "======epislon: 100======\n"
     ]
    },
    {
     "name": "stderr",
     "output_type": "stream",
     "text": [
      "100%|██████████| 100/100 [00:55<00:00,  1.81it/s]\n"
     ]
    },
    {
     "name": "stdout",
     "output_type": "stream",
     "text": [
      "======= data_set: Mnist======\n",
      "======= c: 0.7======\n"
     ]
    },
    {
     "name": "stderr",
     "output_type": "stream",
     "text": [
      "\r",
      "  0%|          | 0/100 [00:00<?, ?it/s]"
     ]
    },
    {
     "name": "stdout",
     "output_type": "stream",
     "text": [
      "======epislon: 0.1======\n"
     ]
    },
    {
     "name": "stderr",
     "output_type": "stream",
     "text": [
      "100%|██████████| 100/100 [00:55<00:00,  1.81it/s]\n",
      "  0%|          | 0/100 [00:00<?, ?it/s]"
     ]
    },
    {
     "name": "stdout",
     "output_type": "stream",
     "text": [
      "======epislon: 1======\n"
     ]
    },
    {
     "name": "stderr",
     "output_type": "stream",
     "text": [
      "100%|██████████| 100/100 [00:54<00:00,  1.82it/s]\n",
      "  0%|          | 0/100 [00:00<?, ?it/s]"
     ]
    },
    {
     "name": "stdout",
     "output_type": "stream",
     "text": [
      "======epislon: 5======\n"
     ]
    },
    {
     "name": "stderr",
     "output_type": "stream",
     "text": [
      "100%|██████████| 100/100 [00:55<00:00,  1.81it/s]\n",
      "  0%|          | 0/100 [00:00<?, ?it/s]"
     ]
    },
    {
     "name": "stdout",
     "output_type": "stream",
     "text": [
      "======epislon: 10======\n"
     ]
    },
    {
     "name": "stderr",
     "output_type": "stream",
     "text": [
      "100%|██████████| 100/100 [00:55<00:00,  1.82it/s]\n",
      "  0%|          | 0/100 [00:00<?, ?it/s]"
     ]
    },
    {
     "name": "stdout",
     "output_type": "stream",
     "text": [
      "======epislon: 25======\n"
     ]
    },
    {
     "name": "stderr",
     "output_type": "stream",
     "text": [
      "100%|██████████| 100/100 [00:55<00:00,  1.82it/s]\n",
      "  0%|          | 0/100 [00:00<?, ?it/s]"
     ]
    },
    {
     "name": "stdout",
     "output_type": "stream",
     "text": [
      "======epislon: 50======\n"
     ]
    },
    {
     "name": "stderr",
     "output_type": "stream",
     "text": [
      "100%|██████████| 100/100 [00:54<00:00,  1.82it/s]\n",
      "  0%|          | 0/100 [00:00<?, ?it/s]"
     ]
    },
    {
     "name": "stdout",
     "output_type": "stream",
     "text": [
      "======epislon: 75======\n"
     ]
    },
    {
     "name": "stderr",
     "output_type": "stream",
     "text": [
      "100%|██████████| 100/100 [00:54<00:00,  1.82it/s]\n",
      "  0%|          | 0/100 [00:00<?, ?it/s]"
     ]
    },
    {
     "name": "stdout",
     "output_type": "stream",
     "text": [
      "======epislon: 100======\n"
     ]
    },
    {
     "name": "stderr",
     "output_type": "stream",
     "text": [
      "100%|██████████| 100/100 [00:55<00:00,  1.82it/s]\n"
     ]
    },
    {
     "name": "stdout",
     "output_type": "stream",
     "text": [
      "======= data_set: Mnist======\n",
      "======= c: 0.9======\n"
     ]
    },
    {
     "name": "stderr",
     "output_type": "stream",
     "text": [
      "\r",
      "  0%|          | 0/100 [00:00<?, ?it/s]"
     ]
    },
    {
     "name": "stdout",
     "output_type": "stream",
     "text": [
      "======epislon: 0.1======\n"
     ]
    },
    {
     "name": "stderr",
     "output_type": "stream",
     "text": [
      "100%|██████████| 100/100 [00:54<00:00,  1.83it/s]\n",
      "  0%|          | 0/100 [00:00<?, ?it/s]"
     ]
    },
    {
     "name": "stdout",
     "output_type": "stream",
     "text": [
      "======epislon: 1======\n"
     ]
    },
    {
     "name": "stderr",
     "output_type": "stream",
     "text": [
      "100%|██████████| 100/100 [00:54<00:00,  1.82it/s]\n",
      "  0%|          | 0/100 [00:00<?, ?it/s]"
     ]
    },
    {
     "name": "stdout",
     "output_type": "stream",
     "text": [
      "======epislon: 5======\n"
     ]
    },
    {
     "name": "stderr",
     "output_type": "stream",
     "text": [
      "100%|██████████| 100/100 [00:54<00:00,  1.82it/s]\n",
      "  0%|          | 0/100 [00:00<?, ?it/s]"
     ]
    },
    {
     "name": "stdout",
     "output_type": "stream",
     "text": [
      "======epislon: 10======\n"
     ]
    },
    {
     "name": "stderr",
     "output_type": "stream",
     "text": [
      "100%|██████████| 100/100 [00:55<00:00,  1.82it/s]\n",
      "  0%|          | 0/100 [00:00<?, ?it/s]"
     ]
    },
    {
     "name": "stdout",
     "output_type": "stream",
     "text": [
      "======epislon: 25======\n"
     ]
    },
    {
     "name": "stderr",
     "output_type": "stream",
     "text": [
      "100%|██████████| 100/100 [00:54<00:00,  1.82it/s]\n",
      "  0%|          | 0/100 [00:00<?, ?it/s]"
     ]
    },
    {
     "name": "stdout",
     "output_type": "stream",
     "text": [
      "======epislon: 50======\n"
     ]
    },
    {
     "name": "stderr",
     "output_type": "stream",
     "text": [
      "100%|██████████| 100/100 [00:54<00:00,  1.82it/s]\n",
      "  0%|          | 0/100 [00:00<?, ?it/s]"
     ]
    },
    {
     "name": "stdout",
     "output_type": "stream",
     "text": [
      "======epislon: 75======\n"
     ]
    },
    {
     "name": "stderr",
     "output_type": "stream",
     "text": [
      "100%|██████████| 100/100 [00:55<00:00,  1.81it/s]\n",
      "  0%|          | 0/100 [00:00<?, ?it/s]"
     ]
    },
    {
     "name": "stdout",
     "output_type": "stream",
     "text": [
      "======epislon: 100======\n"
     ]
    },
    {
     "name": "stderr",
     "output_type": "stream",
     "text": [
      "100%|██████████| 100/100 [00:55<00:00,  1.81it/s]\n"
     ]
    },
    {
     "name": "stdout",
     "output_type": "stream",
     "text": [
      "======= data_set: Cifar======\n",
      "======= c: 0======\n",
      "-----------\n",
      "Accuracy is 0.327 \n",
      "======= data_set: Cifar======\n",
      "======= c: 0.1======\n",
      "-----------\n",
      "Accuracy is 0.715 \n",
      "======= data_set: Cifar======\n",
      "======= c: 0.3======\n",
      "-----------\n",
      "Accuracy is 0.75 \n",
      "======= data_set: Cifar======\n",
      "======= c: 0.5======\n",
      "-----------\n",
      "Accuracy is 0.818 \n",
      "======= data_set: Cifar======\n",
      "======= c: 0.7======\n",
      "-----------\n",
      "Accuracy is 0.808 \n",
      "======= data_set: Cifar======\n",
      "======= c: 0.9======\n",
      "-----------\n",
      "Accuracy is 0.805 \n",
      "======= data_set: Mnist======\n",
      "======= c: 0======\n",
      "-----------\n",
      "Accuracy is 0.982 \n",
      "======= data_set: Mnist======\n",
      "======= c: 0.1======\n",
      "-----------\n",
      "Accuracy is 0.986 \n",
      "======= data_set: Mnist======\n",
      "======= c: 0.3======\n",
      "-----------\n",
      "Accuracy is 0.984 \n",
      "======= data_set: Mnist======\n",
      "======= c: 0.5======\n",
      "-----------\n",
      "Accuracy is 0.992 \n",
      "======= data_set: Mnist======\n",
      "======= c: 0.7======\n",
      "-----------\n",
      "Accuracy is 0.985 \n",
      "======= data_set: Mnist======\n",
      "======= c: 0.9======\n",
      "-----------\n",
      "Accuracy is 0.983 \n",
      "======= data_set: Cifar======\n",
      "======= c: 0======\n"
     ]
    },
    {
     "name": "stderr",
     "output_type": "stream",
     "text": [
      "\r",
      "  0%|          | 0/100 [00:00<?, ?it/s]"
     ]
    },
    {
     "name": "stdout",
     "output_type": "stream",
     "text": [
      "======epislon: 0.1======\n"
     ]
    },
    {
     "name": "stderr",
     "output_type": "stream",
     "text": [
      "100%|██████████| 100/100 [00:57<00:00,  1.73it/s]\n",
      "  0%|          | 0/100 [00:00<?, ?it/s]"
     ]
    },
    {
     "name": "stdout",
     "output_type": "stream",
     "text": [
      "======epislon: 1======\n"
     ]
    },
    {
     "name": "stderr",
     "output_type": "stream",
     "text": [
      "100%|██████████| 100/100 [00:55<00:00,  1.82it/s]\n",
      "  0%|          | 0/100 [00:00<?, ?it/s]"
     ]
    },
    {
     "name": "stdout",
     "output_type": "stream",
     "text": [
      "======epislon: 5======\n"
     ]
    },
    {
     "name": "stderr",
     "output_type": "stream",
     "text": [
      "100%|██████████| 100/100 [00:54<00:00,  1.83it/s]\n",
      "  0%|          | 0/100 [00:00<?, ?it/s]"
     ]
    },
    {
     "name": "stdout",
     "output_type": "stream",
     "text": [
      "======epislon: 10======\n"
     ]
    },
    {
     "name": "stderr",
     "output_type": "stream",
     "text": [
      "100%|██████████| 100/100 [00:54<00:00,  1.83it/s]\n",
      "  0%|          | 0/100 [00:00<?, ?it/s]"
     ]
    },
    {
     "name": "stdout",
     "output_type": "stream",
     "text": [
      "======epislon: 25======\n"
     ]
    },
    {
     "name": "stderr",
     "output_type": "stream",
     "text": [
      "100%|██████████| 100/100 [00:54<00:00,  1.82it/s]\n",
      "  0%|          | 0/100 [00:00<?, ?it/s]"
     ]
    },
    {
     "name": "stdout",
     "output_type": "stream",
     "text": [
      "======epislon: 50======\n"
     ]
    },
    {
     "name": "stderr",
     "output_type": "stream",
     "text": [
      "100%|██████████| 100/100 [00:55<00:00,  1.82it/s]\n",
      "  0%|          | 0/100 [00:00<?, ?it/s]"
     ]
    },
    {
     "name": "stdout",
     "output_type": "stream",
     "text": [
      "======epislon: 75======\n"
     ]
    },
    {
     "name": "stderr",
     "output_type": "stream",
     "text": [
      "100%|██████████| 100/100 [00:54<00:00,  1.82it/s]\n",
      "  0%|          | 0/100 [00:00<?, ?it/s]"
     ]
    },
    {
     "name": "stdout",
     "output_type": "stream",
     "text": [
      "======epislon: 100======\n"
     ]
    },
    {
     "name": "stderr",
     "output_type": "stream",
     "text": [
      "100%|██████████| 100/100 [00:55<00:00,  1.81it/s]\n"
     ]
    },
    {
     "name": "stdout",
     "output_type": "stream",
     "text": [
      "======= data_set: Cifar======\n",
      "======= c: 0.1======\n"
     ]
    },
    {
     "name": "stderr",
     "output_type": "stream",
     "text": [
      "\r",
      "  0%|          | 0/100 [00:00<?, ?it/s]"
     ]
    },
    {
     "name": "stdout",
     "output_type": "stream",
     "text": [
      "======epislon: 0.1======\n"
     ]
    },
    {
     "name": "stderr",
     "output_type": "stream",
     "text": [
      "100%|██████████| 100/100 [00:55<00:00,  1.82it/s]\n",
      "  0%|          | 0/100 [00:00<?, ?it/s]"
     ]
    },
    {
     "name": "stdout",
     "output_type": "stream",
     "text": [
      "======epislon: 1======\n"
     ]
    },
    {
     "name": "stderr",
     "output_type": "stream",
     "text": [
      "100%|██████████| 100/100 [00:54<00:00,  1.82it/s]\n",
      "  0%|          | 0/100 [00:00<?, ?it/s]"
     ]
    },
    {
     "name": "stdout",
     "output_type": "stream",
     "text": [
      "======epislon: 5======\n"
     ]
    },
    {
     "name": "stderr",
     "output_type": "stream",
     "text": [
      "100%|██████████| 100/100 [00:55<00:00,  1.82it/s]\n",
      "  0%|          | 0/100 [00:00<?, ?it/s]"
     ]
    },
    {
     "name": "stdout",
     "output_type": "stream",
     "text": [
      "======epislon: 10======\n"
     ]
    },
    {
     "name": "stderr",
     "output_type": "stream",
     "text": [
      "100%|██████████| 100/100 [00:54<00:00,  1.82it/s]\n",
      "  0%|          | 0/100 [00:00<?, ?it/s]"
     ]
    },
    {
     "name": "stdout",
     "output_type": "stream",
     "text": [
      "======epislon: 25======\n"
     ]
    },
    {
     "name": "stderr",
     "output_type": "stream",
     "text": [
      "100%|██████████| 100/100 [00:55<00:00,  1.82it/s]\n",
      "  0%|          | 0/100 [00:00<?, ?it/s]"
     ]
    },
    {
     "name": "stdout",
     "output_type": "stream",
     "text": [
      "======epislon: 50======\n"
     ]
    },
    {
     "name": "stderr",
     "output_type": "stream",
     "text": [
      "100%|██████████| 100/100 [00:54<00:00,  1.82it/s]\n",
      "  0%|          | 0/100 [00:00<?, ?it/s]"
     ]
    },
    {
     "name": "stdout",
     "output_type": "stream",
     "text": [
      "======epislon: 75======\n"
     ]
    },
    {
     "name": "stderr",
     "output_type": "stream",
     "text": [
      "100%|██████████| 100/100 [00:55<00:00,  1.81it/s]\n",
      "  0%|          | 0/100 [00:00<?, ?it/s]"
     ]
    },
    {
     "name": "stdout",
     "output_type": "stream",
     "text": [
      "======epislon: 100======\n"
     ]
    },
    {
     "name": "stderr",
     "output_type": "stream",
     "text": [
      "100%|██████████| 100/100 [00:54<00:00,  1.82it/s]\n"
     ]
    },
    {
     "name": "stdout",
     "output_type": "stream",
     "text": [
      "======= data_set: Cifar======\n",
      "======= c: 0.3======\n"
     ]
    },
    {
     "name": "stderr",
     "output_type": "stream",
     "text": [
      "\r",
      "  0%|          | 0/100 [00:00<?, ?it/s]"
     ]
    },
    {
     "name": "stdout",
     "output_type": "stream",
     "text": [
      "======epislon: 0.1======\n"
     ]
    },
    {
     "name": "stderr",
     "output_type": "stream",
     "text": [
      "100%|██████████| 100/100 [00:55<00:00,  1.81it/s]\n",
      "  0%|          | 0/100 [00:00<?, ?it/s]"
     ]
    },
    {
     "name": "stdout",
     "output_type": "stream",
     "text": [
      "======epislon: 1======\n"
     ]
    },
    {
     "name": "stderr",
     "output_type": "stream",
     "text": [
      "100%|██████████| 100/100 [00:54<00:00,  1.83it/s]\n",
      "  0%|          | 0/100 [00:00<?, ?it/s]"
     ]
    },
    {
     "name": "stdout",
     "output_type": "stream",
     "text": [
      "======epislon: 5======\n"
     ]
    },
    {
     "name": "stderr",
     "output_type": "stream",
     "text": [
      "100%|██████████| 100/100 [00:55<00:00,  1.82it/s]\n",
      "  0%|          | 0/100 [00:00<?, ?it/s]"
     ]
    },
    {
     "name": "stdout",
     "output_type": "stream",
     "text": [
      "======epislon: 10======\n"
     ]
    },
    {
     "name": "stderr",
     "output_type": "stream",
     "text": [
      "100%|██████████| 100/100 [00:55<00:00,  1.82it/s]\n",
      "  0%|          | 0/100 [00:00<?, ?it/s]"
     ]
    },
    {
     "name": "stdout",
     "output_type": "stream",
     "text": [
      "======epislon: 25======\n"
     ]
    },
    {
     "name": "stderr",
     "output_type": "stream",
     "text": [
      "100%|██████████| 100/100 [00:54<00:00,  1.82it/s]\n",
      "  0%|          | 0/100 [00:00<?, ?it/s]"
     ]
    },
    {
     "name": "stdout",
     "output_type": "stream",
     "text": [
      "======epislon: 50======\n"
     ]
    },
    {
     "name": "stderr",
     "output_type": "stream",
     "text": [
      "100%|██████████| 100/100 [00:54<00:00,  1.83it/s]\n",
      "  0%|          | 0/100 [00:00<?, ?it/s]"
     ]
    },
    {
     "name": "stdout",
     "output_type": "stream",
     "text": [
      "======epislon: 75======\n"
     ]
    },
    {
     "name": "stderr",
     "output_type": "stream",
     "text": [
      "100%|██████████| 100/100 [00:55<00:00,  1.82it/s]\n",
      "  0%|          | 0/100 [00:00<?, ?it/s]"
     ]
    },
    {
     "name": "stdout",
     "output_type": "stream",
     "text": [
      "======epislon: 100======\n"
     ]
    },
    {
     "name": "stderr",
     "output_type": "stream",
     "text": [
      "100%|██████████| 100/100 [00:55<00:00,  1.81it/s]\n"
     ]
    },
    {
     "name": "stdout",
     "output_type": "stream",
     "text": [
      "======= data_set: Cifar======\n",
      "======= c: 0.5======\n"
     ]
    },
    {
     "name": "stderr",
     "output_type": "stream",
     "text": [
      "\r",
      "  0%|          | 0/100 [00:00<?, ?it/s]"
     ]
    },
    {
     "name": "stdout",
     "output_type": "stream",
     "text": [
      "======epislon: 0.1======\n"
     ]
    },
    {
     "name": "stderr",
     "output_type": "stream",
     "text": [
      "100%|██████████| 100/100 [00:54<00:00,  1.82it/s]\n",
      "  0%|          | 0/100 [00:00<?, ?it/s]"
     ]
    },
    {
     "name": "stdout",
     "output_type": "stream",
     "text": [
      "======epislon: 1======\n"
     ]
    },
    {
     "name": "stderr",
     "output_type": "stream",
     "text": [
      "100%|██████████| 100/100 [00:54<00:00,  1.82it/s]\n",
      "  0%|          | 0/100 [00:00<?, ?it/s]"
     ]
    },
    {
     "name": "stdout",
     "output_type": "stream",
     "text": [
      "======epislon: 5======\n"
     ]
    },
    {
     "name": "stderr",
     "output_type": "stream",
     "text": [
      "100%|██████████| 100/100 [00:55<00:00,  1.81it/s]\n",
      "  0%|          | 0/100 [00:00<?, ?it/s]"
     ]
    },
    {
     "name": "stdout",
     "output_type": "stream",
     "text": [
      "======epislon: 10======\n"
     ]
    },
    {
     "name": "stderr",
     "output_type": "stream",
     "text": [
      "100%|██████████| 100/100 [00:54<00:00,  1.82it/s]\n",
      "  0%|          | 0/100 [00:00<?, ?it/s]"
     ]
    },
    {
     "name": "stdout",
     "output_type": "stream",
     "text": [
      "======epislon: 25======\n"
     ]
    },
    {
     "name": "stderr",
     "output_type": "stream",
     "text": [
      "100%|██████████| 100/100 [00:54<00:00,  1.82it/s]\n",
      "  0%|          | 0/100 [00:00<?, ?it/s]"
     ]
    },
    {
     "name": "stdout",
     "output_type": "stream",
     "text": [
      "======epislon: 50======\n"
     ]
    },
    {
     "name": "stderr",
     "output_type": "stream",
     "text": [
      "100%|██████████| 100/100 [00:55<00:00,  1.81it/s]\n",
      "  0%|          | 0/100 [00:00<?, ?it/s]"
     ]
    },
    {
     "name": "stdout",
     "output_type": "stream",
     "text": [
      "======epislon: 75======\n"
     ]
    },
    {
     "name": "stderr",
     "output_type": "stream",
     "text": [
      "100%|██████████| 100/100 [00:55<00:00,  1.81it/s]\n",
      "  0%|          | 0/100 [00:00<?, ?it/s]"
     ]
    },
    {
     "name": "stdout",
     "output_type": "stream",
     "text": [
      "======epislon: 100======\n"
     ]
    },
    {
     "name": "stderr",
     "output_type": "stream",
     "text": [
      "100%|██████████| 100/100 [00:54<00:00,  1.83it/s]\n"
     ]
    },
    {
     "name": "stdout",
     "output_type": "stream",
     "text": [
      "======= data_set: Cifar======\n",
      "======= c: 0.7======\n"
     ]
    },
    {
     "name": "stderr",
     "output_type": "stream",
     "text": [
      "\r",
      "  0%|          | 0/100 [00:00<?, ?it/s]"
     ]
    },
    {
     "name": "stdout",
     "output_type": "stream",
     "text": [
      "======epislon: 0.1======\n"
     ]
    },
    {
     "name": "stderr",
     "output_type": "stream",
     "text": [
      "100%|██████████| 100/100 [00:55<00:00,  1.82it/s]\n",
      "  0%|          | 0/100 [00:00<?, ?it/s]"
     ]
    },
    {
     "name": "stdout",
     "output_type": "stream",
     "text": [
      "======epislon: 1======\n"
     ]
    },
    {
     "name": "stderr",
     "output_type": "stream",
     "text": [
      "100%|██████████| 100/100 [00:55<00:00,  1.81it/s]\n",
      "  0%|          | 0/100 [00:00<?, ?it/s]"
     ]
    },
    {
     "name": "stdout",
     "output_type": "stream",
     "text": [
      "======epislon: 5======\n"
     ]
    },
    {
     "name": "stderr",
     "output_type": "stream",
     "text": [
      "100%|██████████| 100/100 [00:55<00:00,  1.81it/s]\n",
      "  0%|          | 0/100 [00:00<?, ?it/s]"
     ]
    },
    {
     "name": "stdout",
     "output_type": "stream",
     "text": [
      "======epislon: 10======\n"
     ]
    },
    {
     "name": "stderr",
     "output_type": "stream",
     "text": [
      "100%|██████████| 100/100 [00:54<00:00,  1.82it/s]\n",
      "  0%|          | 0/100 [00:00<?, ?it/s]"
     ]
    },
    {
     "name": "stdout",
     "output_type": "stream",
     "text": [
      "======epislon: 25======\n"
     ]
    },
    {
     "name": "stderr",
     "output_type": "stream",
     "text": [
      "100%|██████████| 100/100 [00:55<00:00,  1.82it/s]\n",
      "  0%|          | 0/100 [00:00<?, ?it/s]"
     ]
    },
    {
     "name": "stdout",
     "output_type": "stream",
     "text": [
      "======epislon: 50======\n"
     ]
    },
    {
     "name": "stderr",
     "output_type": "stream",
     "text": [
      "100%|██████████| 100/100 [00:55<00:00,  1.82it/s]\n",
      "  0%|          | 0/100 [00:00<?, ?it/s]"
     ]
    },
    {
     "name": "stdout",
     "output_type": "stream",
     "text": [
      "======epislon: 75======\n"
     ]
    },
    {
     "name": "stderr",
     "output_type": "stream",
     "text": [
      "100%|██████████| 100/100 [00:55<00:00,  1.81it/s]\n",
      "  0%|          | 0/100 [00:00<?, ?it/s]"
     ]
    },
    {
     "name": "stdout",
     "output_type": "stream",
     "text": [
      "======epislon: 100======\n"
     ]
    },
    {
     "name": "stderr",
     "output_type": "stream",
     "text": [
      "100%|██████████| 100/100 [00:54<00:00,  1.83it/s]\n"
     ]
    },
    {
     "name": "stdout",
     "output_type": "stream",
     "text": [
      "======= data_set: Cifar======\n",
      "======= c: 0.9======\n"
     ]
    },
    {
     "name": "stderr",
     "output_type": "stream",
     "text": [
      "\r",
      "  0%|          | 0/100 [00:00<?, ?it/s]"
     ]
    },
    {
     "name": "stdout",
     "output_type": "stream",
     "text": [
      "======epislon: 0.1======\n"
     ]
    },
    {
     "name": "stderr",
     "output_type": "stream",
     "text": [
      "100%|██████████| 100/100 [00:54<00:00,  1.82it/s]\n",
      "  0%|          | 0/100 [00:00<?, ?it/s]"
     ]
    },
    {
     "name": "stdout",
     "output_type": "stream",
     "text": [
      "======epislon: 1======\n"
     ]
    },
    {
     "name": "stderr",
     "output_type": "stream",
     "text": [
      "100%|██████████| 100/100 [00:54<00:00,  1.82it/s]\n",
      "  0%|          | 0/100 [00:00<?, ?it/s]"
     ]
    },
    {
     "name": "stdout",
     "output_type": "stream",
     "text": [
      "======epislon: 5======\n"
     ]
    },
    {
     "name": "stderr",
     "output_type": "stream",
     "text": [
      "100%|██████████| 100/100 [00:54<00:00,  1.82it/s]\n",
      "  0%|          | 0/100 [00:00<?, ?it/s]"
     ]
    },
    {
     "name": "stdout",
     "output_type": "stream",
     "text": [
      "======epislon: 10======\n"
     ]
    },
    {
     "name": "stderr",
     "output_type": "stream",
     "text": [
      "100%|██████████| 100/100 [00:54<00:00,  1.83it/s]\n",
      "  0%|          | 0/100 [00:00<?, ?it/s]"
     ]
    },
    {
     "name": "stdout",
     "output_type": "stream",
     "text": [
      "======epislon: 25======\n"
     ]
    },
    {
     "name": "stderr",
     "output_type": "stream",
     "text": [
      "100%|██████████| 100/100 [00:54<00:00,  1.83it/s]\n",
      "  0%|          | 0/100 [00:00<?, ?it/s]"
     ]
    },
    {
     "name": "stdout",
     "output_type": "stream",
     "text": [
      "======epislon: 50======\n"
     ]
    },
    {
     "name": "stderr",
     "output_type": "stream",
     "text": [
      "100%|██████████| 100/100 [00:54<00:00,  1.82it/s]\n",
      "  0%|          | 0/100 [00:00<?, ?it/s]"
     ]
    },
    {
     "name": "stdout",
     "output_type": "stream",
     "text": [
      "======epislon: 75======\n"
     ]
    },
    {
     "name": "stderr",
     "output_type": "stream",
     "text": [
      "100%|██████████| 100/100 [00:54<00:00,  1.82it/s]\n",
      "  0%|          | 0/100 [00:00<?, ?it/s]"
     ]
    },
    {
     "name": "stdout",
     "output_type": "stream",
     "text": [
      "======epislon: 100======\n"
     ]
    },
    {
     "name": "stderr",
     "output_type": "stream",
     "text": [
      "100%|██████████| 100/100 [00:54<00:00,  1.82it/s]\n"
     ]
    }
   ],
   "source": [
    "data_set_plots=attacks(data_set_list=['Mnist','Cifar'])"
   ]
  },
  {
   "cell_type": "code",
   "execution_count": 15,
   "metadata": {
    "scrolled": true
   },
   "outputs": [
    {
     "data": {
      "text/plain": [
       "<matplotlib.legend.Legend at 0x7f29cc56a5c0>"
      ]
     },
     "execution_count": 15,
     "metadata": {},
     "output_type": "execute_result"
    },
    {
     "data": {
      "image/png": "[encoded data removed]",
      "text/plain": [
       "<Figure size 432x288 with 1 Axes>"
      ]
     },
     "metadata": {
      "needs_background": "light"
     },
     "output_type": "display_data"
    }
   ],
   "source": [
    "for c,plot in data_set_plots['Mnist'].items():\n",
    "    plt.plot(list(plot.keys()),list(plot.values()),label='c='+str(c))\n",
    "plt.grid(True,which=\"both\", linestyle='--')\n",
    "plt.title('Successs rate for different degrees of change \\n on Mnist images',fontsize=11)\n",
    "plt.xlabel('DOC (%)')\n",
    "plt.ylabel('SR')\n",
    "plt.legend(loc='upper left')"
   ]
  },
  {
   "cell_type": "code",
   "execution_count": 18,
   "metadata": {},
   "outputs": [
    {
     "data": {
      "text/plain": [
       "<matplotlib.legend.Legend at 0x7f29f016af28>"
      ]
     },
     "execution_count": 18,
     "metadata": {},
     "output_type": "execute_result"
    },
    {
     "data": {
      "image/png": "[encoded data removed]",
      "text/plain": [
       "<Figure size 432x288 with 1 Axes>"
      ]
     },
     "metadata": {
      "needs_background": "light"
     },
     "output_type": "display_data"
    }
   ],
   "source": [
    "for c,plot in data_set_plots['Cifar'].items():\n",
    "    plt.plot(list(plot.keys()),list(plot.values()),label='c='+str(c))\n",
    "plt.grid(True,which=\"both\", linestyle='--')\n",
    "plt.title('Successs rate for different degrees of change \\n on Cifar images',fontsize=11)\n",
    "plt.xlabel('DOC (%)')\n",
    "plt.ylabel('SR')\n",
    "plt.legend(loc='lower right')"
   ]
  },
  {
   "cell_type": "markdown",
   "metadata": {},
   "source": [
    "Clearly the adversarial training has decreased the efficiency of the attacks so it is truly beneficial. It seems that the higher c is and the better the protection"
   ]
  },
  {
   "cell_type": "markdown",
   "metadata": {},
   "source": [
    "Let's save the 'best model' --> c=0.9"
   ]
  },
  {
   "cell_type": "markdown",
   "metadata": {},
   "source": [
    "### Softmax probabilities visualizations"
   ]
  },
  {
   "cell_type": "markdown",
   "metadata": {},
   "source": [
    "At first let's create some adversarial examples that will fool the most basic model"
   ]
  },
  {
   "cell_type": "code",
   "execution_count": null,
   "metadata": {},
   "outputs": [],
   "source": [
    "models_dict=train_models('Mnist')\n",
    "(_,X_test,y_test)=pick_data_set('Mnist')"
   ]
  },
  {
   "cell_type": "code",
   "execution_count": null,
   "metadata": {},
   "outputs": [],
   "source": [
    "model_naif=models_dict[0]\n",
    "model_to_attack=TensorFlowModel(model_naif , bounds=(0, 255))\n",
    "attack=LinfFastGradientAttack()\n",
    "image_list=X_test[:100]\n",
    "labels=list(map(np.argmax,y_test[:100]))\n",
    "adv_list=[]\n",
    "true_label=[]\n",
    "for i,image in enumerate(tqdm(image_list,position=0)):\n",
    "    image = np.asarray(image)[:,:,:3].astype('float32')\n",
    "    image = convert_to_tensor(np.expand_dims(image,axis=0))\n",
    "    label=labels[i]\n",
    "    label = tf.convert_to_tensor(np.array([label]))\n",
    "    _, clipped, is_adv = attack(model_to_attack,image,label,epsilons=50)\n",
    "    if bool(is_adv[0])==True:\n",
    "        adv_list.append(np.array(clipped[0]))\n",
    "        true_label.append(labels[i])\n",
    "    "
   ]
  },
  {
   "cell_type": "markdown",
   "metadata": {},
   "source": [
    "Let's visualize the outputs of the softmax layers of the different models when given the adversarial images "
   ]
  },
  {
   "cell_type": "code",
   "execution_count": null,
   "metadata": {},
   "outputs": [],
   "source": [
    "adv_image_num=9\n",
    "\n",
    "\n",
    "plt.figure(figsize=(10,10))\n",
    "ax = plt.subplot(3, 3, 2)\n",
    "plt.imshow(adv_list[adv_image_num].astype('int32'))\n",
    "for i,c in enumerate([0,0.1,0.3,0.5,0.7,0.9]): \n",
    "    ax = plt.subplot(3, 3, 3+i + 1)\n",
    "    color=['blue' for i in range(10)]\n",
    "    prediction=models_dict[c].predict(np.expand_dims(adv_list[adv_image_num],axis=0))[0]\n",
    "    if np.argmax(prediction)==true_label[adv_image_num]:\n",
    "        color[true_label[adv_image_num]]='green'\n",
    "    else:\n",
    "        color[np.argmax(prediction)]='red'\n",
    "    plt.bar(x=[i for i in range(10)], height=prediction,color=color)\n",
    "    plt.title('c: '+str(c))\n"
   ]
  },
  {
   "cell_type": "code",
   "execution_count": null,
   "metadata": {},
   "outputs": [],
   "source": [
    "adv_image_num=10\n",
    "\n",
    "\n",
    "plt.figure(figsize=(10,10))\n",
    "ax = plt.subplot(3, 3, 2)\n",
    "plt.imshow(adv_list[adv_image_num].astype('int32'))\n",
    "for i,c in enumerate([0,0.1,0.3,0.5,0.7,0.9]): \n",
    "    ax = plt.subplot(3, 3, 3+i + 1)\n",
    "    color=['blue' for i in range(10)]\n",
    "    prediction=models_dict[c].predict(np.expand_dims(adv_list[adv_image_num],axis=0))[0]\n",
    "    if np.argmax(prediction)==true_label[adv_image_num]:\n",
    "        color[true_label[adv_image_num]]='green'\n",
    "    else:\n",
    "        color[np.argmax(prediction)]='red'\n",
    "    plt.bar(x=[i for i in range(10)], height=prediction,color=color)\n",
    "    plt.title('c: '+str(c))"
   ]
  },
  {
   "cell_type": "markdown",
   "metadata": {},
   "source": [
    "### Against a black box attack (boundary attack)"
   ]
  },
  {
   "cell_type": "code",
   "execution_count": null,
   "metadata": {},
   "outputs": [],
   "source": [
    "model_without_def=models_dict[0]\n",
    "\n",
    "\n",
    "classifier = TensorFlowV2Classifier(model=model_without_def, input_shape=(32,32,3),clip_values=(0, 255),nb_classes=10)\n",
    "degree_of_change_without_def={}\n",
    "attack = BoundaryAttack(estimator=classifier, targeted=False, max_iter=0, delta=0.001, epsilon=0.01)\n",
    "iter_step =1\n",
    "target=X_test[1]\n",
    "image_list=[]\n",
    "x_adv = None\n",
    "for i in range(100):\n",
    "    x_adv = attack.generate(x=np.array([target]), x_adv_init=x_adv)\n",
    "\n",
    "    #clear_output()\n",
    "    print(\"Adversarial image at step %d.\" % (i * iter_step), \"L2 error\", \n",
    "          np.linalg.norm(np.reshape(x_adv[0] - target, [-1])),\n",
    "          \"and class label %d.\" % np.argmax(classifier.predict(x_adv)[0]))\n",
    "    plt.imshow(x_adv[0][..., ::-1].astype('int32'))\n",
    "    image_list.append(x_adv[0][..., ::-1].astype(np.uint))\n",
    "    plt.show(block=False)\n",
    "    degree_of_change_without_def[i * iter_step]=DOC([x_adv[0]],[target])\n",
    "    \n",
    "    if hasattr(attack, 'curr_delta') and hasattr(attack, 'curr_epsilon'):\n",
    "        attack.max_iter = iter_step \n",
    "        attack.delta = attack.curr_delta\n",
    "        attack.epsilon = attack.curr_epsilon\n",
    "    else:\n",
    "        break"
   ]
  },
  {
   "cell_type": "code",
   "execution_count": null,
   "metadata": {},
   "outputs": [],
   "source": [
    "model_with_def=models_dict[0.9]\n",
    "\n",
    "classifier = TensorFlowV2Classifier(model=model_with_def, input_shape=(32,32,3),clip_values=(0, 255),nb_classes=10)\n",
    "degree_of_change_with_def={}\n",
    "attack = BoundaryAttack(estimator=classifier, targeted=False, max_iter=0, delta=0.001, epsilon=0.01)\n",
    "iter_step =1\n",
    "image_list=[]\n",
    "target=X_test[1]\n",
    "x_adv = None\n",
    "for i in range(100):\n",
    "    x_adv = attack.generate(x=np.array([target]), x_adv_init=x_adv)\n",
    "\n",
    "    #clear_output()\n",
    "    print(\"Adversarial image at step %d.\" % (i * iter_step), \"L2 error\", \n",
    "          np.linalg.norm(np.reshape(x_adv[0] - target, [-1])),\n",
    "          \"and class label %d.\" % np.argmax(classifier.predict(x_adv)[0]))\n",
    "    plt.imshow(x_adv[0][..., ::-1].astype('int32'))\n",
    "    image_list.append(x_adv[0][..., ::-1].astype(np.uint))\n",
    "    plt.show(block=False)\n",
    "    degree_of_change_with_def[i * iter_step]=DOC([x_adv[0]],[target])\n",
    "    \n",
    "    if hasattr(attack, 'curr_delta') and hasattr(attack, 'curr_epsilon'):\n",
    "        attack.max_iter = iter_step \n",
    "        attack.delta = attack.curr_delta\n",
    "        attack.epsilon = attack.curr_epsilon\n",
    "    else:\n",
    "        break\n"
   ]
  },
  {
   "cell_type": "code",
   "execution_count": null,
   "metadata": {},
   "outputs": [],
   "source": [
    "plt.plot(list(degree_of_change_without_def.keys()),list(degree_of_change_without_def.values()),label='DOC without adversarial training')\n",
    "plt.plot(list(degree_of_change_with_def.keys()),list(degree_of_change_with_def.values()),label='DOC with adversarial training')\n",
    "plt.grid(True,which=\"both\", linestyle='--')\n",
    "plt.title('DOC of the adversarial image with respect to the number of iterations on a small CNN', fontsize=8)\n",
    "plt.xlabel('Iterarion')\n",
    "plt.ylabel('DOC (%)')\n",
    "\n",
    "plt.legend(loc='upper right')\n",
    "plt.show()"
   ]
  }
 ],
 "metadata": {
  "kernelspec": {
   "display_name": "Benchmark2",
   "language": "python",
   "name": "benchmark"
  },
  "language_info": {
   "codemirror_mode": {
    "name": "ipython",
    "version": 3
   },
   "file_extension": ".py",
   "mimetype": "text/x-python",
   "name": "python",
   "nbconvert_exporter": "python",
   "pygments_lexer": "ipython3",
   "version": "3.6.9"
  }
 },
 "nbformat": 4,
 "nbformat_minor": 2
}
