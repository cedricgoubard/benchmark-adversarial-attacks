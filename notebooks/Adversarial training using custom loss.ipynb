{
 "cells": [
  {
   "cell_type": "markdown",
   "metadata": {},
   "source": [
    "#  adversarial training using custom loss\n"
   ]
  },
  {
   "cell_type": "code",
   "execution_count": 681,
   "metadata": {},
   "outputs": [
    {
     "name": "stdout",
     "output_type": "stream",
     "text": [
      "The autoreload extension is already loaded. To reload it, use:\n",
      "  %reload_ext autoreload\n"
     ]
    }
   ],
   "source": [
    "%load_ext autoreload\n",
    "%autoreload 2"
   ]
  },
  {
   "cell_type": "code",
   "execution_count": 682,
   "metadata": {},
   "outputs": [],
   "source": [
    "import os\n",
    "from os.path import join\n",
    "\n",
    "import time \n",
    "import numpy as np\n",
    "import pandas as pd\n",
    "import cv2\n",
    "import pickle\n",
    "from tqdm import tqdm\n",
    "from PIL import Image\n",
    "import matplotlib.pyplot as plt\n",
    "\n",
    "import tensorflow as tf\n",
    "import gc\n",
    "\n",
    "\n",
    "from tensorflow import convert_to_tensor\n",
    "import tensorflow.keras.backend as K\n",
    "from tensorflow.keras.models import  load_model,Model\n",
    "from tensorflow.keras import applications\n",
    "from tensorflow.keras.callbacks import ModelCheckpoint\n",
    "from tensorflow.keras.layers import Dropout, Activation, Dense, GlobalMaxPooling2D,Conv2D,Flatten,MaxPooling2D,InputLayer\n",
    "from tensorflow.keras.utils import to_categorical\n",
    "from tensorflow.keras.losses import Loss,CategoricalCrossentropy\n",
    "\n",
    "import copy\n",
    "\n",
    "from efficientnet.tfkeras import EfficientNetB7\n",
    "from tensorflow.keras import datasets\n",
    "from foolbox.attacks import LinfFastGradientAttack,LinfDeepFoolAttack\n",
    "from foolbox.distances import LpDistance\n",
    "from foolbox.models import TensorFlowModel\n",
    "from foolbox import criteria\n",
    "from sklearn.metrics import classification_report\n",
    "\n",
    "\n",
    "from art.attacks.evasion import SaliencyMapMethod\n",
    "from art.estimators.classification import TensorFlowV2Classifier\n",
    "from art.attacks.evasion import BoundaryAttack\n",
    "from art.utils import load_dataset #to play with cifar images\n",
    "\n",
    "\n",
    "gpus = tf.config.experimental.list_physical_devices('GPU')\n",
    "tf.config.experimental.set_virtual_device_configuration(\n",
    "    gpus[0],\n",
    "    [tf.config.experimental.VirtualDeviceConfiguration(memory_limit=4*1024)]\n",
    ")"
   ]
  },
  {
   "cell_type": "code",
   "execution_count": 683,
   "metadata": {},
   "outputs": [],
   "source": [
    "tf.config.run_functions_eagerly(False)"
   ]
  },
  {
   "cell_type": "code",
   "execution_count": 700,
   "metadata": {},
   "outputs": [],
   "source": [
    "tf.random.set_seed(0)"
   ]
  },
  {
   "cell_type": "markdown",
   "metadata": {},
   "source": [
    "#### 1. Load Data"
   ]
  },
  {
   "cell_type": "code",
   "execution_count": 684,
   "metadata": {},
   "outputs": [],
   "source": [
    "data=datasets.mnist.load_data(path='mnist.npz')\n",
    "(X_train, y_train), (X_test, y_test) = tf.keras.datasets.fashion_mnist.load_data()\n",
    "# X_train,y_train=data[0][0],data[0][1]\n",
    "# X_test,y_test=data[1][0],data[1][1]\n",
    "y_train = to_categorical(y_train, 10)\n",
    "y_test = to_categorical(y_test, 10)\n",
    "\n",
    "\"\"\" Train \"\"\"\n",
    "X_train_img = np.full((60000, 32, 32, 3), 0)\n",
    "for i, s in enumerate(X_train):\n",
    "    X_train_img[i] = cv2.cvtColor(np.pad(s,2), cv2.COLOR_GRAY2RGB)\n",
    "    \n",
    "\"\"\" Test \"\"\"\n",
    "X_test_img = np.full((10000, 32, 32, 3), 0)\n",
    "for i, s in enumerate(X_test):\n",
    "    X_test_img[i] = cv2.cvtColor(np.pad(s,2), cv2.COLOR_GRAY2RGB)\n",
    "    \n",
    "X_train=X_train_img\n",
    "X_test= X_test_img\n",
    "\n",
    "LABEL_NAMES = ['t_shirt', 'trouser', 'pullover', 'dress', 'coat', 'sandal', 'shirt', 'sneaker', 'bag', 'ankle_boots']"
   ]
  },
  {
   "cell_type": "code",
   "execution_count": 685,
   "metadata": {},
   "outputs": [],
   "source": [
    "data_set=tf.data.Dataset.from_tensor_slices((X_train,y_train)).shuffle(buffer_size=100000).batch(32)"
   ]
  },
  {
   "cell_type": "markdown",
   "metadata": {},
   "source": [
    "#### 2. Load models"
   ]
  },
  {
   "cell_type": "code",
   "execution_count": 686,
   "metadata": {},
   "outputs": [],
   "source": [
    "class Model(tf.keras.Model):\n",
    "    def __init__(self,c,learning_rate,epsilon):\n",
    "        super(Model,self).__init__()\n",
    "        \n",
    "        self.c=c\n",
    "        self.learning_rate=learning_rate\n",
    "        self.epsilon=epsilon\n",
    "        \n",
    "        self.model = tf.keras.models.Sequential()\n",
    "        self.model.add(Conv2D(64, (3, 3), activation='relu',input_shape=(32,32,3)))\n",
    "        self.model.add(MaxPooling2D(2, 2))\n",
    "        self.model.add(Conv2D(64, (3, 3), activation='relu'))\n",
    "        self.model.add(MaxPooling2D(2, 2))\n",
    "        self.model.add(Flatten())\n",
    "        self.model.add(Dense(128, activation='relu'))\n",
    "        self.model.add(Dense(10, activation='softmax'))\n",
    "\n",
    "        self.loss = CategoricalCrossentropy()\n",
    "        self.optimizer = tf.keras.optimizers.SGD(self.learning_rate)\n",
    "#         self.optimizer=tf.keras.optimizers.Adam(self.learning_rate)\n",
    "\n",
    "        \n",
    "        \n",
    "   \n",
    "    @tf.function\n",
    "    def train_step(self,x,y):\n",
    "\n",
    "        with tf.GradientTape() as tape_w:  \n",
    "            \n",
    "            with tf.GradientTape() as tape_x:\n",
    "                tape_x.watch(x)\n",
    "                true_loss = self.loss(y, self.model(x))        \n",
    "            gradient = tape_x.gradient(true_loss, x)       \n",
    "            signed_grad = tf.sign(gradient)      \n",
    "            adv_loss= self.loss(y, self.model(x-self.epsilon*signed_grad))    \n",
    "            \n",
    "      # Combines both losses            \n",
    "            total_loss= (1-self.c)*true_loss + self.c*adv_loss\n",
    "            \n",
    "    # Regular backward pass.\n",
    "            gradients = tape_w.gradient(total_loss, self.model.trainable_variables)        \n",
    "            self.optimizer.apply_gradients(zip(gradients, self.model.trainable_variables))\n",
    "            \n",
    "       \n",
    "    def train(self,train_dataset, x_test,y_test,epochs):\n",
    "\n",
    "        pred=list(map(np.argmax,self.model.predict(x_test)))\n",
    "        true_values=list(map(np.argmax,y_test))\n",
    "        acc=np.sum([1 for i in range(len(pred)) if pred[i]==true_values[i]])/len(pred)         \n",
    "        print('Accuracy before training is {} '.format(acc))\n",
    "        print('-----------')\n",
    "\n",
    "        for epoch in range(epochs):\n",
    "            if epoch!=0 and epoch%3==0:\n",
    "                self.epsilon*=10\n",
    "            start = time.time()\n",
    "            for (x,y) in tqdm(train_dataset,position=0):\n",
    "                x=tf.cast(x,dtype='float32')           \n",
    "                self.train_step(x,y)           \n",
    "\n",
    "            pred=list(map(np.argmax,self.model.predict(x_test)))\n",
    "            true_values=list(map(np.argmax,y_test))\n",
    "            acc=np.sum([1 for i in range(len(pred)) if pred[i]==true_values[i]])/len(pred)         \n",
    "\n",
    "            print ('Time for epoch {} is {} sec'.format(epoch + 1, time.time()-start))\n",
    "            print('-----------')\n",
    "            print('Accuracy for epoch {} is {} '.format(epoch + 1, acc))        \n",
    "            \n",
    "       \n",
    "    def call(self, inputs):\n",
    "        x = self.model(inputs)\n",
    "        return x\n",
    "\n",
    "    \n",
    "\n",
    "\n",
    "        "
   ]
  },
  {
   "cell_type": "code",
   "execution_count": 687,
   "metadata": {},
   "outputs": [],
   "source": [
    "model_with_def=Model(c=0.5,learning_rate=0.001,epsilon=0.001)\n",
    "model_without_def=Model(c=0,learning_rate=0.001,epsilon=0.001)\n",
    "model_slight_defense=Model(c=0.25,learning_rate=0.001,epsilon=0.001)\n",
    "model_strong_defense=Model(c=0.75,learning_rate=0.001,epsilon=0.001)"
   ]
  },
  {
   "cell_type": "code",
   "execution_count": 702,
   "metadata": {},
   "outputs": [],
   "source": [
    "model_average_defense=Model(c=0.6,learning_rate=0.001,epsilon=0.001)"
   ]
  },
  {
   "cell_type": "code",
   "execution_count": 688,
   "metadata": {},
   "outputs": [
    {
     "name": "stderr",
     "output_type": "stream",
     "text": [
      "\r",
      "  0%|          | 0/1875 [00:00<?, ?it/s]"
     ]
    },
    {
     "name": "stdout",
     "output_type": "stream",
     "text": [
      "Accuracy before training is 0.091 \n",
      "-----------\n"
     ]
    },
    {
     "name": "stderr",
     "output_type": "stream",
     "text": [
      "100%|██████████| 1875/1875 [00:11<00:00, 164.13it/s]\n",
      "  0%|          | 0/1875 [00:00<?, ?it/s]"
     ]
    },
    {
     "name": "stdout",
     "output_type": "stream",
     "text": [
      "Time for epoch 1 is 11.521335124969482 sec\n",
      "-----------\n",
      "Accuracy for epoch 1 is 0.86 \n"
     ]
    },
    {
     "name": "stderr",
     "output_type": "stream",
     "text": [
      "100%|██████████| 1875/1875 [00:10<00:00, 177.26it/s]\n",
      "  0%|          | 0/1875 [00:00<?, ?it/s]"
     ]
    },
    {
     "name": "stdout",
     "output_type": "stream",
     "text": [
      "Time for epoch 2 is 10.677022218704224 sec\n",
      "-----------\n",
      "Accuracy for epoch 2 is 0.875 \n"
     ]
    },
    {
     "name": "stderr",
     "output_type": "stream",
     "text": [
      "100%|██████████| 1875/1875 [00:10<00:00, 178.37it/s]\n",
      "  0%|          | 0/1875 [00:00<?, ?it/s]"
     ]
    },
    {
     "name": "stdout",
     "output_type": "stream",
     "text": [
      "Time for epoch 3 is 10.613824605941772 sec\n",
      "-----------\n",
      "Accuracy for epoch 3 is 0.883 \n"
     ]
    },
    {
     "name": "stderr",
     "output_type": "stream",
     "text": [
      "100%|██████████| 1875/1875 [00:10<00:00, 174.15it/s]\n",
      "  0%|          | 0/1875 [00:00<?, ?it/s]"
     ]
    },
    {
     "name": "stdout",
     "output_type": "stream",
     "text": [
      "Time for epoch 4 is 10.863420963287354 sec\n",
      "-----------\n",
      "Accuracy for epoch 4 is 0.897 \n"
     ]
    },
    {
     "name": "stderr",
     "output_type": "stream",
     "text": [
      "100%|██████████| 1875/1875 [00:10<00:00, 172.03it/s]\n",
      "  0%|          | 0/1875 [00:00<?, ?it/s]"
     ]
    },
    {
     "name": "stdout",
     "output_type": "stream",
     "text": [
      "Time for epoch 5 is 10.994032144546509 sec\n",
      "-----------\n",
      "Accuracy for epoch 5 is 0.895 \n"
     ]
    },
    {
     "name": "stderr",
     "output_type": "stream",
     "text": [
      "100%|██████████| 1875/1875 [00:10<00:00, 170.61it/s]\n",
      "  0%|          | 0/1875 [00:00<?, ?it/s]"
     ]
    },
    {
     "name": "stdout",
     "output_type": "stream",
     "text": [
      "Time for epoch 6 is 11.087900161743164 sec\n",
      "-----------\n",
      "Accuracy for epoch 6 is 0.889 \n"
     ]
    },
    {
     "name": "stderr",
     "output_type": "stream",
     "text": [
      "100%|██████████| 1875/1875 [00:10<00:00, 170.99it/s]\n",
      "  0%|          | 0/1875 [00:00<?, ?it/s]"
     ]
    },
    {
     "name": "stdout",
     "output_type": "stream",
     "text": [
      "Time for epoch 7 is 11.06132698059082 sec\n",
      "-----------\n",
      "Accuracy for epoch 7 is 0.89 \n"
     ]
    },
    {
     "name": "stderr",
     "output_type": "stream",
     "text": [
      "100%|██████████| 1875/1875 [00:10<00:00, 171.21it/s]\n",
      "  0%|          | 0/1875 [00:00<?, ?it/s]"
     ]
    },
    {
     "name": "stdout",
     "output_type": "stream",
     "text": [
      "Time for epoch 8 is 11.051707744598389 sec\n",
      "-----------\n",
      "Accuracy for epoch 8 is 0.904 \n"
     ]
    },
    {
     "name": "stderr",
     "output_type": "stream",
     "text": [
      "100%|██████████| 1875/1875 [00:10<00:00, 176.36it/s]\n",
      "  0%|          | 0/1875 [00:00<?, ?it/s]"
     ]
    },
    {
     "name": "stdout",
     "output_type": "stream",
     "text": [
      "Time for epoch 9 is 10.72933840751648 sec\n",
      "-----------\n",
      "Accuracy for epoch 9 is 0.892 \n"
     ]
    },
    {
     "name": "stderr",
     "output_type": "stream",
     "text": [
      "100%|██████████| 1875/1875 [00:10<00:00, 172.97it/s]\n"
     ]
    },
    {
     "name": "stdout",
     "output_type": "stream",
     "text": [
      "Time for epoch 10 is 10.939248323440552 sec\n",
      "-----------\n",
      "Accuracy for epoch 10 is 0.898 \n"
     ]
    }
   ],
   "source": [
    "model_with_def.train(data_set, X_test[:1000],y_test[:1000], 10)"
   ]
  },
  {
   "cell_type": "code",
   "execution_count": 689,
   "metadata": {},
   "outputs": [
    {
     "name": "stderr",
     "output_type": "stream",
     "text": [
      "\r",
      "  0%|          | 0/1875 [00:00<?, ?it/s]"
     ]
    },
    {
     "name": "stdout",
     "output_type": "stream",
     "text": [
      "Accuracy before training is 0.119 \n",
      "-----------\n"
     ]
    },
    {
     "name": "stderr",
     "output_type": "stream",
     "text": [
      "100%|██████████| 1875/1875 [00:10<00:00, 170.66it/s]\n",
      "  0%|          | 0/1875 [00:00<?, ?it/s]"
     ]
    },
    {
     "name": "stdout",
     "output_type": "stream",
     "text": [
      "Time for epoch 1 is 11.084503889083862 sec\n",
      "-----------\n",
      "Accuracy for epoch 1 is 0.859 \n"
     ]
    },
    {
     "name": "stderr",
     "output_type": "stream",
     "text": [
      "100%|██████████| 1875/1875 [00:10<00:00, 177.49it/s]\n",
      "  0%|          | 0/1875 [00:00<?, ?it/s]"
     ]
    },
    {
     "name": "stdout",
     "output_type": "stream",
     "text": [
      "Time for epoch 2 is 10.66518497467041 sec\n",
      "-----------\n",
      "Accuracy for epoch 2 is 0.879 \n"
     ]
    },
    {
     "name": "stderr",
     "output_type": "stream",
     "text": [
      "100%|██████████| 1875/1875 [00:10<00:00, 178.13it/s]\n",
      "  0%|          | 0/1875 [00:00<?, ?it/s]"
     ]
    },
    {
     "name": "stdout",
     "output_type": "stream",
     "text": [
      "Time for epoch 3 is 10.624125719070435 sec\n",
      "-----------\n",
      "Accuracy for epoch 3 is 0.891 \n"
     ]
    },
    {
     "name": "stderr",
     "output_type": "stream",
     "text": [
      "100%|██████████| 1875/1875 [00:10<00:00, 179.24it/s]\n",
      "  0%|          | 0/1875 [00:00<?, ?it/s]"
     ]
    },
    {
     "name": "stdout",
     "output_type": "stream",
     "text": [
      "Time for epoch 4 is 10.55917477607727 sec\n",
      "-----------\n",
      "Accuracy for epoch 4 is 0.895 \n"
     ]
    },
    {
     "name": "stderr",
     "output_type": "stream",
     "text": [
      "100%|██████████| 1875/1875 [00:10<00:00, 178.87it/s]\n",
      "  0%|          | 0/1875 [00:00<?, ?it/s]"
     ]
    },
    {
     "name": "stdout",
     "output_type": "stream",
     "text": [
      "Time for epoch 5 is 10.581048727035522 sec\n",
      "-----------\n",
      "Accuracy for epoch 5 is 0.887 \n"
     ]
    },
    {
     "name": "stderr",
     "output_type": "stream",
     "text": [
      "100%|██████████| 1875/1875 [00:10<00:00, 178.37it/s]\n",
      "  0%|          | 0/1875 [00:00<?, ?it/s]"
     ]
    },
    {
     "name": "stdout",
     "output_type": "stream",
     "text": [
      "Time for epoch 6 is 10.61289358139038 sec\n",
      "-----------\n",
      "Accuracy for epoch 6 is 0.88 \n"
     ]
    },
    {
     "name": "stderr",
     "output_type": "stream",
     "text": [
      "100%|██████████| 1875/1875 [00:10<00:00, 174.99it/s]\n",
      "  0%|          | 0/1875 [00:00<?, ?it/s]"
     ]
    },
    {
     "name": "stdout",
     "output_type": "stream",
     "text": [
      "Time for epoch 7 is 10.813978672027588 sec\n",
      "-----------\n",
      "Accuracy for epoch 7 is 0.893 \n"
     ]
    },
    {
     "name": "stderr",
     "output_type": "stream",
     "text": [
      "100%|██████████| 1875/1875 [00:10<00:00, 177.34it/s]\n",
      "  0%|          | 0/1875 [00:00<?, ?it/s]"
     ]
    },
    {
     "name": "stdout",
     "output_type": "stream",
     "text": [
      "Time for epoch 8 is 10.681093215942383 sec\n",
      "-----------\n",
      "Accuracy for epoch 8 is 0.897 \n"
     ]
    },
    {
     "name": "stderr",
     "output_type": "stream",
     "text": [
      "100%|██████████| 1875/1875 [00:10<00:00, 177.11it/s]\n",
      "  0%|          | 0/1875 [00:00<?, ?it/s]"
     ]
    },
    {
     "name": "stdout",
     "output_type": "stream",
     "text": [
      "Time for epoch 9 is 10.686333179473877 sec\n",
      "-----------\n",
      "Accuracy for epoch 9 is 0.9 \n"
     ]
    },
    {
     "name": "stderr",
     "output_type": "stream",
     "text": [
      "100%|██████████| 1875/1875 [00:10<00:00, 176.53it/s]\n"
     ]
    },
    {
     "name": "stdout",
     "output_type": "stream",
     "text": [
      "Time for epoch 10 is 10.719868898391724 sec\n",
      "-----------\n",
      "Accuracy for epoch 10 is 0.897 \n"
     ]
    }
   ],
   "source": [
    "model_without_def.train(data_set, X_test[:1000],y_test[:1000], 10)"
   ]
  },
  {
   "cell_type": "code",
   "execution_count": 690,
   "metadata": {},
   "outputs": [
    {
     "name": "stderr",
     "output_type": "stream",
     "text": [
      "\r",
      "  0%|          | 0/1875 [00:00<?, ?it/s]"
     ]
    },
    {
     "name": "stdout",
     "output_type": "stream",
     "text": [
      "Accuracy before training is 0.092 \n",
      "-----------\n"
     ]
    },
    {
     "name": "stderr",
     "output_type": "stream",
     "text": [
      "100%|██████████| 1875/1875 [00:10<00:00, 171.05it/s]\n",
      "  0%|          | 0/1875 [00:00<?, ?it/s]"
     ]
    },
    {
     "name": "stdout",
     "output_type": "stream",
     "text": [
      "Time for epoch 1 is 11.059312105178833 sec\n",
      "-----------\n",
      "Accuracy for epoch 1 is 0.853 \n"
     ]
    },
    {
     "name": "stderr",
     "output_type": "stream",
     "text": [
      "100%|██████████| 1875/1875 [00:10<00:00, 175.75it/s]\n",
      "  0%|          | 0/1875 [00:00<?, ?it/s]"
     ]
    },
    {
     "name": "stdout",
     "output_type": "stream",
     "text": [
      "Time for epoch 2 is 10.76836895942688 sec\n",
      "-----------\n",
      "Accuracy for epoch 2 is 0.867 \n"
     ]
    },
    {
     "name": "stderr",
     "output_type": "stream",
     "text": [
      "100%|██████████| 1875/1875 [00:10<00:00, 173.93it/s]\n",
      "  0%|          | 0/1875 [00:00<?, ?it/s]"
     ]
    },
    {
     "name": "stdout",
     "output_type": "stream",
     "text": [
      "Time for epoch 3 is 10.879767417907715 sec\n",
      "-----------\n",
      "Accuracy for epoch 3 is 0.885 \n"
     ]
    },
    {
     "name": "stderr",
     "output_type": "stream",
     "text": [
      "100%|██████████| 1875/1875 [00:10<00:00, 175.70it/s]\n",
      "  0%|          | 0/1875 [00:00<?, ?it/s]"
     ]
    },
    {
     "name": "stdout",
     "output_type": "stream",
     "text": [
      "Time for epoch 4 is 10.77641487121582 sec\n",
      "-----------\n",
      "Accuracy for epoch 4 is 0.886 \n"
     ]
    },
    {
     "name": "stderr",
     "output_type": "stream",
     "text": [
      "100%|██████████| 1875/1875 [00:10<00:00, 174.02it/s]\n",
      "  0%|          | 0/1875 [00:00<?, ?it/s]"
     ]
    },
    {
     "name": "stdout",
     "output_type": "stream",
     "text": [
      "Time for epoch 5 is 10.870031833648682 sec\n",
      "-----------\n",
      "Accuracy for epoch 5 is 0.885 \n"
     ]
    },
    {
     "name": "stderr",
     "output_type": "stream",
     "text": [
      "100%|██████████| 1875/1875 [00:10<00:00, 180.15it/s]\n",
      "  0%|          | 0/1875 [00:00<?, ?it/s]"
     ]
    },
    {
     "name": "stdout",
     "output_type": "stream",
     "text": [
      "Time for epoch 6 is 10.505855560302734 sec\n",
      "-----------\n",
      "Accuracy for epoch 6 is 0.896 \n"
     ]
    },
    {
     "name": "stderr",
     "output_type": "stream",
     "text": [
      "100%|██████████| 1875/1875 [00:10<00:00, 172.84it/s]\n",
      "  0%|          | 0/1875 [00:00<?, ?it/s]"
     ]
    },
    {
     "name": "stdout",
     "output_type": "stream",
     "text": [
      "Time for epoch 7 is 10.946324110031128 sec\n",
      "-----------\n",
      "Accuracy for epoch 7 is 0.895 \n"
     ]
    },
    {
     "name": "stderr",
     "output_type": "stream",
     "text": [
      "100%|██████████| 1875/1875 [00:10<00:00, 174.70it/s]\n",
      "  0%|          | 0/1875 [00:00<?, ?it/s]"
     ]
    },
    {
     "name": "stdout",
     "output_type": "stream",
     "text": [
      "Time for epoch 8 is 10.830015897750854 sec\n",
      "-----------\n",
      "Accuracy for epoch 8 is 0.892 \n"
     ]
    },
    {
     "name": "stderr",
     "output_type": "stream",
     "text": [
      "100%|██████████| 1875/1875 [00:10<00:00, 175.40it/s]\n",
      "  0%|          | 0/1875 [00:00<?, ?it/s]"
     ]
    },
    {
     "name": "stdout",
     "output_type": "stream",
     "text": [
      "Time for epoch 9 is 10.786216974258423 sec\n",
      "-----------\n",
      "Accuracy for epoch 9 is 0.891 \n"
     ]
    },
    {
     "name": "stderr",
     "output_type": "stream",
     "text": [
      "100%|██████████| 1875/1875 [00:10<00:00, 176.40it/s]\n"
     ]
    },
    {
     "name": "stdout",
     "output_type": "stream",
     "text": [
      "Time for epoch 10 is 10.726639032363892 sec\n",
      "-----------\n",
      "Accuracy for epoch 10 is 0.9 \n"
     ]
    }
   ],
   "source": [
    "model_slight_defense.train(data_set, X_test[:1000],y_test[:1000], 10)"
   ]
  },
  {
   "cell_type": "code",
   "execution_count": 691,
   "metadata": {},
   "outputs": [
    {
     "name": "stderr",
     "output_type": "stream",
     "text": [
      "\r",
      "  0%|          | 0/1875 [00:00<?, ?it/s]"
     ]
    },
    {
     "name": "stdout",
     "output_type": "stream",
     "text": [
      "Accuracy before training is 0.082 \n",
      "-----------\n"
     ]
    },
    {
     "name": "stderr",
     "output_type": "stream",
     "text": [
      "100%|██████████| 1875/1875 [00:11<00:00, 167.58it/s]\n",
      "  0%|          | 0/1875 [00:00<?, ?it/s]"
     ]
    },
    {
     "name": "stdout",
     "output_type": "stream",
     "text": [
      "Time for epoch 1 is 11.288469076156616 sec\n",
      "-----------\n",
      "Accuracy for epoch 1 is 0.85 \n"
     ]
    },
    {
     "name": "stderr",
     "output_type": "stream",
     "text": [
      "100%|██████████| 1875/1875 [00:10<00:00, 172.47it/s]\n",
      "  0%|          | 0/1875 [00:00<?, ?it/s]"
     ]
    },
    {
     "name": "stdout",
     "output_type": "stream",
     "text": [
      "Time for epoch 2 is 10.96502685546875 sec\n",
      "-----------\n",
      "Accuracy for epoch 2 is 0.878 \n"
     ]
    },
    {
     "name": "stderr",
     "output_type": "stream",
     "text": [
      "100%|██████████| 1875/1875 [00:10<00:00, 175.96it/s]\n",
      "  0%|          | 0/1875 [00:00<?, ?it/s]"
     ]
    },
    {
     "name": "stdout",
     "output_type": "stream",
     "text": [
      "Time for epoch 3 is 10.756346225738525 sec\n",
      "-----------\n",
      "Accuracy for epoch 3 is 0.874 \n"
     ]
    },
    {
     "name": "stderr",
     "output_type": "stream",
     "text": [
      "100%|██████████| 1875/1875 [00:10<00:00, 177.19it/s]\n",
      "  0%|          | 0/1875 [00:00<?, ?it/s]"
     ]
    },
    {
     "name": "stdout",
     "output_type": "stream",
     "text": [
      "Time for epoch 4 is 10.675750970840454 sec\n",
      "-----------\n",
      "Accuracy for epoch 4 is 0.884 \n"
     ]
    },
    {
     "name": "stderr",
     "output_type": "stream",
     "text": [
      "100%|██████████| 1875/1875 [00:10<00:00, 174.36it/s]\n",
      "  0%|          | 0/1875 [00:00<?, ?it/s]"
     ]
    },
    {
     "name": "stdout",
     "output_type": "stream",
     "text": [
      "Time for epoch 5 is 10.853132247924805 sec\n",
      "-----------\n",
      "Accuracy for epoch 5 is 0.885 \n"
     ]
    },
    {
     "name": "stderr",
     "output_type": "stream",
     "text": [
      "100%|██████████| 1875/1875 [00:10<00:00, 180.93it/s]\n",
      "  0%|          | 0/1875 [00:00<?, ?it/s]"
     ]
    },
    {
     "name": "stdout",
     "output_type": "stream",
     "text": [
      "Time for epoch 6 is 10.469084739685059 sec\n",
      "-----------\n",
      "Accuracy for epoch 6 is 0.895 \n"
     ]
    },
    {
     "name": "stderr",
     "output_type": "stream",
     "text": [
      "100%|██████████| 1875/1875 [00:10<00:00, 174.70it/s]\n",
      "  0%|          | 0/1875 [00:00<?, ?it/s]"
     ]
    },
    {
     "name": "stdout",
     "output_type": "stream",
     "text": [
      "Time for epoch 7 is 10.827935695648193 sec\n",
      "-----------\n",
      "Accuracy for epoch 7 is 0.892 \n"
     ]
    },
    {
     "name": "stderr",
     "output_type": "stream",
     "text": [
      "100%|██████████| 1875/1875 [00:10<00:00, 173.35it/s]\n",
      "  0%|          | 0/1875 [00:00<?, ?it/s]"
     ]
    },
    {
     "name": "stdout",
     "output_type": "stream",
     "text": [
      "Time for epoch 8 is 10.911808729171753 sec\n",
      "-----------\n",
      "Accuracy for epoch 8 is 0.889 \n"
     ]
    },
    {
     "name": "stderr",
     "output_type": "stream",
     "text": [
      "100%|██████████| 1875/1875 [00:10<00:00, 174.12it/s]\n",
      "  0%|          | 0/1875 [00:00<?, ?it/s]"
     ]
    },
    {
     "name": "stdout",
     "output_type": "stream",
     "text": [
      "Time for epoch 9 is 10.867736577987671 sec\n",
      "-----------\n",
      "Accuracy for epoch 9 is 0.891 \n"
     ]
    },
    {
     "name": "stderr",
     "output_type": "stream",
     "text": [
      "100%|██████████| 1875/1875 [00:10<00:00, 180.67it/s]\n"
     ]
    },
    {
     "name": "stdout",
     "output_type": "stream",
     "text": [
      "Time for epoch 10 is 10.475807905197144 sec\n",
      "-----------\n",
      "Accuracy for epoch 10 is 0.901 \n"
     ]
    }
   ],
   "source": [
    "model_strong_defense.train(data_set, X_test[:1000],y_test[:1000], 10)"
   ]
  },
  {
   "cell_type": "code",
   "execution_count": 703,
   "metadata": {},
   "outputs": [
    {
     "name": "stderr",
     "output_type": "stream",
     "text": [
      "\r",
      "  0%|          | 0/1875 [00:00<?, ?it/s]"
     ]
    },
    {
     "name": "stdout",
     "output_type": "stream",
     "text": [
      "Accuracy before training is 0.124 \n",
      "-----------\n"
     ]
    },
    {
     "name": "stderr",
     "output_type": "stream",
     "text": [
      "100%|██████████| 1875/1875 [00:11<00:00, 160.60it/s]\n",
      "  0%|          | 0/1875 [00:00<?, ?it/s]"
     ]
    },
    {
     "name": "stdout",
     "output_type": "stream",
     "text": [
      "Time for epoch 1 is 11.774292945861816 sec\n",
      "-----------\n",
      "Accuracy for epoch 1 is 0.863 \n"
     ]
    },
    {
     "name": "stderr",
     "output_type": "stream",
     "text": [
      "100%|██████████| 1875/1875 [00:10<00:00, 177.89it/s]\n",
      "  0%|          | 0/1875 [00:00<?, ?it/s]"
     ]
    },
    {
     "name": "stdout",
     "output_type": "stream",
     "text": [
      "Time for epoch 2 is 10.629058361053467 sec\n",
      "-----------\n",
      "Accuracy for epoch 2 is 0.884 \n"
     ]
    },
    {
     "name": "stderr",
     "output_type": "stream",
     "text": [
      "100%|██████████| 1875/1875 [00:10<00:00, 174.73it/s]\n",
      "  0%|          | 0/1875 [00:00<?, ?it/s]"
     ]
    },
    {
     "name": "stdout",
     "output_type": "stream",
     "text": [
      "Time for epoch 3 is 10.834744215011597 sec\n",
      "-----------\n",
      "Accuracy for epoch 3 is 0.896 \n"
     ]
    },
    {
     "name": "stderr",
     "output_type": "stream",
     "text": [
      "100%|██████████| 1875/1875 [00:10<00:00, 178.06it/s]\n",
      "  0%|          | 0/1875 [00:00<?, ?it/s]"
     ]
    },
    {
     "name": "stdout",
     "output_type": "stream",
     "text": [
      "Time for epoch 4 is 10.63293981552124 sec\n",
      "-----------\n",
      "Accuracy for epoch 4 is 0.904 \n"
     ]
    },
    {
     "name": "stderr",
     "output_type": "stream",
     "text": [
      "100%|██████████| 1875/1875 [00:11<00:00, 169.36it/s]\n",
      "  0%|          | 0/1875 [00:00<?, ?it/s]"
     ]
    },
    {
     "name": "stdout",
     "output_type": "stream",
     "text": [
      "Time for epoch 5 is 11.170311689376831 sec\n",
      "-----------\n",
      "Accuracy for epoch 5 is 0.892 \n"
     ]
    },
    {
     "name": "stderr",
     "output_type": "stream",
     "text": [
      "100%|██████████| 1875/1875 [00:11<00:00, 170.42it/s]\n",
      "  0%|          | 0/1875 [00:00<?, ?it/s]"
     ]
    },
    {
     "name": "stdout",
     "output_type": "stream",
     "text": [
      "Time for epoch 6 is 11.101419687271118 sec\n",
      "-----------\n",
      "Accuracy for epoch 6 is 0.895 \n"
     ]
    },
    {
     "name": "stderr",
     "output_type": "stream",
     "text": [
      "100%|██████████| 1875/1875 [00:10<00:00, 172.74it/s]\n",
      "  0%|          | 0/1875 [00:00<?, ?it/s]"
     ]
    },
    {
     "name": "stdout",
     "output_type": "stream",
     "text": [
      "Time for epoch 7 is 10.95723581314087 sec\n",
      "-----------\n",
      "Accuracy for epoch 7 is 0.898 \n"
     ]
    },
    {
     "name": "stderr",
     "output_type": "stream",
     "text": [
      "100%|██████████| 1875/1875 [00:10<00:00, 176.81it/s]\n",
      "  0%|          | 0/1875 [00:00<?, ?it/s]"
     ]
    },
    {
     "name": "stdout",
     "output_type": "stream",
     "text": [
      "Time for epoch 8 is 10.700856447219849 sec\n",
      "-----------\n",
      "Accuracy for epoch 8 is 0.894 \n"
     ]
    },
    {
     "name": "stderr",
     "output_type": "stream",
     "text": [
      "100%|██████████| 1875/1875 [00:10<00:00, 173.31it/s]\n",
      "  0%|          | 0/1875 [00:00<?, ?it/s]"
     ]
    },
    {
     "name": "stdout",
     "output_type": "stream",
     "text": [
      "Time for epoch 9 is 10.916675090789795 sec\n",
      "-----------\n",
      "Accuracy for epoch 9 is 0.898 \n"
     ]
    },
    {
     "name": "stderr",
     "output_type": "stream",
     "text": [
      "100%|██████████| 1875/1875 [00:10<00:00, 172.67it/s]\n"
     ]
    },
    {
     "name": "stdout",
     "output_type": "stream",
     "text": [
      "Time for epoch 10 is 10.954395055770874 sec\n",
      "-----------\n",
      "Accuracy for epoch 10 is 0.885 \n"
     ]
    }
   ],
   "source": [
    "model_average_defense.train(data_set, X_test[:1000],y_test[:1000], 10)"
   ]
  },
  {
   "cell_type": "code",
   "execution_count": 692,
   "metadata": {},
   "outputs": [],
   "source": [
    "def DOC (x_adv_list,x_list):\n",
    "    N=len(x_adv_list)\n",
    "    sum=0\n",
    "    for i in range (N):        \n",
    "        sum+=100*np.linalg.norm(np.reshape(x_adv_list[i] - x_list[i], -1),ord=1)/np.linalg.norm(np.reshape(x_list[i], -1),ord=1)\n",
    "    return(sum/N)\n",
    "\n",
    "def succes_rate (success_list):\n",
    "    success=len([i for i in success_list if i==True])\n",
    "    total=len(success_list)\n",
    "    return(success/total)"
   ]
  },
  {
   "cell_type": "markdown",
   "metadata": {},
   "source": [
    "Test de la resistance du modèle "
   ]
  },
  {
   "cell_type": "code",
   "execution_count": 693,
   "metadata": {},
   "outputs": [],
   "source": [
    "def attack_performances_computer(model_to_attack,predicting_model,attack, image_list, labels,epsilon):\n",
    "    model_to_attack=TensorFlowModel(model_to_attack , bounds=(0, 255))\n",
    "   \n",
    "    success_on_attacked_model=[]\n",
    "    success_on_predicting_model=[]\n",
    "    adv_list=[]\n",
    "    for i,image in enumerate(tqdm(image_list,position=0)):\n",
    "        image = np.asarray(image)[:\n",
    "                                  ,:,:3].astype('float32')\n",
    "        image = convert_to_tensor(np.expand_dims(image,axis=0))\n",
    "        label=labels[i]\n",
    "        label = tf.convert_to_tensor(np.array([label]))\n",
    "        _, clipped, is_adv = attack(model_to_attack,image,label,epsilons=epsilon)\n",
    "        success_on_attacked_model.append(bool(is_adv[0][0]))\n",
    "        adv_list.append(np.array(clipped[0][0]))\n",
    "        prediction=predicting_model.predict(np.expand_dims(clipped[0][0],axis=0))\n",
    "        if np.argmax(prediction)!=labels[i]:\n",
    "            success_on_predicting_model.append(True)\n",
    "        else:\n",
    "            success_on_predicting_model.append(False)\n",
    "            \n",
    "        \n",
    "    DOC_attack=DOC(adv_list,image_list)\n",
    "    SR_on_attacked_model=succes_rate(success_on_attacked_model)\n",
    "    SR_on_predicting_model=succes_rate(success_on_predicting_model)\n",
    "    return(DOC_attack,SR_on_attacked_model,SR_on_predicting_model)\n"
   ]
  },
  {
   "cell_type": "code",
   "execution_count": 694,
   "metadata": {},
   "outputs": [],
   "source": [
    "def attack_runner(model_to_attack,predicting_model,image_list, labels_list, epislons_list):   \n",
    "    labels_list=list(map(np.argmax,labels_list))\n",
    "    \n",
    "    attack_FGSM=LinfFastGradientAttack()\n",
    "    \n",
    "   \n",
    "\n",
    "    SR_FGSM_dic={}  \n",
    "    SR_FGSM_dic_with_defense={}\n",
    "\n",
    "\n",
    "    for epsilon in epislons_list:\n",
    "        print('======'+'epislon: '+str(epsilon)+'======')\n",
    "        DOC_FGSM,SR_FGSM,SR_FGSM_with_defense=attack_performances_computer(model_to_attack,predicting_model,attack_FGSM, image_list, labels_list,[epsilon])\n",
    "              \n",
    "        SR_FGSM_dic[DOC_FGSM]=SR_FGSM\n",
    "        SR_FGSM_dic_with_defense[DOC_FGSM]=SR_FGSM_with_defense\n",
    "        \n",
    "    return(SR_FGSM_dic,SR_FGSM_dic_with_defense)"
   ]
  },
  {
   "cell_type": "code",
   "execution_count": 695,
   "metadata": {},
   "outputs": [
    {
     "name": "stderr",
     "output_type": "stream",
     "text": [
      "\r",
      "  0%|          | 0/500 [00:00<?, ?it/s]"
     ]
    },
    {
     "name": "stdout",
     "output_type": "stream",
     "text": [
      "======epislon: 0.0005======\n"
     ]
    },
    {
     "name": "stderr",
     "output_type": "stream",
     "text": [
      "100%|██████████| 500/500 [00:18<00:00, 27.60it/s]\n",
      "  1%|          | 3/500 [00:00<00:18, 26.28it/s]"
     ]
    },
    {
     "name": "stdout",
     "output_type": "stream",
     "text": [
      "======epislon: 0.001======\n"
     ]
    },
    {
     "name": "stderr",
     "output_type": "stream",
     "text": [
      "100%|██████████| 500/500 [00:17<00:00, 27.83it/s]\n",
      "  1%|          | 3/500 [00:00<00:17, 28.98it/s]"
     ]
    },
    {
     "name": "stdout",
     "output_type": "stream",
     "text": [
      "======epislon: 0.005======\n"
     ]
    },
    {
     "name": "stderr",
     "output_type": "stream",
     "text": [
      "100%|██████████| 500/500 [00:18<00:00, 26.39it/s]\n",
      "  1%|          | 3/500 [00:00<00:19, 26.01it/s]"
     ]
    },
    {
     "name": "stdout",
     "output_type": "stream",
     "text": [
      "======epislon: 0.01======\n"
     ]
    },
    {
     "name": "stderr",
     "output_type": "stream",
     "text": [
      "100%|██████████| 500/500 [00:18<00:00, 27.55it/s]\n",
      "  1%|          | 3/500 [00:00<00:16, 29.51it/s]"
     ]
    },
    {
     "name": "stdout",
     "output_type": "stream",
     "text": [
      "======epislon: 0.05======\n"
     ]
    },
    {
     "name": "stderr",
     "output_type": "stream",
     "text": [
      "100%|██████████| 500/500 [00:17<00:00, 28.93it/s]\n",
      "  1%|          | 3/500 [00:00<00:17, 29.06it/s]"
     ]
    },
    {
     "name": "stdout",
     "output_type": "stream",
     "text": [
      "======epislon: 0.1======\n"
     ]
    },
    {
     "name": "stderr",
     "output_type": "stream",
     "text": [
      "100%|██████████| 500/500 [00:16<00:00, 29.64it/s]\n",
      "  1%|          | 4/500 [00:00<00:16, 29.46it/s]"
     ]
    },
    {
     "name": "stdout",
     "output_type": "stream",
     "text": [
      "======epislon: 0.5======\n"
     ]
    },
    {
     "name": "stderr",
     "output_type": "stream",
     "text": [
      "100%|██████████| 500/500 [00:19<00:00, 25.83it/s]\n",
      "  1%|          | 3/500 [00:00<00:18, 27.31it/s]"
     ]
    },
    {
     "name": "stdout",
     "output_type": "stream",
     "text": [
      "======epislon: 1======\n"
     ]
    },
    {
     "name": "stderr",
     "output_type": "stream",
     "text": [
      "100%|██████████| 500/500 [00:18<00:00, 26.32it/s]\n"
     ]
    }
   ],
   "source": [
    "SR_FGSM_dic_with_defense,_=attack_runner(model_with_def,model_with_def,X_test[7000:7500], y_test[7000:7500], [0.0005,0.001,0.005,0.01,0.05,0.1,0.5,1])"
   ]
  },
  {
   "cell_type": "code",
   "execution_count": 696,
   "metadata": {},
   "outputs": [
    {
     "name": "stderr",
     "output_type": "stream",
     "text": [
      "  0%|          | 2/500 [00:00<00:27, 18.21it/s]"
     ]
    },
    {
     "name": "stdout",
     "output_type": "stream",
     "text": [
      "======epislon: 0.0005======\n"
     ]
    },
    {
     "name": "stderr",
     "output_type": "stream",
     "text": [
      "100%|██████████| 500/500 [00:18<00:00, 26.45it/s]\n",
      "  1%|          | 3/500 [00:00<00:17, 27.65it/s]"
     ]
    },
    {
     "name": "stdout",
     "output_type": "stream",
     "text": [
      "======epislon: 0.001======\n"
     ]
    },
    {
     "name": "stderr",
     "output_type": "stream",
     "text": [
      "100%|██████████| 500/500 [00:18<00:00, 26.52it/s]\n",
      "  1%|          | 3/500 [00:00<00:19, 25.27it/s]"
     ]
    },
    {
     "name": "stdout",
     "output_type": "stream",
     "text": [
      "======epislon: 0.005======\n"
     ]
    },
    {
     "name": "stderr",
     "output_type": "stream",
     "text": [
      "100%|██████████| 500/500 [00:18<00:00, 26.52it/s]\n",
      "  1%|          | 3/500 [00:00<00:18, 27.51it/s]"
     ]
    },
    {
     "name": "stdout",
     "output_type": "stream",
     "text": [
      "======epislon: 0.01======\n"
     ]
    },
    {
     "name": "stderr",
     "output_type": "stream",
     "text": [
      "100%|██████████| 500/500 [00:18<00:00, 26.61it/s]\n",
      "  1%|          | 3/500 [00:00<00:19, 25.07it/s]"
     ]
    },
    {
     "name": "stdout",
     "output_type": "stream",
     "text": [
      "======epislon: 0.05======\n"
     ]
    },
    {
     "name": "stderr",
     "output_type": "stream",
     "text": [
      "100%|██████████| 500/500 [00:18<00:00, 26.58it/s]\n",
      "  1%|          | 3/500 [00:00<00:17, 27.85it/s]"
     ]
    },
    {
     "name": "stdout",
     "output_type": "stream",
     "text": [
      "======epislon: 0.1======\n"
     ]
    },
    {
     "name": "stderr",
     "output_type": "stream",
     "text": [
      "100%|██████████| 500/500 [00:18<00:00, 26.66it/s]\n",
      "  1%|          | 3/500 [00:00<00:18, 27.60it/s]"
     ]
    },
    {
     "name": "stdout",
     "output_type": "stream",
     "text": [
      "======epislon: 0.5======\n"
     ]
    },
    {
     "name": "stderr",
     "output_type": "stream",
     "text": [
      "100%|██████████| 500/500 [00:18<00:00, 26.63it/s]\n",
      "  1%|          | 3/500 [00:00<00:17, 27.93it/s]"
     ]
    },
    {
     "name": "stdout",
     "output_type": "stream",
     "text": [
      "======epislon: 1======\n"
     ]
    },
    {
     "name": "stderr",
     "output_type": "stream",
     "text": [
      "100%|██████████| 500/500 [00:19<00:00, 26.21it/s]\n"
     ]
    }
   ],
   "source": [
    "SR_FGSM_dic_without_defense,_=attack_runner(model_without_def,model_without_def,X_test[7000:7500], y_test[7000:7500], [0.0005,0.001,0.005,0.01,0.05,0.1,0.5,1])"
   ]
  },
  {
   "cell_type": "code",
   "execution_count": 697,
   "metadata": {},
   "outputs": [
    {
     "name": "stderr",
     "output_type": "stream",
     "text": [
      "  0%|          | 2/500 [00:00<00:27, 18.13it/s]"
     ]
    },
    {
     "name": "stdout",
     "output_type": "stream",
     "text": [
      "======epislon: 0.0005======\n"
     ]
    },
    {
     "name": "stderr",
     "output_type": "stream",
     "text": [
      "100%|██████████| 500/500 [00:18<00:00, 26.49it/s]\n",
      "  1%|          | 3/500 [00:00<00:19, 25.17it/s]"
     ]
    },
    {
     "name": "stdout",
     "output_type": "stream",
     "text": [
      "======epislon: 0.001======\n"
     ]
    },
    {
     "name": "stderr",
     "output_type": "stream",
     "text": [
      "100%|██████████| 500/500 [00:18<00:00, 26.64it/s]\n",
      "  1%|          | 3/500 [00:00<00:19, 25.84it/s]"
     ]
    },
    {
     "name": "stdout",
     "output_type": "stream",
     "text": [
      "======epislon: 0.005======\n"
     ]
    },
    {
     "name": "stderr",
     "output_type": "stream",
     "text": [
      "100%|██████████| 500/500 [00:18<00:00, 26.54it/s]\n",
      "  1%|          | 3/500 [00:00<00:19, 25.05it/s]"
     ]
    },
    {
     "name": "stdout",
     "output_type": "stream",
     "text": [
      "======epislon: 0.01======\n"
     ]
    },
    {
     "name": "stderr",
     "output_type": "stream",
     "text": [
      "100%|██████████| 500/500 [00:18<00:00, 26.65it/s]\n",
      "  1%|          | 3/500 [00:00<00:17, 27.66it/s]"
     ]
    },
    {
     "name": "stdout",
     "output_type": "stream",
     "text": [
      "======epislon: 0.05======\n"
     ]
    },
    {
     "name": "stderr",
     "output_type": "stream",
     "text": [
      "100%|██████████| 500/500 [00:18<00:00, 26.52it/s]\n",
      "  1%|          | 3/500 [00:00<00:20, 24.12it/s]"
     ]
    },
    {
     "name": "stdout",
     "output_type": "stream",
     "text": [
      "======epislon: 0.1======\n"
     ]
    },
    {
     "name": "stderr",
     "output_type": "stream",
     "text": [
      "100%|██████████| 500/500 [00:18<00:00, 26.55it/s]\n",
      "  1%|          | 3/500 [00:00<00:17, 27.64it/s]"
     ]
    },
    {
     "name": "stdout",
     "output_type": "stream",
     "text": [
      "======epislon: 0.5======\n"
     ]
    },
    {
     "name": "stderr",
     "output_type": "stream",
     "text": [
      "100%|██████████| 500/500 [00:18<00:00, 26.63it/s]\n",
      "  1%|          | 3/500 [00:00<00:17, 27.76it/s]"
     ]
    },
    {
     "name": "stdout",
     "output_type": "stream",
     "text": [
      "======epislon: 1======\n"
     ]
    },
    {
     "name": "stderr",
     "output_type": "stream",
     "text": [
      "100%|██████████| 500/500 [00:18<00:00, 26.73it/s]\n"
     ]
    }
   ],
   "source": [
    "SR_FGSM_dic_slight_defense,_=attack_runner(model_slight_defense,model_slight_defense,X_test[7000:7500], y_test[7000:7500], [0.0005,0.001,0.005,0.01,0.05,0.1,0.5,1])"
   ]
  },
  {
   "cell_type": "code",
   "execution_count": 698,
   "metadata": {},
   "outputs": [
    {
     "name": "stderr",
     "output_type": "stream",
     "text": [
      "  0%|          | 2/500 [00:00<00:27, 18.10it/s]"
     ]
    },
    {
     "name": "stdout",
     "output_type": "stream",
     "text": [
      "======epislon: 0.0005======\n"
     ]
    },
    {
     "name": "stderr",
     "output_type": "stream",
     "text": [
      "100%|██████████| 500/500 [00:19<00:00, 26.27it/s]\n",
      "  1%|          | 3/500 [00:00<00:18, 27.60it/s]"
     ]
    },
    {
     "name": "stdout",
     "output_type": "stream",
     "text": [
      "======epislon: 0.001======\n"
     ]
    },
    {
     "name": "stderr",
     "output_type": "stream",
     "text": [
      "100%|██████████| 500/500 [00:18<00:00, 26.56it/s]\n",
      "  1%|          | 3/500 [00:00<00:20, 23.86it/s]"
     ]
    },
    {
     "name": "stdout",
     "output_type": "stream",
     "text": [
      "======epislon: 0.005======\n"
     ]
    },
    {
     "name": "stderr",
     "output_type": "stream",
     "text": [
      "100%|██████████| 500/500 [00:18<00:00, 26.43it/s]\n",
      "  1%|          | 3/500 [00:00<00:17, 27.74it/s]"
     ]
    },
    {
     "name": "stdout",
     "output_type": "stream",
     "text": [
      "======epislon: 0.01======\n"
     ]
    },
    {
     "name": "stderr",
     "output_type": "stream",
     "text": [
      "100%|██████████| 500/500 [00:18<00:00, 26.68it/s]\n",
      "  1%|          | 3/500 [00:00<00:19, 25.02it/s]"
     ]
    },
    {
     "name": "stdout",
     "output_type": "stream",
     "text": [
      "======epislon: 0.05======\n"
     ]
    },
    {
     "name": "stderr",
     "output_type": "stream",
     "text": [
      "100%|██████████| 500/500 [00:18<00:00, 26.45it/s]\n",
      "  1%|          | 3/500 [00:00<00:18, 27.59it/s]"
     ]
    },
    {
     "name": "stdout",
     "output_type": "stream",
     "text": [
      "======epislon: 0.1======\n"
     ]
    },
    {
     "name": "stderr",
     "output_type": "stream",
     "text": [
      "100%|██████████| 500/500 [00:18<00:00, 26.43it/s]\n",
      "  1%|          | 3/500 [00:00<00:19, 25.17it/s]"
     ]
    },
    {
     "name": "stdout",
     "output_type": "stream",
     "text": [
      "======epislon: 0.5======\n"
     ]
    },
    {
     "name": "stderr",
     "output_type": "stream",
     "text": [
      "100%|██████████| 500/500 [00:18<00:00, 26.59it/s]\n",
      "  1%|          | 3/500 [00:00<00:17, 27.71it/s]"
     ]
    },
    {
     "name": "stdout",
     "output_type": "stream",
     "text": [
      "======epislon: 1======\n"
     ]
    },
    {
     "name": "stderr",
     "output_type": "stream",
     "text": [
      "100%|██████████| 500/500 [00:18<00:00, 26.44it/s]\n"
     ]
    }
   ],
   "source": [
    "SR_FGSM_dic_strong_defense,_=attack_runner(model_strong_defense,model_strong_defense,X_test[7000:7500], y_test[7000:7500], [0.0005,0.001,0.005,0.01,0.05,0.1,0.5,1])"
   ]
  },
  {
   "cell_type": "code",
   "execution_count": null,
   "metadata": {},
   "outputs": [
    {
     "name": "stderr",
     "output_type": "stream",
     "text": [
      "  0%|          | 2/500 [00:00<00:31, 15.90it/s]"
     ]
    },
    {
     "name": "stdout",
     "output_type": "stream",
     "text": [
      "======epislon: 0.0005======\n"
     ]
    },
    {
     "name": "stderr",
     "output_type": "stream",
     "text": [
      "100%|██████████| 500/500 [00:19<00:00, 26.06it/s]\n",
      "  1%|          | 3/500 [00:00<00:18, 27.58it/s]"
     ]
    },
    {
     "name": "stdout",
     "output_type": "stream",
     "text": [
      "======epislon: 0.001======\n"
     ]
    },
    {
     "name": "stderr",
     "output_type": "stream",
     "text": [
      "100%|██████████| 500/500 [00:20<00:00, 24.54it/s]\n",
      "  1%|          | 3/500 [00:00<00:23, 20.84it/s]"
     ]
    },
    {
     "name": "stdout",
     "output_type": "stream",
     "text": [
      "======epislon: 0.005======\n"
     ]
    },
    {
     "name": "stderr",
     "output_type": "stream",
     "text": [
      " 50%|█████     | 251/500 [00:10<00:09, 26.20it/s]"
     ]
    }
   ],
   "source": [
    "SR_FGSM_dic_average_defense,_=attack_runner(model_average_defense,model_average_defense,X_test[7000:7500], y_test[7000:7500], [0.0005,0.001,0.005,0.01,0.05,0.1,0.5,1])"
   ]
  },
  {
   "cell_type": "code",
   "execution_count": null,
   "metadata": {
    "scrolled": true
   },
   "outputs": [],
   "source": [
    "plt.plot(list(SR_FGSM_dic_with_defense.keys()),list(SR_FGSM_dic_with_defense.values()),label='c=0.5')\n",
    "plt.plot(list(SR_FGSM_dic_without_defense.keys()),list(SR_FGSM_dic_without_defense.values()),label='c=0')\n",
    "plt.plot(list(SR_FGSM_dic_slight_defense.keys()),list(SR_FGSM_dic_slight_defense.values()),label='c=0.25')\n",
    "plt.plot(list(SR_FGSM_dic_strong_defense.keys()),list(SR_FGSM_dic_strong_defense.values()),label='c=0.75')\n",
    "plt.plot(list(SR_FGSM_dic_average_defense.keys()),list(SR_FGSM_dic_average_defense.values()),label='c=0.6')\n",
    "plt.xscale('log')\n",
    "plt.grid(True,which=\"both\", linestyle='--')\n",
    "plt.title('Successs rate for different degrees of change \\n on Mnist images for the effnet model',fontsize=11)\n",
    "plt.xlabel('DOC (%)')\n",
    "plt.ylabel('SR')\n",
    "plt.legend(loc='upper left')"
   ]
  }
 ],
 "metadata": {
  "kernelspec": {
   "display_name": "Benchmark2",
   "language": "python",
   "name": "benchmark"
  },
  "language_info": {
   "codemirror_mode": {
    "name": "ipython",
    "version": 3
   },
   "file_extension": ".py",
   "mimetype": "text/x-python",
   "name": "python",
   "nbconvert_exporter": "python",
   "pygments_lexer": "ipython3",
   "version": "3.6.9"
  }
 },
 "nbformat": 4,
 "nbformat_minor": 2
}
