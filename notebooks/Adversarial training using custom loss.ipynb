{
 "cells": [
  {
   "cell_type": "markdown",
   "metadata": {},
   "source": [
    "#  Adversarial training using custom loss\n"
   ]
  },
  {
   "cell_type": "code",
   "execution_count": 2,
   "metadata": {},
   "outputs": [],
   "source": [
    "%load_ext autoreload\n",
    "%autoreload 2"
   ]
  },
  {
   "cell_type": "code",
   "execution_count": 3,
   "metadata": {},
   "outputs": [],
   "source": [
    "import os\n",
    "from os.path import join\n",
    "\n",
    "import time \n",
    "import numpy as np\n",
    "import pandas as pd\n",
    "import cv2\n",
    "import pickle\n",
    "from tqdm import tqdm\n",
    "from PIL import Image\n",
    "import matplotlib.pyplot as plt\n",
    "\n",
    "import tensorflow as tf\n",
    "import gc\n",
    "\n",
    "\n",
    "from tensorflow import convert_to_tensor\n",
    "import tensorflow.keras.backend as K\n",
    "from tensorflow.keras.models import  load_model,Model\n",
    "from tensorflow.keras import applications\n",
    "from tensorflow.keras.callbacks import ModelCheckpoint\n",
    "from tensorflow.keras.layers import Dropout, Activation, Dense, GlobalMaxPooling2D,Conv2D,Flatten,MaxPooling2D,InputLayer\n",
    "from tensorflow.keras.utils import to_categorical\n",
    "from tensorflow.keras.losses import Loss,CategoricalCrossentropy\n",
    "\n",
    "import copy\n",
    "\n",
    "from efficientnet.tfkeras import EfficientNetB7\n",
    "from tensorflow.keras import datasets\n",
    "from foolbox.attacks import LinfFastGradientAttack,LinfDeepFoolAttack\n",
    "from foolbox.distances import LpDistance\n",
    "from foolbox.models import TensorFlowModel\n",
    "from foolbox import criteria\n",
    "from sklearn.metrics import classification_report\n",
    "\n",
    "\n",
    "from art.attacks.evasion import SaliencyMapMethod\n",
    "from art.estimators.classification import TensorFlowV2Classifier\n",
    "from art.attacks.evasion import BoundaryAttack\n",
    "from art.utils import load_dataset #to play with cifar images\n",
    "\n",
    "\n",
    "gpus = tf.config.experimental.list_physical_devices('GPU')\n",
    "tf.config.experimental.set_virtual_device_configuration(\n",
    "    gpus[0],\n",
    "    [tf.config.experimental.VirtualDeviceConfiguration(memory_limit=4*1024)]\n",
    ")"
   ]
  },
  {
   "cell_type": "code",
   "execution_count": 4,
   "metadata": {},
   "outputs": [],
   "source": [
    "tf.config.run_functions_eagerly(False)"
   ]
  },
  {
   "cell_type": "code",
   "execution_count": 5,
   "metadata": {},
   "outputs": [],
   "source": [
    "tf.random.set_seed(0)"
   ]
  },
  {
   "cell_type": "markdown",
   "metadata": {},
   "source": [
    "#### 1. Load Data"
   ]
  },
  {
   "cell_type": "code",
   "execution_count": 6,
   "metadata": {},
   "outputs": [],
   "source": [
    "data_mnist=datasets.mnist.load_data(path='mnist.npz')\n",
    "X_train_mnist,y_train_mnist=data_mnist[0][0],data_mnist[0][1]\n",
    "X_test_mnist,y_test_mnist=data_mnist[1][0],data_mnist[1][1]\n",
    "y_train= to_categorical(y_train_mnist, 10)\n",
    "y_test= to_categorical(y_test_mnist, 10)\n",
    "\n",
    "\"\"\" Train \"\"\"\n",
    "X_train_img_mnist = np.full((60000, 32, 32, 3), 0)\n",
    "for i, s in enumerate(X_train_mnist):\n",
    "    X_train_img_mnist[i] = cv2.cvtColor(np.pad(s,2), cv2.COLOR_GRAY2RGB)\n",
    "    \n",
    "    \n",
    "    \n",
    "\"\"\" Test \"\"\"\n",
    "X_test_img_mnist = np.full((10000, 32, 32, 3), 0)\n",
    "for i, s in enumerate(X_test_mnist):\n",
    "    X_test_img_mnist[i] = cv2.cvtColor(np.pad(s,2), cv2.COLOR_GRAY2RGB)\n",
    "    \n",
    "X_train=X_train_img_mnist\n",
    "X_test= X_test_img_mnist"
   ]
  },
  {
   "cell_type": "code",
   "execution_count": 7,
   "metadata": {},
   "outputs": [],
   "source": [
    "data_set=tf.data.Dataset.from_tensor_slices((X_train,y_train)).shuffle(buffer_size=100000).batch(32)"
   ]
  },
  {
   "cell_type": "markdown",
   "metadata": {},
   "source": [
    "#### 2. Load models"
   ]
  },
  {
   "cell_type": "markdown",
   "metadata": {},
   "source": [
    "On défini une classe qui créé des modèles dont la fonction objectif est une combinaison de deux fonction objectifs. La première est une cross-entropie classique et la seconde est une cross-entropie adverse. C'est à dire une fonction qui vise à correctement classifier un exemple adverse "
   ]
  },
  {
   "cell_type": "markdown",
   "metadata": {},
   "source": [
    "$$J_{tot}(\\theta,x,y)=(1-c)J(\\theta,x,y)+cJ(\\theta,(x+{\\epsilon}sign(\\nabla_{x}J(\\theta,x,y)),y)$$ "
   ]
  },
  {
   "cell_type": "markdown",
   "metadata": {},
   "source": [
    "Pour cela nous avons du réécrire la fonction d'entrainement du modèle afin d'entrainer la bonne fonction objectif"
   ]
  },
  {
   "cell_type": "code",
   "execution_count": 8,
   "metadata": {},
   "outputs": [],
   "source": [
    "class Model(tf.keras.Model):\n",
    "    def __init__(self,c,learning_rate,epsilon):\n",
    "        super(Model,self).__init__()\n",
    "        \n",
    "        self.c=c\n",
    "        self.learning_rate=learning_rate\n",
    "        self.epsilon=epsilon\n",
    "        \n",
    "        self.model = tf.keras.models.Sequential()\n",
    "        self.model.add(Conv2D(64, (3, 3), activation='relu',input_shape=(32,32,3)))\n",
    "        self.model.add(MaxPooling2D(2, 2))\n",
    "        self.model.add(Flatten())\n",
    "        self.model.add(Dense(128, activation='relu'))\n",
    "        self.model.add(Dense(10, activation='softmax'))\n",
    "\n",
    "        self.loss = CategoricalCrossentropy()\n",
    "        self.optimizer = tf.keras.optimizers.SGD(self.learning_rate)        \n",
    "        \n",
    "   \n",
    "    @tf.function\n",
    "    def train_step(self,x,y):\n",
    "\n",
    "        with tf.GradientTape() as tape_w:  \n",
    "            \n",
    "            with tf.GradientTape() as tape_x:\n",
    "                tape_x.watch(x)\n",
    "                true_loss = self.loss(y, self.model(x))        \n",
    "            gradient = tape_x.gradient(true_loss, x)       \n",
    "            signed_grad = tf.sign(gradient)      \n",
    "            adv_loss= self.loss(y, self.model(x+self.epsilon*signed_grad))    \n",
    "       \n",
    "      # Combines both losses            \n",
    "            total_loss= (1-self.c)*true_loss + self.c*adv_loss\n",
    "            \n",
    "    # Regular backward pass.\n",
    "            gradients = tape_w.gradient(total_loss, self.model.trainable_variables)        \n",
    "            self.optimizer.apply_gradients(zip(gradients, self.model.trainable_variables))\n",
    "            \n",
    "       \n",
    "    def train(self,train_dataset, x_test,y_test,epochs):\n",
    "\n",
    "        pred=list(map(np.argmax,self.model.predict(x_test)))\n",
    "        true_values=list(map(np.argmax,y_test))\n",
    "        acc=np.sum([1 for i in range(len(pred)) if pred[i]==true_values[i]])/len(pred)         \n",
    "        print('Accuracy before training is {} '.format(acc))\n",
    "        print('-----------')\n",
    "\n",
    "        for epoch in range(epochs):\n",
    "            if epoch==8:\n",
    "                self.epsilon*=10\n",
    "            start = time.time()\n",
    "            for (x,y) in tqdm(train_dataset,position=0):\n",
    "                x=tf.cast(x,dtype='float32')           \n",
    "                self.train_step(x,y)           \n",
    "\n",
    "            pred=list(map(np.argmax,self.model.predict(x_test)))\n",
    "            true_values=list(map(np.argmax,y_test))\n",
    "            acc=np.sum([1 for i in range(len(pred)) if pred[i]==true_values[i]])/len(pred)         \n",
    "\n",
    "            print ('Time for epoch {} is {} sec'.format(epoch + 1, time.time()-start))\n",
    "            print('-----------')\n",
    "            print('Accuracy for epoch {} is {} '.format(epoch + 1, acc))        \n",
    "            \n",
    "       \n",
    "    def call(self, inputs):\n",
    "        x = self.model(inputs)\n",
    "        return x\n"
   ]
  },
  {
   "cell_type": "code",
   "execution_count": 9,
   "metadata": {},
   "outputs": [
    {
     "name": "stdout",
     "output_type": "stream",
     "text": [
      "======= c: 0======\n"
     ]
    },
    {
     "name": "stderr",
     "output_type": "stream",
     "text": [
      "\r",
      "  0%|          | 0/1875 [00:00<?, ?it/s]"
     ]
    },
    {
     "name": "stdout",
     "output_type": "stream",
     "text": [
      "Accuracy before training is 0.098 \n",
      "-----------\n"
     ]
    },
    {
     "name": "stderr",
     "output_type": "stream",
     "text": [
      "100%|██████████| 1875/1875 [00:10<00:00, 179.77it/s]\n",
      "  0%|          | 0/1875 [00:00<?, ?it/s]"
     ]
    },
    {
     "name": "stdout",
     "output_type": "stream",
     "text": [
      "Time for epoch 1 is 10.524632930755615 sec\n",
      "-----------\n",
      "Accuracy for epoch 1 is 0.97 \n"
     ]
    },
    {
     "name": "stderr",
     "output_type": "stream",
     "text": [
      "100%|██████████| 1875/1875 [00:09<00:00, 198.17it/s]\n",
      "  0%|          | 0/1875 [00:00<?, ?it/s]"
     ]
    },
    {
     "name": "stdout",
     "output_type": "stream",
     "text": [
      "Time for epoch 2 is 9.552254915237427 sec\n",
      "-----------\n",
      "Accuracy for epoch 2 is 0.978 \n"
     ]
    },
    {
     "name": "stderr",
     "output_type": "stream",
     "text": [
      "100%|██████████| 1875/1875 [00:09<00:00, 197.94it/s]\n",
      "  0%|          | 0/1875 [00:00<?, ?it/s]"
     ]
    },
    {
     "name": "stdout",
     "output_type": "stream",
     "text": [
      "Time for epoch 3 is 9.559949159622192 sec\n",
      "-----------\n",
      "Accuracy for epoch 3 is 0.981 \n"
     ]
    },
    {
     "name": "stderr",
     "output_type": "stream",
     "text": [
      "100%|██████████| 1875/1875 [00:09<00:00, 197.77it/s]\n",
      "  0%|          | 0/1875 [00:00<?, ?it/s]"
     ]
    },
    {
     "name": "stdout",
     "output_type": "stream",
     "text": [
      "Time for epoch 4 is 9.574963331222534 sec\n",
      "-----------\n",
      "Accuracy for epoch 4 is 0.984 \n"
     ]
    },
    {
     "name": "stderr",
     "output_type": "stream",
     "text": [
      "100%|██████████| 1875/1875 [00:09<00:00, 198.02it/s]\n",
      "  0%|          | 0/1875 [00:00<?, ?it/s]"
     ]
    },
    {
     "name": "stdout",
     "output_type": "stream",
     "text": [
      "Time for epoch 5 is 9.551565408706665 sec\n",
      "-----------\n",
      "Accuracy for epoch 5 is 0.981 \n",
      "======= c: 0.1======\n",
      "Accuracy before training is 0.064 \n",
      "-----------\n"
     ]
    },
    {
     "name": "stderr",
     "output_type": "stream",
     "text": [
      "100%|██████████| 1875/1875 [00:10<00:00, 186.32it/s]\n",
      "  0%|          | 0/1875 [00:00<?, ?it/s]"
     ]
    },
    {
     "name": "stdout",
     "output_type": "stream",
     "text": [
      "Time for epoch 1 is 10.155847311019897 sec\n",
      "-----------\n",
      "Accuracy for epoch 1 is 0.969 \n"
     ]
    },
    {
     "name": "stderr",
     "output_type": "stream",
     "text": [
      "100%|██████████| 1875/1875 [00:09<00:00, 195.86it/s]\n",
      "  0%|          | 0/1875 [00:00<?, ?it/s]"
     ]
    },
    {
     "name": "stdout",
     "output_type": "stream",
     "text": [
      "Time for epoch 2 is 9.665837526321411 sec\n",
      "-----------\n",
      "Accuracy for epoch 2 is 0.974 \n"
     ]
    },
    {
     "name": "stderr",
     "output_type": "stream",
     "text": [
      "100%|██████████| 1875/1875 [00:09<00:00, 196.75it/s]\n",
      "  0%|          | 0/1875 [00:00<?, ?it/s]"
     ]
    },
    {
     "name": "stdout",
     "output_type": "stream",
     "text": [
      "Time for epoch 3 is 9.626301288604736 sec\n",
      "-----------\n",
      "Accuracy for epoch 3 is 0.98 \n"
     ]
    },
    {
     "name": "stderr",
     "output_type": "stream",
     "text": [
      "100%|██████████| 1875/1875 [00:09<00:00, 197.17it/s]\n",
      "  0%|          | 0/1875 [00:00<?, ?it/s]"
     ]
    },
    {
     "name": "stdout",
     "output_type": "stream",
     "text": [
      "Time for epoch 4 is 9.601935863494873 sec\n",
      "-----------\n",
      "Accuracy for epoch 4 is 0.981 \n"
     ]
    },
    {
     "name": "stderr",
     "output_type": "stream",
     "text": [
      "100%|██████████| 1875/1875 [00:09<00:00, 195.42it/s]\n",
      "  0%|          | 0/1875 [00:00<?, ?it/s]"
     ]
    },
    {
     "name": "stdout",
     "output_type": "stream",
     "text": [
      "Time for epoch 5 is 9.683027744293213 sec\n",
      "-----------\n",
      "Accuracy for epoch 5 is 0.981 \n",
      "======= c: 0.3======\n",
      "Accuracy before training is 0.08 \n",
      "-----------\n"
     ]
    },
    {
     "name": "stderr",
     "output_type": "stream",
     "text": [
      "100%|██████████| 1875/1875 [00:09<00:00, 187.94it/s]\n",
      "  0%|          | 0/1875 [00:00<?, ?it/s]"
     ]
    },
    {
     "name": "stdout",
     "output_type": "stream",
     "text": [
      "Time for epoch 1 is 10.073676347732544 sec\n",
      "-----------\n",
      "Accuracy for epoch 1 is 0.956 \n"
     ]
    },
    {
     "name": "stderr",
     "output_type": "stream",
     "text": [
      "100%|██████████| 1875/1875 [00:09<00:00, 196.45it/s]\n",
      "  0%|          | 0/1875 [00:00<?, ?it/s]"
     ]
    },
    {
     "name": "stdout",
     "output_type": "stream",
     "text": [
      "Time for epoch 2 is 9.642724990844727 sec\n",
      "-----------\n",
      "Accuracy for epoch 2 is 0.969 \n"
     ]
    },
    {
     "name": "stderr",
     "output_type": "stream",
     "text": [
      "100%|██████████| 1875/1875 [00:09<00:00, 196.41it/s]\n",
      "  0%|          | 0/1875 [00:00<?, ?it/s]"
     ]
    },
    {
     "name": "stdout",
     "output_type": "stream",
     "text": [
      "Time for epoch 3 is 9.640886783599854 sec\n",
      "-----------\n",
      "Accuracy for epoch 3 is 0.975 \n"
     ]
    },
    {
     "name": "stderr",
     "output_type": "stream",
     "text": [
      "100%|██████████| 1875/1875 [00:09<00:00, 195.84it/s]\n",
      "  0%|          | 0/1875 [00:00<?, ?it/s]"
     ]
    },
    {
     "name": "stdout",
     "output_type": "stream",
     "text": [
      "Time for epoch 4 is 9.66250991821289 sec\n",
      "-----------\n",
      "Accuracy for epoch 4 is 0.974 \n"
     ]
    },
    {
     "name": "stderr",
     "output_type": "stream",
     "text": [
      "100%|██████████| 1875/1875 [00:09<00:00, 196.14it/s]\n",
      "  0%|          | 0/1875 [00:00<?, ?it/s]"
     ]
    },
    {
     "name": "stdout",
     "output_type": "stream",
     "text": [
      "Time for epoch 5 is 9.649956464767456 sec\n",
      "-----------\n",
      "Accuracy for epoch 5 is 0.972 \n",
      "======= c: 0.5======\n",
      "Accuracy before training is 0.114 \n",
      "-----------\n"
     ]
    },
    {
     "name": "stderr",
     "output_type": "stream",
     "text": [
      "100%|██████████| 1875/1875 [00:09<00:00, 188.04it/s]\n",
      "  0%|          | 0/1875 [00:00<?, ?it/s]"
     ]
    },
    {
     "name": "stdout",
     "output_type": "stream",
     "text": [
      "Time for epoch 1 is 10.067687273025513 sec\n",
      "-----------\n",
      "Accuracy for epoch 1 is 0.961 \n"
     ]
    },
    {
     "name": "stderr",
     "output_type": "stream",
     "text": [
      "100%|██████████| 1875/1875 [00:09<00:00, 194.88it/s]\n",
      "  0%|          | 0/1875 [00:00<?, ?it/s]"
     ]
    },
    {
     "name": "stdout",
     "output_type": "stream",
     "text": [
      "Time for epoch 2 is 9.716448545455933 sec\n",
      "-----------\n",
      "Accuracy for epoch 2 is 0.973 \n"
     ]
    },
    {
     "name": "stderr",
     "output_type": "stream",
     "text": [
      "100%|██████████| 1875/1875 [00:09<00:00, 196.59it/s]\n",
      "  0%|          | 0/1875 [00:00<?, ?it/s]"
     ]
    },
    {
     "name": "stdout",
     "output_type": "stream",
     "text": [
      "Time for epoch 3 is 9.632666110992432 sec\n",
      "-----------\n",
      "Accuracy for epoch 3 is 0.976 \n"
     ]
    },
    {
     "name": "stderr",
     "output_type": "stream",
     "text": [
      "100%|██████████| 1875/1875 [00:09<00:00, 194.91it/s]\n",
      "  0%|          | 0/1875 [00:00<?, ?it/s]"
     ]
    },
    {
     "name": "stdout",
     "output_type": "stream",
     "text": [
      "Time for epoch 4 is 9.717121839523315 sec\n",
      "-----------\n",
      "Accuracy for epoch 4 is 0.978 \n"
     ]
    },
    {
     "name": "stderr",
     "output_type": "stream",
     "text": [
      "100%|██████████| 1875/1875 [00:09<00:00, 195.07it/s]\n",
      "  0%|          | 0/1875 [00:00<?, ?it/s]"
     ]
    },
    {
     "name": "stdout",
     "output_type": "stream",
     "text": [
      "Time for epoch 5 is 9.706109523773193 sec\n",
      "-----------\n",
      "Accuracy for epoch 5 is 0.976 \n",
      "======= c: 0.7======\n",
      "Accuracy before training is 0.118 \n",
      "-----------\n"
     ]
    },
    {
     "name": "stderr",
     "output_type": "stream",
     "text": [
      "100%|██████████| 1875/1875 [00:10<00:00, 183.89it/s]\n",
      "  0%|          | 0/1875 [00:00<?, ?it/s]"
     ]
    },
    {
     "name": "stdout",
     "output_type": "stream",
     "text": [
      "Time for epoch 1 is 10.292566299438477 sec\n",
      "-----------\n",
      "Accuracy for epoch 1 is 0.95 \n"
     ]
    },
    {
     "name": "stderr",
     "output_type": "stream",
     "text": [
      "100%|██████████| 1875/1875 [00:09<00:00, 196.39it/s]\n",
      "  0%|          | 0/1875 [00:00<?, ?it/s]"
     ]
    },
    {
     "name": "stdout",
     "output_type": "stream",
     "text": [
      "Time for epoch 2 is 9.639262914657593 sec\n",
      "-----------\n",
      "Accuracy for epoch 2 is 0.967 \n"
     ]
    },
    {
     "name": "stderr",
     "output_type": "stream",
     "text": [
      "100%|██████████| 1875/1875 [00:09<00:00, 194.73it/s]\n",
      "  0%|          | 0/1875 [00:00<?, ?it/s]"
     ]
    },
    {
     "name": "stdout",
     "output_type": "stream",
     "text": [
      "Time for epoch 3 is 9.724120140075684 sec\n",
      "-----------\n",
      "Accuracy for epoch 3 is 0.968 \n"
     ]
    },
    {
     "name": "stderr",
     "output_type": "stream",
     "text": [
      "100%|██████████| 1875/1875 [00:09<00:00, 196.25it/s]\n",
      "  0%|          | 0/1875 [00:00<?, ?it/s]"
     ]
    },
    {
     "name": "stdout",
     "output_type": "stream",
     "text": [
      "Time for epoch 4 is 9.647113800048828 sec\n",
      "-----------\n",
      "Accuracy for epoch 4 is 0.969 \n"
     ]
    },
    {
     "name": "stderr",
     "output_type": "stream",
     "text": [
      "100%|██████████| 1875/1875 [00:09<00:00, 195.74it/s]\n",
      "  0%|          | 0/1875 [00:00<?, ?it/s]"
     ]
    },
    {
     "name": "stdout",
     "output_type": "stream",
     "text": [
      "Time for epoch 5 is 9.675909757614136 sec\n",
      "-----------\n",
      "Accuracy for epoch 5 is 0.978 \n",
      "======= c: 0.9======\n",
      "Accuracy before training is 0.12 \n",
      "-----------\n"
     ]
    },
    {
     "name": "stderr",
     "output_type": "stream",
     "text": [
      "100%|██████████| 1875/1875 [00:09<00:00, 187.78it/s]\n",
      "  0%|          | 0/1875 [00:00<?, ?it/s]"
     ]
    },
    {
     "name": "stdout",
     "output_type": "stream",
     "text": [
      "Time for epoch 1 is 10.081963777542114 sec\n",
      "-----------\n",
      "Accuracy for epoch 1 is 0.894 \n"
     ]
    },
    {
     "name": "stderr",
     "output_type": "stream",
     "text": [
      "100%|██████████| 1875/1875 [00:09<00:00, 196.71it/s]\n",
      "  0%|          | 0/1875 [00:00<?, ?it/s]"
     ]
    },
    {
     "name": "stdout",
     "output_type": "stream",
     "text": [
      "Time for epoch 2 is 9.625885486602783 sec\n",
      "-----------\n",
      "Accuracy for epoch 2 is 0.953 \n"
     ]
    },
    {
     "name": "stderr",
     "output_type": "stream",
     "text": [
      "100%|██████████| 1875/1875 [00:09<00:00, 198.21it/s]\n",
      "  0%|          | 0/1875 [00:00<?, ?it/s]"
     ]
    },
    {
     "name": "stdout",
     "output_type": "stream",
     "text": [
      "Time for epoch 3 is 9.547196388244629 sec\n",
      "-----------\n",
      "Accuracy for epoch 3 is 0.971 \n"
     ]
    },
    {
     "name": "stderr",
     "output_type": "stream",
     "text": [
      "100%|██████████| 1875/1875 [00:09<00:00, 195.40it/s]\n",
      "  0%|          | 0/1875 [00:00<?, ?it/s]"
     ]
    },
    {
     "name": "stdout",
     "output_type": "stream",
     "text": [
      "Time for epoch 4 is 9.692426919937134 sec\n",
      "-----------\n",
      "Accuracy for epoch 4 is 0.972 \n"
     ]
    },
    {
     "name": "stderr",
     "output_type": "stream",
     "text": [
      "100%|██████████| 1875/1875 [00:09<00:00, 196.14it/s]\n"
     ]
    },
    {
     "name": "stdout",
     "output_type": "stream",
     "text": [
      "Time for epoch 5 is 9.655645608901978 sec\n",
      "-----------\n",
      "Accuracy for epoch 5 is 0.974 \n"
     ]
    }
   ],
   "source": [
    "models_dict={}\n",
    "for c in [0,0.1,0.3,0.5,0.7,0.9]:\n",
    "    print(\"======= c: \"+str(c)+'======')\n",
    "    models_dict[c]=Model(c=c,learning_rate=0.001,epsilon=5)\n",
    "    models_dict[c].train(data_set, X_test[:1000],y_test[:1000], 5)\n",
    "    "
   ]
  },
  {
   "cell_type": "code",
   "execution_count": 10,
   "metadata": {},
   "outputs": [],
   "source": [
    "def DOC (x_adv_list,x_list):\n",
    "    N=len(x_adv_list)\n",
    "    sum=0\n",
    "    for i in range (N):        \n",
    "        sum+=100*np.linalg.norm(np.reshape(x_adv_list[i] - x_list[i], -1),ord=1)/np.linalg.norm(np.reshape(x_list[i], -1),ord=1)\n",
    "    return(sum/N)\n",
    "\n",
    "def succes_rate (success_list):\n",
    "    success=len([i for i in success_list if i==True])\n",
    "    total=len(success_list)\n",
    "    return(success/total)"
   ]
  },
  {
   "cell_type": "markdown",
   "metadata": {},
   "source": [
    "Test de la resistance du modèle "
   ]
  },
  {
   "cell_type": "code",
   "execution_count": 11,
   "metadata": {},
   "outputs": [],
   "source": [
    "def attack_performances_computer(model_to_attack,predicting_model,attack, image_list, labels,epsilon):\n",
    "    model_to_attack=TensorFlowModel(model_to_attack , bounds=(0, 255))\n",
    "   \n",
    "    success_on_attacked_model=[]\n",
    "    success_on_predicting_model=[]\n",
    "    adv_list=[]\n",
    "    for i,image in enumerate(tqdm(image_list,position=0)):\n",
    "        image = np.asarray(image)[:\n",
    "                                  ,:,:3].astype('float32')\n",
    "        image = convert_to_tensor(np.expand_dims(image,axis=0))\n",
    "        label=labels[i]\n",
    "        label = tf.convert_to_tensor(np.array([label]))\n",
    "        _, clipped, is_adv = attack(model_to_attack,image,label,epsilons=[epsilon])\n",
    "        success_on_attacked_model.append(bool(is_adv[0]))\n",
    "        adv_list.append(np.array(clipped[0]))\n",
    "        prediction=predicting_model.predict(np.expand_dims(clipped[0][0],axis=0))\n",
    "        if np.argmax(prediction)!=labels[i]:\n",
    "            success_on_predicting_model.append(True)\n",
    "        else:\n",
    "            success_on_predicting_model.append(False)\n",
    "            \n",
    "        \n",
    "    DOC_attack=DOC(adv_list,image_list)\n",
    "    SR_on_attacked_model=succes_rate(success_on_attacked_model)\n",
    "    SR_on_predicting_model=succes_rate(success_on_predicting_model)\n",
    "    return(DOC_attack,SR_on_attacked_model,SR_on_predicting_model)\n"
   ]
  },
  {
   "cell_type": "code",
   "execution_count": 12,
   "metadata": {},
   "outputs": [],
   "source": [
    "def attack_runner(model_to_attack,predicting_model,image_list, labels_list, epislons_list):   \n",
    "    labels_list=list(map(np.argmax,labels_list))\n",
    "    \n",
    "    attack_FGSM=LinfFastGradientAttack()\n",
    "    \n",
    "   \n",
    "\n",
    "    SR_FGSM_dic={}  \n",
    "    SR_FGSM_dic_with_defense={}\n",
    "\n",
    "\n",
    "    for epsilon in epislons_list:\n",
    "        print('======'+'epislon: '+str(epsilon)+'======')\n",
    "        DOC_FGSM,SR_FGSM,SR_FGSM_with_defense=attack_performances_computer(model_to_attack,predicting_model,attack_FGSM, image_list, labels_list,epsilon)\n",
    "              \n",
    "        SR_FGSM_dic[DOC_FGSM]=SR_FGSM\n",
    "        SR_FGSM_dic_with_defense[DOC_FGSM]=SR_FGSM_with_defense\n",
    "        \n",
    "    return(SR_FGSM_dic,SR_FGSM_dic_with_defense)"
   ]
  },
  {
   "cell_type": "code",
   "execution_count": 13,
   "metadata": {},
   "outputs": [
    {
     "name": "stdout",
     "output_type": "stream",
     "text": [
      "======= c: 0======\n",
      "======epislon: 0.1======\n",
      "WARNING:tensorflow:From /home/timotheerio/benchmark-adversarial-attacks/venv/lib/python3.6/site-packages/foolbox/models/tensorflow.py:13: is_gpu_available (from tensorflow.python.framework.test_util) is deprecated and will be removed in a future version.\n",
      "Instructions for updating:\n",
      "Use `tf.config.list_physical_devices('GPU')` instead.\n"
     ]
    },
    {
     "name": "stderr",
     "output_type": "stream",
     "text": [
      "100%|██████████| 100/100 [00:03<00:00, 28.78it/s]\n",
      "  4%|▍         | 4/100 [00:00<00:03, 30.91it/s]"
     ]
    },
    {
     "name": "stdout",
     "output_type": "stream",
     "text": [
      "======epislon: 0.5======\n"
     ]
    },
    {
     "name": "stderr",
     "output_type": "stream",
     "text": [
      "100%|██████████| 100/100 [00:03<00:00, 30.07it/s]\n",
      "  4%|▍         | 4/100 [00:00<00:03, 29.90it/s]"
     ]
    },
    {
     "name": "stdout",
     "output_type": "stream",
     "text": [
      "======epislon: 1======\n"
     ]
    },
    {
     "name": "stderr",
     "output_type": "stream",
     "text": [
      "100%|██████████| 100/100 [00:03<00:00, 30.29it/s]\n",
      "  3%|▎         | 3/100 [00:00<00:03, 26.12it/s]"
     ]
    },
    {
     "name": "stdout",
     "output_type": "stream",
     "text": [
      "======epislon: 5======\n"
     ]
    },
    {
     "name": "stderr",
     "output_type": "stream",
     "text": [
      "100%|██████████| 100/100 [00:03<00:00, 29.95it/s]\n",
      "  3%|▎         | 3/100 [00:00<00:03, 27.69it/s]"
     ]
    },
    {
     "name": "stdout",
     "output_type": "stream",
     "text": [
      "======epislon: 7======\n"
     ]
    },
    {
     "name": "stderr",
     "output_type": "stream",
     "text": [
      "100%|██████████| 100/100 [00:03<00:00, 30.10it/s]\n",
      "  3%|▎         | 3/100 [00:00<00:03, 27.99it/s]"
     ]
    },
    {
     "name": "stdout",
     "output_type": "stream",
     "text": [
      "======epislon: 10======\n"
     ]
    },
    {
     "name": "stderr",
     "output_type": "stream",
     "text": [
      "100%|██████████| 100/100 [00:03<00:00, 28.90it/s]\n",
      "  3%|▎         | 3/100 [00:00<00:03, 26.66it/s]"
     ]
    },
    {
     "name": "stdout",
     "output_type": "stream",
     "text": [
      "======epislon: 15======\n"
     ]
    },
    {
     "name": "stderr",
     "output_type": "stream",
     "text": [
      "100%|██████████| 100/100 [00:03<00:00, 28.94it/s]\n",
      "  4%|▍         | 4/100 [00:00<00:03, 30.52it/s]"
     ]
    },
    {
     "name": "stdout",
     "output_type": "stream",
     "text": [
      "======epislon: 20======\n"
     ]
    },
    {
     "name": "stderr",
     "output_type": "stream",
     "text": [
      "100%|██████████| 100/100 [00:03<00:00, 29.27it/s]\n",
      "  4%|▍         | 4/100 [00:00<00:03, 30.32it/s]"
     ]
    },
    {
     "name": "stdout",
     "output_type": "stream",
     "text": [
      "======epislon: 30======\n"
     ]
    },
    {
     "name": "stderr",
     "output_type": "stream",
     "text": [
      "100%|██████████| 100/100 [00:03<00:00, 29.03it/s]\n",
      "  3%|▎         | 3/100 [00:00<00:03, 29.99it/s]"
     ]
    },
    {
     "name": "stdout",
     "output_type": "stream",
     "text": [
      "======epislon: 50======\n"
     ]
    },
    {
     "name": "stderr",
     "output_type": "stream",
     "text": [
      "100%|██████████| 100/100 [00:03<00:00, 28.67it/s]\n",
      "  3%|▎         | 3/100 [00:00<00:04, 23.81it/s]"
     ]
    },
    {
     "name": "stdout",
     "output_type": "stream",
     "text": [
      "======= c: 0.1======\n",
      "======epislon: 0.1======\n"
     ]
    },
    {
     "name": "stderr",
     "output_type": "stream",
     "text": [
      "100%|██████████| 100/100 [00:03<00:00, 28.70it/s]\n",
      "  4%|▍         | 4/100 [00:00<00:03, 29.45it/s]"
     ]
    },
    {
     "name": "stdout",
     "output_type": "stream",
     "text": [
      "======epislon: 0.5======\n"
     ]
    },
    {
     "name": "stderr",
     "output_type": "stream",
     "text": [
      "100%|██████████| 100/100 [00:03<00:00, 29.48it/s]\n",
      "  3%|▎         | 3/100 [00:00<00:03, 28.39it/s]"
     ]
    },
    {
     "name": "stdout",
     "output_type": "stream",
     "text": [
      "======epislon: 1======\n"
     ]
    },
    {
     "name": "stderr",
     "output_type": "stream",
     "text": [
      "100%|██████████| 100/100 [00:03<00:00, 29.78it/s]\n",
      "  3%|▎         | 3/100 [00:00<00:03, 29.37it/s]"
     ]
    },
    {
     "name": "stdout",
     "output_type": "stream",
     "text": [
      "======epislon: 5======\n"
     ]
    },
    {
     "name": "stderr",
     "output_type": "stream",
     "text": [
      "100%|██████████| 100/100 [00:03<00:00, 30.25it/s]\n",
      "  3%|▎         | 3/100 [00:00<00:03, 29.38it/s]"
     ]
    },
    {
     "name": "stdout",
     "output_type": "stream",
     "text": [
      "======epislon: 7======\n"
     ]
    },
    {
     "name": "stderr",
     "output_type": "stream",
     "text": [
      "100%|██████████| 100/100 [00:03<00:00, 30.31it/s]\n",
      "  4%|▍         | 4/100 [00:00<00:03, 31.64it/s]"
     ]
    },
    {
     "name": "stdout",
     "output_type": "stream",
     "text": [
      "======epislon: 10======\n"
     ]
    },
    {
     "name": "stderr",
     "output_type": "stream",
     "text": [
      "100%|██████████| 100/100 [00:03<00:00, 27.85it/s]\n",
      "  3%|▎         | 3/100 [00:00<00:03, 29.98it/s]"
     ]
    },
    {
     "name": "stdout",
     "output_type": "stream",
     "text": [
      "======epislon: 15======\n"
     ]
    },
    {
     "name": "stderr",
     "output_type": "stream",
     "text": [
      "100%|██████████| 100/100 [00:03<00:00, 29.14it/s]\n",
      "  4%|▍         | 4/100 [00:00<00:03, 30.34it/s]"
     ]
    },
    {
     "name": "stdout",
     "output_type": "stream",
     "text": [
      "======epislon: 20======\n"
     ]
    },
    {
     "name": "stderr",
     "output_type": "stream",
     "text": [
      "100%|██████████| 100/100 [00:03<00:00, 28.86it/s]\n",
      "  4%|▍         | 4/100 [00:00<00:03, 30.81it/s]"
     ]
    },
    {
     "name": "stdout",
     "output_type": "stream",
     "text": [
      "======epislon: 30======\n"
     ]
    },
    {
     "name": "stderr",
     "output_type": "stream",
     "text": [
      "100%|██████████| 100/100 [00:03<00:00, 28.92it/s]\n",
      "  4%|▍         | 4/100 [00:00<00:03, 30.90it/s]"
     ]
    },
    {
     "name": "stdout",
     "output_type": "stream",
     "text": [
      "======epislon: 50======\n"
     ]
    },
    {
     "name": "stderr",
     "output_type": "stream",
     "text": [
      "100%|██████████| 100/100 [00:03<00:00, 29.50it/s]\n",
      "  3%|▎         | 3/100 [00:00<00:04, 23.69it/s]"
     ]
    },
    {
     "name": "stdout",
     "output_type": "stream",
     "text": [
      "======= c: 0.3======\n",
      "======epislon: 0.1======\n"
     ]
    },
    {
     "name": "stderr",
     "output_type": "stream",
     "text": [
      "100%|██████████| 100/100 [00:03<00:00, 29.45it/s]\n",
      "  3%|▎         | 3/100 [00:00<00:03, 28.99it/s]"
     ]
    },
    {
     "name": "stdout",
     "output_type": "stream",
     "text": [
      "======epislon: 0.5======\n"
     ]
    },
    {
     "name": "stderr",
     "output_type": "stream",
     "text": [
      "100%|██████████| 100/100 [00:03<00:00, 29.34it/s]\n",
      "  3%|▎         | 3/100 [00:00<00:03, 29.05it/s]"
     ]
    },
    {
     "name": "stdout",
     "output_type": "stream",
     "text": [
      "======epislon: 1======\n"
     ]
    },
    {
     "name": "stderr",
     "output_type": "stream",
     "text": [
      "100%|██████████| 100/100 [00:03<00:00, 30.08it/s]\n",
      "  3%|▎         | 3/100 [00:00<00:03, 29.32it/s]"
     ]
    },
    {
     "name": "stdout",
     "output_type": "stream",
     "text": [
      "======epislon: 5======\n"
     ]
    },
    {
     "name": "stderr",
     "output_type": "stream",
     "text": [
      "100%|██████████| 100/100 [00:03<00:00, 30.65it/s]\n",
      "  4%|▍         | 4/100 [00:00<00:03, 31.54it/s]"
     ]
    },
    {
     "name": "stdout",
     "output_type": "stream",
     "text": [
      "======epislon: 7======\n"
     ]
    },
    {
     "name": "stderr",
     "output_type": "stream",
     "text": [
      "100%|██████████| 100/100 [00:03<00:00, 30.39it/s]\n",
      "  4%|▍         | 4/100 [00:00<00:03, 31.84it/s]"
     ]
    },
    {
     "name": "stdout",
     "output_type": "stream",
     "text": [
      "======epislon: 10======\n"
     ]
    },
    {
     "name": "stderr",
     "output_type": "stream",
     "text": [
      "100%|██████████| 100/100 [00:03<00:00, 28.09it/s]\n",
      "  4%|▍         | 4/100 [00:00<00:03, 30.50it/s]"
     ]
    },
    {
     "name": "stdout",
     "output_type": "stream",
     "text": [
      "======epislon: 15======\n"
     ]
    },
    {
     "name": "stderr",
     "output_type": "stream",
     "text": [
      "100%|██████████| 100/100 [00:03<00:00, 29.09it/s]\n",
      "  4%|▍         | 4/100 [00:00<00:03, 30.49it/s]"
     ]
    },
    {
     "name": "stdout",
     "output_type": "stream",
     "text": [
      "======epislon: 20======\n"
     ]
    },
    {
     "name": "stderr",
     "output_type": "stream",
     "text": [
      "100%|██████████| 100/100 [00:03<00:00, 29.14it/s]\n",
      "  4%|▍         | 4/100 [00:00<00:03, 29.37it/s]"
     ]
    },
    {
     "name": "stdout",
     "output_type": "stream",
     "text": [
      "======epislon: 30======\n"
     ]
    },
    {
     "name": "stderr",
     "output_type": "stream",
     "text": [
      "100%|██████████| 100/100 [00:03<00:00, 28.58it/s]\n",
      "  3%|▎         | 3/100 [00:00<00:03, 28.44it/s]"
     ]
    },
    {
     "name": "stdout",
     "output_type": "stream",
     "text": [
      "======epislon: 50======\n"
     ]
    },
    {
     "name": "stderr",
     "output_type": "stream",
     "text": [
      "100%|██████████| 100/100 [00:03<00:00, 28.71it/s]\n",
      "  3%|▎         | 3/100 [00:00<00:04, 22.33it/s]"
     ]
    },
    {
     "name": "stdout",
     "output_type": "stream",
     "text": [
      "======= c: 0.5======\n",
      "======epislon: 0.1======\n"
     ]
    },
    {
     "name": "stderr",
     "output_type": "stream",
     "text": [
      "100%|██████████| 100/100 [00:03<00:00, 29.36it/s]\n",
      "  3%|▎         | 3/100 [00:00<00:04, 23.83it/s]"
     ]
    },
    {
     "name": "stdout",
     "output_type": "stream",
     "text": [
      "======epislon: 0.5======\n"
     ]
    },
    {
     "name": "stderr",
     "output_type": "stream",
     "text": [
      "100%|██████████| 100/100 [00:03<00:00, 29.60it/s]\n",
      "  3%|▎         | 3/100 [00:00<00:03, 29.24it/s]"
     ]
    },
    {
     "name": "stdout",
     "output_type": "stream",
     "text": [
      "======epislon: 1======\n"
     ]
    },
    {
     "name": "stderr",
     "output_type": "stream",
     "text": [
      "100%|██████████| 100/100 [00:03<00:00, 30.26it/s]\n",
      "  4%|▍         | 4/100 [00:00<00:03, 31.31it/s]"
     ]
    },
    {
     "name": "stdout",
     "output_type": "stream",
     "text": [
      "======epislon: 5======\n"
     ]
    },
    {
     "name": "stderr",
     "output_type": "stream",
     "text": [
      "100%|██████████| 100/100 [00:03<00:00, 29.92it/s]\n",
      "  4%|▍         | 4/100 [00:00<00:03, 31.54it/s]"
     ]
    },
    {
     "name": "stdout",
     "output_type": "stream",
     "text": [
      "======epislon: 7======\n"
     ]
    },
    {
     "name": "stderr",
     "output_type": "stream",
     "text": [
      "100%|██████████| 100/100 [00:03<00:00, 29.33it/s]\n",
      "  4%|▍         | 4/100 [00:00<00:03, 30.46it/s]"
     ]
    },
    {
     "name": "stdout",
     "output_type": "stream",
     "text": [
      "======epislon: 10======\n"
     ]
    },
    {
     "name": "stderr",
     "output_type": "stream",
     "text": [
      "100%|██████████| 100/100 [00:03<00:00, 29.04it/s]\n",
      "  3%|▎         | 3/100 [00:00<00:03, 28.13it/s]"
     ]
    },
    {
     "name": "stdout",
     "output_type": "stream",
     "text": [
      "======epislon: 15======\n"
     ]
    },
    {
     "name": "stderr",
     "output_type": "stream",
     "text": [
      "100%|██████████| 100/100 [00:03<00:00, 29.44it/s]\n",
      "  3%|▎         | 3/100 [00:00<00:03, 25.62it/s]"
     ]
    },
    {
     "name": "stdout",
     "output_type": "stream",
     "text": [
      "======epislon: 20======\n"
     ]
    },
    {
     "name": "stderr",
     "output_type": "stream",
     "text": [
      "100%|██████████| 100/100 [00:03<00:00, 28.45it/s]\n",
      "  3%|▎         | 3/100 [00:00<00:03, 28.48it/s]"
     ]
    },
    {
     "name": "stdout",
     "output_type": "stream",
     "text": [
      "======epislon: 30======\n"
     ]
    },
    {
     "name": "stderr",
     "output_type": "stream",
     "text": [
      "100%|██████████| 100/100 [00:03<00:00, 29.03it/s]\n",
      "  4%|▍         | 4/100 [00:00<00:03, 28.74it/s]"
     ]
    },
    {
     "name": "stdout",
     "output_type": "stream",
     "text": [
      "======epislon: 50======\n"
     ]
    },
    {
     "name": "stderr",
     "output_type": "stream",
     "text": [
      "100%|██████████| 100/100 [00:03<00:00, 29.20it/s]\n",
      "  2%|▏         | 2/100 [00:00<00:04, 19.76it/s]"
     ]
    },
    {
     "name": "stdout",
     "output_type": "stream",
     "text": [
      "======= c: 0.7======\n",
      "======epislon: 0.1======\n"
     ]
    },
    {
     "name": "stderr",
     "output_type": "stream",
     "text": [
      "100%|██████████| 100/100 [00:03<00:00, 29.66it/s]\n",
      "  3%|▎         | 3/100 [00:00<00:03, 29.11it/s]"
     ]
    },
    {
     "name": "stdout",
     "output_type": "stream",
     "text": [
      "======epislon: 0.5======\n"
     ]
    },
    {
     "name": "stderr",
     "output_type": "stream",
     "text": [
      "100%|██████████| 100/100 [00:03<00:00, 29.94it/s]\n",
      "  4%|▍         | 4/100 [00:00<00:03, 30.97it/s]"
     ]
    },
    {
     "name": "stdout",
     "output_type": "stream",
     "text": [
      "======epislon: 1======\n"
     ]
    },
    {
     "name": "stderr",
     "output_type": "stream",
     "text": [
      "100%|██████████| 100/100 [00:03<00:00, 30.51it/s]\n",
      "  4%|▍         | 4/100 [00:00<00:03, 31.48it/s]"
     ]
    },
    {
     "name": "stdout",
     "output_type": "stream",
     "text": [
      "======epislon: 5======\n"
     ]
    },
    {
     "name": "stderr",
     "output_type": "stream",
     "text": [
      "100%|██████████| 100/100 [00:03<00:00, 30.58it/s]\n",
      "  4%|▍         | 4/100 [00:00<00:03, 31.78it/s]"
     ]
    },
    {
     "name": "stdout",
     "output_type": "stream",
     "text": [
      "======epislon: 7======\n"
     ]
    },
    {
     "name": "stderr",
     "output_type": "stream",
     "text": [
      "100%|██████████| 100/100 [00:03<00:00, 29.06it/s]\n",
      "  4%|▍         | 4/100 [00:00<00:03, 30.93it/s]"
     ]
    },
    {
     "name": "stdout",
     "output_type": "stream",
     "text": [
      "======epislon: 10======\n"
     ]
    },
    {
     "name": "stderr",
     "output_type": "stream",
     "text": [
      "100%|██████████| 100/100 [00:03<00:00, 29.40it/s]\n",
      "  4%|▍         | 4/100 [00:00<00:03, 30.86it/s]"
     ]
    },
    {
     "name": "stdout",
     "output_type": "stream",
     "text": [
      "======epislon: 15======\n"
     ]
    },
    {
     "name": "stderr",
     "output_type": "stream",
     "text": [
      "100%|██████████| 100/100 [00:03<00:00, 28.88it/s]\n",
      "  4%|▍         | 4/100 [00:00<00:03, 29.32it/s]"
     ]
    },
    {
     "name": "stdout",
     "output_type": "stream",
     "text": [
      "======epislon: 20======\n"
     ]
    },
    {
     "name": "stderr",
     "output_type": "stream",
     "text": [
      "100%|██████████| 100/100 [00:03<00:00, 29.20it/s]\n",
      "  3%|▎         | 3/100 [00:00<00:03, 28.82it/s]"
     ]
    },
    {
     "name": "stdout",
     "output_type": "stream",
     "text": [
      "======epislon: 30======\n"
     ]
    },
    {
     "name": "stderr",
     "output_type": "stream",
     "text": [
      "100%|██████████| 100/100 [00:03<00:00, 28.91it/s]\n",
      "  3%|▎         | 3/100 [00:00<00:03, 28.41it/s]"
     ]
    },
    {
     "name": "stdout",
     "output_type": "stream",
     "text": [
      "======epislon: 50======\n"
     ]
    },
    {
     "name": "stderr",
     "output_type": "stream",
     "text": [
      "100%|██████████| 100/100 [00:03<00:00, 29.17it/s]\n",
      "  2%|▏         | 2/100 [00:00<00:05, 18.16it/s]"
     ]
    },
    {
     "name": "stdout",
     "output_type": "stream",
     "text": [
      "======= c: 0.9======\n",
      "======epislon: 0.1======\n"
     ]
    },
    {
     "name": "stderr",
     "output_type": "stream",
     "text": [
      "100%|██████████| 100/100 [00:03<00:00, 29.28it/s]\n",
      "  4%|▍         | 4/100 [00:00<00:03, 31.35it/s]"
     ]
    },
    {
     "name": "stdout",
     "output_type": "stream",
     "text": [
      "======epislon: 0.5======\n"
     ]
    },
    {
     "name": "stderr",
     "output_type": "stream",
     "text": [
      "100%|██████████| 100/100 [00:03<00:00, 30.18it/s]\n",
      "  3%|▎         | 3/100 [00:00<00:03, 29.58it/s]"
     ]
    },
    {
     "name": "stdout",
     "output_type": "stream",
     "text": [
      "======epislon: 1======\n"
     ]
    },
    {
     "name": "stderr",
     "output_type": "stream",
     "text": [
      "100%|██████████| 100/100 [00:03<00:00, 30.45it/s]\n",
      "  4%|▍         | 4/100 [00:00<00:03, 31.30it/s]"
     ]
    },
    {
     "name": "stdout",
     "output_type": "stream",
     "text": [
      "======epislon: 5======\n"
     ]
    },
    {
     "name": "stderr",
     "output_type": "stream",
     "text": [
      "100%|██████████| 100/100 [00:03<00:00, 30.73it/s]\n",
      "  4%|▍         | 4/100 [00:00<00:03, 31.46it/s]"
     ]
    },
    {
     "name": "stdout",
     "output_type": "stream",
     "text": [
      "======epislon: 7======\n"
     ]
    },
    {
     "name": "stderr",
     "output_type": "stream",
     "text": [
      "100%|██████████| 100/100 [00:03<00:00, 28.82it/s]\n",
      "  4%|▍         | 4/100 [00:00<00:03, 30.98it/s]"
     ]
    },
    {
     "name": "stdout",
     "output_type": "stream",
     "text": [
      "======epislon: 10======\n"
     ]
    },
    {
     "name": "stderr",
     "output_type": "stream",
     "text": [
      "100%|██████████| 100/100 [00:03<00:00, 29.38it/s]\n",
      "  3%|▎         | 3/100 [00:00<00:03, 28.20it/s]"
     ]
    },
    {
     "name": "stdout",
     "output_type": "stream",
     "text": [
      "======epislon: 15======\n"
     ]
    },
    {
     "name": "stderr",
     "output_type": "stream",
     "text": [
      "100%|██████████| 100/100 [00:03<00:00, 29.17it/s]\n",
      "  4%|▍         | 4/100 [00:00<00:03, 28.84it/s]"
     ]
    },
    {
     "name": "stdout",
     "output_type": "stream",
     "text": [
      "======epislon: 20======\n"
     ]
    },
    {
     "name": "stderr",
     "output_type": "stream",
     "text": [
      "100%|██████████| 100/100 [00:03<00:00, 29.34it/s]\n",
      "  3%|▎         | 3/100 [00:00<00:03, 28.31it/s]"
     ]
    },
    {
     "name": "stdout",
     "output_type": "stream",
     "text": [
      "======epislon: 30======\n"
     ]
    },
    {
     "name": "stderr",
     "output_type": "stream",
     "text": [
      "100%|██████████| 100/100 [00:03<00:00, 29.22it/s]\n",
      "  3%|▎         | 3/100 [00:00<00:03, 28.14it/s]"
     ]
    },
    {
     "name": "stdout",
     "output_type": "stream",
     "text": [
      "======epislon: 50======\n"
     ]
    },
    {
     "name": "stderr",
     "output_type": "stream",
     "text": [
      "100%|██████████| 100/100 [00:03<00:00, 29.29it/s]\n"
     ]
    }
   ],
   "source": [
    "plots={}\n",
    "epsilons=[0.1,0.5,1,5,7,10,15,20,30,50]\n",
    "X=X_test[7000:7100]\n",
    "y=y_test[7000:7100]\n",
    "for c,model in models_dict.items():\n",
    "    print(\"======= c: \"+str(c)+'======')\n",
    "    plots[c],_=attack_runner(model,model,X, y, epsilons)\n",
    "    "
   ]
  },
  {
   "cell_type": "code",
   "execution_count": 14,
   "metadata": {
    "scrolled": true
   },
   "outputs": [
    {
     "data": {
      "text/plain": [
       "<matplotlib.legend.Legend at 0x7fae48397160>"
      ]
     },
     "execution_count": 14,
     "metadata": {},
     "output_type": "execute_result"
    },
    {
     "data": {
      "image/png": "[encoded data removed]",
      "text/plain": [
       "<Figure size 432x288 with 1 Axes>"
      ]
     },
     "metadata": {
      "needs_background": "light"
     },
     "output_type": "display_data"
    }
   ],
   "source": [
    "for c,plot in plots.items():\n",
    "    plt.plot(list(plot.keys()),list(plot.values()),label='c='+str(c))\n",
    "plt.grid(True,which=\"both\", linestyle='--')\n",
    "plt.title('Successs rate for different degrees of change \\n on Mnist images',fontsize=11)\n",
    "plt.xlabel('DOC (%)')\n",
    "plt.ylabel('SR')\n",
    "plt.legend(loc='upper left')"
   ]
  },
  {
   "cell_type": "markdown",
   "metadata": {},
   "source": [
    "Clearly the adversarial training has decreased the efficiency of the attacks so it is truly beneficial. It seems that the higher c is and the better the protection"
   ]
  },
  {
   "cell_type": "markdown",
   "metadata": {},
   "source": [
    "### Softmax probabilities visualizations"
   ]
  },
  {
   "cell_type": "markdown",
   "metadata": {},
   "source": [
    "At first let's create some adversarial examples that will fool the most basic model"
   ]
  },
  {
   "cell_type": "code",
   "execution_count": 15,
   "metadata": {},
   "outputs": [
    {
     "ename": "NameError",
     "evalue": "name 'model_naif' is not defined",
     "output_type": "error",
     "traceback": [
      "\u001b[0;31m---------------------------------------------------------------------------\u001b[0m",
      "\u001b[0;31mNameError\u001b[0m                                 Traceback (most recent call last)",
      "\u001b[0;32m<ipython-input-15-4da83942e747>\u001b[0m in \u001b[0;36m<module>\u001b[0;34m\u001b[0m\n\u001b[0;32m----> 1\u001b[0;31m \u001b[0mmodel_to_attack\u001b[0m\u001b[0;34m=\u001b[0m\u001b[0mTensorFlowModel\u001b[0m\u001b[0;34m(\u001b[0m\u001b[0mmodel_naif\u001b[0m \u001b[0;34m,\u001b[0m \u001b[0mbounds\u001b[0m\u001b[0;34m=\u001b[0m\u001b[0;34m(\u001b[0m\u001b[0;36m0\u001b[0m\u001b[0;34m,\u001b[0m \u001b[0;36m255\u001b[0m\u001b[0;34m)\u001b[0m\u001b[0;34m)\u001b[0m\u001b[0;34m\u001b[0m\u001b[0;34m\u001b[0m\u001b[0m\n\u001b[0m\u001b[1;32m      2\u001b[0m \u001b[0mattack\u001b[0m\u001b[0;34m=\u001b[0m\u001b[0mLinfFastGradientAttack\u001b[0m\u001b[0;34m(\u001b[0m\u001b[0;34m)\u001b[0m\u001b[0;34m\u001b[0m\u001b[0;34m\u001b[0m\u001b[0m\n\u001b[1;32m      3\u001b[0m \u001b[0mimage_list\u001b[0m\u001b[0;34m=\u001b[0m\u001b[0mX_test\u001b[0m\u001b[0;34m[\u001b[0m\u001b[0;34m:\u001b[0m\u001b[0;36m100\u001b[0m\u001b[0;34m]\u001b[0m\u001b[0;34m\u001b[0m\u001b[0;34m\u001b[0m\u001b[0m\n\u001b[1;32m      4\u001b[0m \u001b[0mlabels\u001b[0m\u001b[0;34m=\u001b[0m\u001b[0mlist\u001b[0m\u001b[0;34m(\u001b[0m\u001b[0mmap\u001b[0m\u001b[0;34m(\u001b[0m\u001b[0mnp\u001b[0m\u001b[0;34m.\u001b[0m\u001b[0margmax\u001b[0m\u001b[0;34m,\u001b[0m\u001b[0my_test\u001b[0m\u001b[0;34m[\u001b[0m\u001b[0;34m:\u001b[0m\u001b[0;36m100\u001b[0m\u001b[0;34m]\u001b[0m\u001b[0;34m)\u001b[0m\u001b[0;34m)\u001b[0m\u001b[0;34m\u001b[0m\u001b[0;34m\u001b[0m\u001b[0m\n\u001b[1;32m      5\u001b[0m \u001b[0madv_list\u001b[0m\u001b[0;34m=\u001b[0m\u001b[0;34m[\u001b[0m\u001b[0;34m]\u001b[0m\u001b[0;34m\u001b[0m\u001b[0;34m\u001b[0m\u001b[0m\n",
      "\u001b[0;31mNameError\u001b[0m: name 'model_naif' is not defined"
     ]
    }
   ],
   "source": [
    "model_naif=models_dict[0]\n",
    "model_to_attack=TensorFlowModel(model_naif , bounds=(0, 255))\n",
    "attack=LinfFastGradientAttack()\n",
    "image_list=X_test[:100]\n",
    "labels=list(map(np.argmax,y_test[:100]))\n",
    "adv_list=[]\n",
    "true_label=[]\n",
    "for i,image in enumerate(tqdm(image_list,position=0)):\n",
    "    image = np.asarray(image)[:,:,:3].astype('float32')\n",
    "    image = convert_to_tensor(np.expand_dims(image,axis=0))\n",
    "    label=labels[i]\n",
    "    label = tf.convert_to_tensor(np.array([label]))\n",
    "    _, clipped, is_adv = attack(model_to_attack,image,label,epsilons=50)\n",
    "    if bool(is_adv[0])==True:\n",
    "        adv_list.append(np.array(clipped[0]))\n",
    "        true_label.append(labels[i])\n",
    "    "
   ]
  },
  {
   "cell_type": "markdown",
   "metadata": {},
   "source": [
    "Let's visualize the outputs of the softmax layers of the different models when given the adversarial images "
   ]
  },
  {
   "cell_type": "code",
   "execution_count": null,
   "metadata": {},
   "outputs": [],
   "source": [
    "adv_image_num=9\n",
    "\n",
    "\n",
    "plt.figure(figsize=(10,10))\n",
    "ax = plt.subplot(3, 3, 2)\n",
    "plt.imshow(adv_list[adv_image_num].astype('int32'))\n",
    "for i,c in enumerate([0,0.1,0.3,0.5,0.7,0.9]): \n",
    "    ax = plt.subplot(3, 3, 3+i + 1)\n",
    "    color=['blue' for i in range(10)]\n",
    "    prediction=models_dict[c].predict(np.expand_dims(adv_list[adv_image_num],axis=0))[0]\n",
    "    if np.argmax(prediction)==true_label[adv_image_num]:\n",
    "        color[true_label[adv_image_num]]='green'\n",
    "    else:\n",
    "        color[np.argmax(prediction)]='red'\n",
    "    plt.bar(x=[i for i in range(10)], height=prediction,color=color)\n",
    "    plt.title('c: '+str(c))\n"
   ]
  },
  {
   "cell_type": "code",
   "execution_count": null,
   "metadata": {},
   "outputs": [],
   "source": [
    "adv_image_num=10\n",
    "\n",
    "\n",
    "plt.figure(figsize=(10,10))\n",
    "ax = plt.subplot(3, 3, 2)\n",
    "plt.imshow(adv_list[adv_image_num].astype('int32'))\n",
    "for i,c in enumerate([0,0.1,0.3,0.5,0.7,0.9]): \n",
    "    ax = plt.subplot(3, 3, 3+i + 1)\n",
    "    color=['blue' for i in range(10)]\n",
    "    prediction=models_dict[c].predict(np.expand_dims(adv_list[adv_image_num],axis=0))[0]\n",
    "    if np.argmax(prediction)==true_label[adv_image_num]:\n",
    "        color[true_label[adv_image_num]]='green'\n",
    "    else:\n",
    "        color[np.argmax(prediction)]='red'\n",
    "    plt.bar(x=[i for i in range(10)], height=prediction,color=color)\n",
    "    plt.title('c: '+str(c))"
   ]
  }
 ],
 "metadata": {
  "kernelspec": {
   "display_name": "Benchmark2",
   "language": "python",
   "name": "benchmark"
  },
  "language_info": {
   "codemirror_mode": {
    "name": "ipython",
    "version": 3
   },
   "file_extension": ".py",
   "mimetype": "text/x-python",
   "name": "python",
   "nbconvert_exporter": "python",
   "pygments_lexer": "ipython3",
   "version": "3.6.9"
  }
 },
 "nbformat": 4,
 "nbformat_minor": 2
}
